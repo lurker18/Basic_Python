{
 "cells": [
  {
   "cell_type": "markdown",
   "id": "2e4124d1",
   "metadata": {},
   "source": [
    "# 파이썬 기초"
   ]
  },
  {
   "cell_type": "markdown",
   "id": "ee1d7fc9",
   "metadata": {},
   "source": [
    "## 사칙연산 "
   ]
  },
  {
   "cell_type": "code",
   "execution_count": null,
   "id": "ccd2c40e",
   "metadata": {},
   "outputs": [],
   "source": [
    "#더하기(+)\n",
    "1 + 2 # 덧셈"
   ]
  },
  {
   "cell_type": "code",
   "execution_count": null,
   "id": "1904d85e",
   "metadata": {},
   "outputs": [],
   "source": [
    "1000 + 500 + 10 + 5 # 덧셈"
   ]
  },
  {
   "cell_type": "code",
   "execution_count": null,
   "id": "0e289e45",
   "metadata": {},
   "outputs": [],
   "source": [
    "# Q1. 1부터 10까지의 합값(Sum)은 무엇인가?\n",
    "\n",
    "\n",
    "\n"
   ]
  },
  {
   "cell_type": "code",
   "execution_count": null,
   "id": "d8b0c98c",
   "metadata": {},
   "outputs": [],
   "source": [
    "# 빼기(-)\n",
    "2 - 1 # 뺄셈"
   ]
  },
  {
   "cell_type": "code",
   "execution_count": null,
   "id": "132a2273",
   "metadata": {},
   "outputs": [],
   "source": [
    "999 - 90 - 9 # 뺄셈"
   ]
  },
  {
   "cell_type": "code",
   "execution_count": null,
   "id": "a9b23d81",
   "metadata": {},
   "outputs": [],
   "source": [
    "# Q2. 1000에서 10을 뺀값(Difference)은 무엇인가?\n",
    "\n"
   ]
  },
  {
   "cell_type": "code",
   "execution_count": null,
   "id": "7fd651d6",
   "metadata": {},
   "outputs": [],
   "source": [
    "# 곱하기(*)\n",
    "100 * 10 # 곱셈"
   ]
  },
  {
   "cell_type": "code",
   "execution_count": null,
   "id": "9551fc25",
   "metadata": {},
   "outputs": [],
   "source": [
    "500 * 10 * 1 # 곱셈"
   ]
  },
  {
   "cell_type": "code",
   "execution_count": null,
   "id": "56a9b107",
   "metadata": {},
   "outputs": [],
   "source": [
    "# Q3. 1000에서 10을 곱했는값(Multiply)은 무엇인가?\n",
    "\n"
   ]
  },
  {
   "cell_type": "code",
   "execution_count": null,
   "id": "bf3a301b",
   "metadata": {},
   "outputs": [],
   "source": [
    "# 나누기(/)\n",
    "100 / 10 # 나눗셈"
   ]
  },
  {
   "cell_type": "code",
   "execution_count": null,
   "id": "473768b2",
   "metadata": {},
   "outputs": [],
   "source": [
    "600 / 10 / 2 / 2 # 나눗셈"
   ]
  },
  {
   "cell_type": "code",
   "execution_count": null,
   "id": "fed18dcb",
   "metadata": {},
   "outputs": [],
   "source": [
    "300 // 2 # 나누고 몫값만 저장/출력"
   ]
  },
  {
   "cell_type": "code",
   "execution_count": null,
   "id": "4684cf09",
   "metadata": {},
   "outputs": [],
   "source": [
    "print(151 / 2)  # 일반 나눗셈(/)\n",
    "print(151 // 2) # 몫값만 구함(//)"
   ]
  },
  {
   "cell_type": "code",
   "execution_count": null,
   "id": "ede99f0f",
   "metadata": {},
   "outputs": [],
   "source": [
    "print(100 / 2)  # 일반 나눗셈(/)\n",
    "print(121 // 2) # 몫값만 구함(//)"
   ]
  },
  {
   "cell_type": "code",
   "execution_count": null,
   "id": "2dff6d26",
   "metadata": {},
   "outputs": [],
   "source": [
    "print(10 / 2)   # 일반 나눗셈(/)\n",
    "print(159 // 2) # 몫값만 구함(//)"
   ]
  },
  {
   "cell_type": "code",
   "execution_count": null,
   "id": "4b027c58",
   "metadata": {},
   "outputs": [],
   "source": [
    "# Q4. 1000에서 10을 나눈값(Divide)은 무엇인가?\n",
    "\n"
   ]
  },
  {
   "cell_type": "code",
   "execution_count": null,
   "id": "5d60c9f5",
   "metadata": {},
   "outputs": [],
   "source": [
    "# 문자들끼리도 연산자 덧셈이 가능\n",
    "\"파이썬\" + \"C언어\""
   ]
  },
  {
   "cell_type": "code",
   "execution_count": null,
   "id": "875479eb",
   "metadata": {},
   "outputs": [],
   "source": [
    "# Q5. \"파이썬은 처임이다!\" 란 문장을 각 단어별로 연산자(+)를 사용하여 출력해보세요.\n",
    "# 주의: 공백도 있습니다!\n",
    "\n"
   ]
  },
  {
   "cell_type": "code",
   "execution_count": null,
   "id": "3097928c",
   "metadata": {},
   "outputs": [],
   "source": [
    "# 문자들끼리도 연산자 곱셈이 가능\n",
    "\"파이썬\" * 3"
   ]
  },
  {
   "cell_type": "markdown",
   "id": "6368b5e2",
   "metadata": {},
   "source": [
    "# 변수에 숫자 대입하고 계산하기"
   ]
  },
  {
   "cell_type": "code",
   "execution_count": null,
   "id": "dc7a3aa1",
   "metadata": {},
   "outputs": [],
   "source": [
    "# 예시 덧셈(+) 활용\n",
    "\n",
    "a = 1 # a변수에 1을 대입함\n",
    "b = 2 # b변수에 2를 대입함\n",
    "a + b # a 더하기 b <==> 1 더하기 2와 같다."
   ]
  },
  {
   "cell_type": "code",
   "execution_count": null,
   "id": "ab8770c5",
   "metadata": {},
   "outputs": [],
   "source": [
    "a = 500  # a변수에 500을 대입함\n",
    "b = 100  # b변수에 100을 대입함\n",
    "c = 1000 # c변수에 1000을 대입함\n",
    "d = 999  # d변수에 999를 대입함\n",
    "e = 55   # e변수에 55를 대입함\n",
    "\n",
    "a + b + c + d + e # a변수부터 e변수까지 모두 더함"
   ]
  },
  {
   "cell_type": "code",
   "execution_count": null,
   "id": "04e8ec81",
   "metadata": {},
   "outputs": [],
   "source": [
    "# Q5. 두개 이상의 변수를 임의로 선정하여 합값인 1000을 나오게 코딩해주세요.\n",
    "\n"
   ]
  },
  {
   "cell_type": "code",
   "execution_count": null,
   "id": "76fcc26e",
   "metadata": {},
   "outputs": [],
   "source": [
    "# 예시 뺄셈(-) 활용\n",
    "\n",
    "f = 1000 # f변수에 1000을 대입함\n",
    "g = 10   # g변수에 10를 대입함\n",
    "f - g    # f변수 빼기 g변수 <==> 1000 빼기 10과 같다.\n"
   ]
  },
  {
   "cell_type": "code",
   "execution_count": null,
   "id": "84c2d6ff",
   "metadata": {},
   "outputs": [],
   "source": [
    "a = 500  # a변수에 500을 대입함\n",
    "b = 100  # b변수에 100을 대입함\n",
    "c = 1000 # c변수에 1000을 대입함\n",
    "d = 999  # d변수에 999를 대입함\n",
    "e = 55   # e변수에 55를 대입함\n",
    "\n",
    "a - b - c - d - e # a변수부터 e변수까지 모두 뺌"
   ]
  },
  {
   "cell_type": "code",
   "execution_count": null,
   "id": "0575d42e",
   "metadata": {},
   "outputs": [],
   "source": [
    "# 예시 곱셈(*) 활용\n",
    "\n",
    "a = 10 # a변수에 10을 대입함\n",
    "b = 10 # b변수에 10을 대입함\n",
    "a * b"
   ]
  },
  {
   "cell_type": "code",
   "execution_count": null,
   "id": "926cf519",
   "metadata": {},
   "outputs": [],
   "source": [
    "a = 50  # a변수에 50을 대입함\n",
    "b = 10  # b변수에 10을 대입함\n",
    "c = 100 # c변수에 100을 대입함\n",
    "d = 99  # d변수에 99를 대입함\n",
    "e = 5   # e변수에 5를 대입함\n",
    "\n",
    "a * b * c * d * e # a변수부터 e변수까지 모두 곱함"
   ]
  },
  {
   "cell_type": "code",
   "execution_count": null,
   "id": "64592968",
   "metadata": {},
   "outputs": [],
   "source": [
    "# Q6. 두개 이상의 변수를 임의로 선정하여  곱했는값이 1000이 나오게 코딩해주세요.\n",
    "\n"
   ]
  },
  {
   "cell_type": "code",
   "execution_count": null,
   "id": "589afd54",
   "metadata": {},
   "outputs": [],
   "source": [
    "# 예시 나눗셈(/) 활용\n",
    "\n",
    "f = 1000 # f변수에 1000을 대입함\n",
    "g = 10   # g변수에 10를 대입함\n",
    "f / g    # f변수 나누기 g변수 <==> 1000 나누기 10과 같다."
   ]
  },
  {
   "cell_type": "code",
   "execution_count": null,
   "id": "217df640",
   "metadata": {},
   "outputs": [],
   "source": [
    "a = 500000  # a변수에 500000을 대입함\n",
    "b = 100  # b변수에 100을 대입함\n",
    "c = 100 # c변수에 100을 대입함\n",
    "d = 5  # d변수에 5를 대입함\n",
    "e = 2   # e변수에 2를 대입함\n",
    "\n",
    "a / b / c / d / e # a변수부터 e변수까지 모두 곱함"
   ]
  },
  {
   "cell_type": "code",
   "execution_count": null,
   "id": "fc936eb4",
   "metadata": {},
   "outputs": [],
   "source": [
    "# Q7. 두개 이상의 변수를 임의로 선정하여 나누는값이 1000이 나오게 코딩해주세요.\n",
    "\n",
    "\n"
   ]
  },
  {
   "cell_type": "markdown",
   "id": "e54019f7",
   "metadata": {},
   "source": [
    "# 연산자(+-*/)와 같은 변수간의 관계"
   ]
  },
  {
   "cell_type": "code",
   "execution_count": null,
   "id": "31fe5c17",
   "metadata": {
    "scrolled": true
   },
   "outputs": [],
   "source": [
    "# 예시\n",
    "a = 1     # a에 1을 대입함.\n",
    "a = a + 1 # a변수에 또 이전 a값에 1을 더해서 a에 다시 대입함.\n",
    "print(a)  # 그래서 a에는 1+1을 계산하고 2가 저장되어 있다."
   ]
  },
  {
   "cell_type": "code",
   "execution_count": null,
   "id": "6474d3fd",
   "metadata": {},
   "outputs": [],
   "source": [
    "# 예시   같은 변수에 계속 연산자를 사용하여 저장할 때는 아래처럼 짧게 코딩 작성도 허용한다.\n",
    "        # 위 예시와 비교하세요!\n",
    "a = 1   # a에 1을 대입함.\n",
    "a += 1  # a변수에 또 이전 a값에 1을 더해서 a에 다시 대입함.\n",
    "print(a)# 그래서 a에는 1+1을 계산하고 2가 저장되어 있다."
   ]
  },
  {
   "cell_type": "code",
   "execution_count": null,
   "id": "112342f4",
   "metadata": {},
   "outputs": [],
   "source": [
    "# 예시 뺄셈 (-=)\n",
    "b = 4        # b에 4를 대입함\n",
    "b = b - 1   # b에다가 1을 뺌\n",
    "print(b)    # 그래서 b는 3이 나온다."
   ]
  },
  {
   "cell_type": "code",
   "execution_count": null,
   "id": "be6aa910",
   "metadata": {},
   "outputs": [],
   "source": [
    "# 예시 뺄셈 (-=)\n",
    "b = 4\n",
    "b -= 1\n",
    "print(b) "
   ]
  },
  {
   "cell_type": "code",
   "execution_count": null,
   "id": "7578dabc",
   "metadata": {},
   "outputs": [],
   "source": [
    "# 예시 곱셈 (*=)\n",
    "c = 5\n",
    "c = c * 2\n",
    "print(c)"
   ]
  },
  {
   "cell_type": "code",
   "execution_count": null,
   "id": "5674b431",
   "metadata": {},
   "outputs": [],
   "source": [
    "# 예시 곱셈 (*=)\n",
    "c = 5\n",
    "c *= 2\n",
    "print(c)"
   ]
  },
  {
   "cell_type": "code",
   "execution_count": null,
   "id": "e762cff2",
   "metadata": {},
   "outputs": [],
   "source": [
    "# 예시 나눗셈 (/=)\n",
    "d = 10\n",
    "d = d / 2\n",
    "print(d)"
   ]
  },
  {
   "cell_type": "code",
   "execution_count": null,
   "id": "a5227151",
   "metadata": {},
   "outputs": [],
   "source": [
    "# 예시 나눗셈 (/=)\n",
    "d = 10\n",
    "d /= 2\n",
    "print(d)"
   ]
  },
  {
   "cell_type": "markdown",
   "id": "e61bdad4",
   "metadata": {},
   "source": [
    "# 변수에 문자 대입하고 출력하기"
   ]
  },
  {
   "cell_type": "code",
   "execution_count": null,
   "id": "38023981",
   "metadata": {},
   "outputs": [],
   "source": [
    "# 예시1\n",
    "\n",
    "a = \"파이썬\" # a변수에 '파이썬'이란 문자를 대입함\n",
    "b = \"C언어\"  # b변수에 'C언어'이란 문자를 대입함\n",
    "c = \"자바\"   # c변수에 '자바'이란 문자를 대입함\n",
    "\n",
    "print(a)     # a에 담긴 문자를 출력하기 위해 print()문을 사용함\n",
    "print(b)     # b에 담긴 문자를 출력하기 위해 print()문을 사용함\n",
    "print(c)     # c에 담긴 문자를 출력하기 위해 print()문을 사용함"
   ]
  },
  {
   "cell_type": "code",
   "execution_count": null,
   "id": "8a46fd4c",
   "metadata": {
    "scrolled": true
   },
   "outputs": [],
   "source": [
    "# 예시2: 다음 줄 변경 (\\n 의 활용) --> \\n은 새로운 줄을 의미한다.\n",
    "\n",
    "a = \"파이썬은 컴퓨터언어 이다.C언어도 컴퓨터언어 이다.\" # a변수에 '파이썬은 컴퓨터언어 이다.C언어도 컴퓨터언어 이다.'이란 문장을 대입함\n",
    "print(\"*************************\")\n",
    "print(a)     # a에 담긴 문장을 한줄로 출력된다.\n",
    "print(\"*************************\")\n",
    "\n",
    "\n",
    "b = \"파이썬은 컴퓨터언어 이다.\\nC언어도 컴퓨터언어 이다.\" # b변수에 '파이썬은 컴퓨터언어 이다.C언어도 컴퓨터언어 이다.'이란 문장을 대입함\n",
    "print(\"*************************\")\n",
    "print(b)     # b에 담긴 문장들을 하나 문장마다 새로운 줄로 출력함.\n",
    "print(\"*************************\")\n",
    "\n",
    "\n",
    "c = \"파이썬은\\n컴퓨터언어\\n이다.\\nC언어도\\n컴퓨터언어\\n이다.\" # c변수에 '파이썬은 컴퓨터언어 이다.C언어도 컴퓨터언어 이다.'이란 문장을 대입함\n",
    "print(\"*************************\")\n",
    "print(c)     # c에 담긴 문장들을 \\n기준으로 새로운 줄로 출력됨.\n",
    "print(\"*************************\")"
   ]
  },
  {
   "cell_type": "code",
   "execution_count": null,
   "id": "5454bb70",
   "metadata": {},
   "outputs": [],
   "source": [
    "# 예시3: 탭(tab)으로 변경 (\\t 의 활용) --> \\t은 특정한 문장들이나 문자를 구조화 시킬때 사용됨.\n",
    "# 비교 여러개의 공백과 탭(Tab)의 차이\n",
    "\n",
    "a = \"파이썬은 컴퓨터언어 이다.C언어도 컴퓨터언어 이다.\" # a변수에 '파이썬은 컴퓨터언어 이다.C언어도 컴퓨터언어 이다.'이란 문장을 대입함\n",
    "print(\"*************************\")\n",
    "print(a)     # a에 담긴 문장을 한줄로 출력된다.\n",
    "print(\"*************************\")\n",
    "\n",
    "\n",
    "b = \"파이썬은    컴퓨터언어        이다. C언어도       컴퓨터언어      이다.\" # b변수에 '파이썬은    컴퓨터언어        이다. C언어도       컴퓨터언어      이다.'\n",
    "                                                                              # 이란 문장에 여러개의 공백이 포함됨.\n",
    "print(\"*************************\")\n",
    "print(b)     # b에 담긴 문장들을 하나 문장마다 새로운 줄로 출력함.\n",
    "print(\"*************************\")\n",
    "\n",
    "\n",
    "c = \"파이썬은\\t컴퓨터언어\\t이다.\\tC언어도\\t컴퓨터언어\\t이다.\" # c변수에 '파이썬은 컴퓨터언어 이다.C언어도 컴퓨터언어 이다.'이란 문장을 대입함\n",
    "print(\"*************************\")\n",
    "print(c)     # c에 담긴 문장들을 \\t기준으로 표준 탭(Tab)길이 만큼 공간을 뛰운다.\n",
    "print(\"*************************\")"
   ]
  },
  {
   "cell_type": "code",
   "execution_count": null,
   "id": "23e9adef",
   "metadata": {},
   "outputs": [],
   "source": [
    "# Q8. 자유롭게 문장하나를 \"\" (큰 따옴표) 또는 ''(작은 따옴표)를 사용하여 변수에 할당하여 출력해보세요.\n",
    "\n",
    "\n"
   ]
  },
  {
   "cell_type": "markdown",
   "id": "fe774a11",
   "metadata": {},
   "source": [
    "# print()문 하나로 다양한 출력 방법이 있다!"
   ]
  },
  {
   "cell_type": "code",
   "execution_count": null,
   "id": "09ac59a5",
   "metadata": {},
   "outputs": [],
   "source": [
    "# 예시1.\n",
    "print(\"파이썬\")\n",
    "print(\"100\")"
   ]
  },
  {
   "cell_type": "code",
   "execution_count": null,
   "id": "0e3cd014",
   "metadata": {},
   "outputs": [],
   "source": [
    "# 예시2. .format()으로 {}(중 괄호) 순서대로 입력되어 출력됨.\n",
    "print(\"김군의 나이는 {}이고, 키는 {}이며, 고향은 {}이다!\".format(28, 174, '대구')) # 순서대로 28(나이) , 174(키), 대구 (고향)값이 입력됨."
   ]
  },
  {
   "cell_type": "code",
   "execution_count": null,
   "id": "e4981862",
   "metadata": {},
   "outputs": [],
   "source": [
    "# 예시3. .format()으로 {}(중 괄호) 순서대로 입력되어 출력됨. 숫자로 순서를 표시할 수도 있다.\n",
    "print(\"김군의 나이는 {0}이고, 키는 {1}이며, 고향은 {2}이다!\".format(28, 174, '대구')) # 순서대로 28(0) , 174(1), 대구 (2)값이 입력됨."
   ]
  },
  {
   "cell_type": "code",
   "execution_count": null,
   "id": "e7f606a2",
   "metadata": {},
   "outputs": [],
   "source": [
    "# 예시4. .format()으로 {}(중 괄호) 순서대로 입력되어 출력됨. 숫자로 순서를 표시할 수도 있다.\n",
    "\n",
    "print(\"김군의 고향은 {2}이고, 키는 {1}이며, 나이는 {0}이다!\".format(28, 174, '대구')) # 순서대로 28(0) , 174(1), 대구 (2)값이 저장됨.\n",
    "\n",
    "# format()에서 작성한 값 순서를 기억할 수 있다면 특정한 문장 어디든 {(숫자)}를 입력하면 해당된 숫자의 값을 출력할 수 있다."
   ]
  },
  {
   "cell_type": "code",
   "execution_count": null,
   "id": "de96a38a",
   "metadata": {},
   "outputs": [],
   "source": [
    "# 예시5. .format()으로 {}(중 괄호) 순서대로 입력되어 출력됨. 이름으로 표시할 수도 있다.\n",
    "\n",
    "print(\"김군의 나이는 {나이}이고, 키는 {키}이며, 고향은 {고향}이다!\".format(나이 = 28, 키 = 174, 고향 = '대구')) # 순서대로 나이:28 , 키:174, 고향: 대구 값이 사전처럼 저장됨.\n",
    "\n",
    "# format()에서 작성한 값 순서를 기억할 수 있다면 특정한 문장 어디든 {(숫자)}를 입력하면 해당된 숫자의 값을 출력할 수 있다."
   ]
  },
  {
   "cell_type": "code",
   "execution_count": null,
   "id": "2f50316c",
   "metadata": {},
   "outputs": [],
   "source": [
    "# 예시6. .format()대신 %를 사용하여 특정한 타입을 미리 고정할 수 있다. 숫자 타입 (%d)\n",
    "print(\"%d\" % 100)"
   ]
  },
  {
   "cell_type": "code",
   "execution_count": null,
   "id": "3adf90bb",
   "metadata": {},
   "outputs": [],
   "source": [
    "# 예시7. .format()대신 %를 사용하여 특정한 타입을 미리 고정할 수 있다. 문자 타입 (%s)\n",
    "print(\"김군의 고향은 %s이다.\" % '대구')"
   ]
  },
  {
   "cell_type": "code",
   "execution_count": null,
   "id": "924f4c35",
   "metadata": {},
   "outputs": [],
   "source": [
    "# 예시8. .format()대신 %를 사용하여 특정한 타입을 미리 고정할 수 있다. 여러가지의 값을 입력할 때는 ()튜플 형태로 작성하고 타입만 잘 설정하면 된다.\n",
    "print(\"김군의 고향은 %d이고, 키는 %d이며, 나이는 %s이다!\" % (28, 174, '대구')) # 28은 %d / 174도 %d / 대구는 '%s'"
   ]
  },
  {
   "cell_type": "markdown",
   "id": "c82f9133",
   "metadata": {},
   "source": [
    "# Input() --> 원하는 값을 입력하여 사용"
   ]
  },
  {
   "cell_type": "code",
   "execution_count": null,
   "id": "f6b77456",
   "metadata": {},
   "outputs": [],
   "source": [
    "input() # input()이라고 실행하면 입력 공간이 생겨 원하는 값(문자 또는 숫자)을 입력하면 된다.\n",
    "        # 확인 하기 위해 자동으로 입력값이 출력됨.\n",
    "        # 모든 입력값은 '문자'형태로 저장되며, 숫자도 기본으로 '문자'타입으로 저장됨."
   ]
  },
  {
   "cell_type": "code",
   "execution_count": null,
   "id": "606f6be2",
   "metadata": {},
   "outputs": [],
   "source": [
    "a = input() # 입력값을 a변수에 할당함.\n",
    "print(a)    # a를 출력함."
   ]
  },
  {
   "cell_type": "code",
   "execution_count": null,
   "id": "047e2cb9",
   "metadata": {},
   "outputs": [],
   "source": [
    "b = int(input()) # 이 같은 경우 int()타입으로 강제로 변환하여 입력값이 숫자이면 강제로 숫자(int) 타입으로 변환함.\n",
    "print(type(b))"
   ]
  },
  {
   "cell_type": "markdown",
   "id": "6e440387",
   "metadata": {},
   "source": [
    "# Len() --> 길이"
   ]
  },
  {
   "cell_type": "code",
   "execution_count": null,
   "id": "2ab474cb",
   "metadata": {},
   "outputs": [],
   "source": [
    "# 예시\n",
    "a = \"파이썬\"             # '파이썬'이란 단어의 길이는 3이다.\n",
    "b = \"Hello World\"        # 'Hello World'란 단어들의 총 길이는 11이다. 주의: 공백도 길이에 포함한다.\n",
    "c = \"파이썬은 처음이다!\" # '파이썬은 처음이다!'이란 문장 길이는 10이다. 주의: 특수문자(!?&^ 등)도 길이에 포함된다.\n",
    "print(len(a))\n",
    "print(len(b))\n",
    "print(len(c))"
   ]
  },
  {
   "cell_type": "code",
   "execution_count": null,
   "id": "a47f48a5",
   "metadata": {},
   "outputs": [],
   "source": [
    "# Q9. 자유롭게 문장하나를 \"\" (큰 따옴표) 또는 ''(작은 따옴표)를 사용하여 총 길이를 출력해보세요.\n"
   ]
  },
  {
   "cell_type": "markdown",
   "id": "87de5798",
   "metadata": {},
   "source": [
    "# range() --> 범위"
   ]
  },
  {
   "cell_type": "code",
   "execution_count": null,
   "id": "bb5f8307",
   "metadata": {},
   "outputs": [],
   "source": [
    "# 예시1 오름차순 가능\n",
    "a = range(0, 10) # 0~9까지. 주의: 설정한 범위에서 마지막 숫자는 포함되지 않는다. 즉, 10(X) / 9(O) / 1(O) 등\n",
    "b = range(1, 100) # 1~99까지\n",
    "\n",
    "print(len(a))\n",
    "print(len(b))"
   ]
  },
  {
   "cell_type": "code",
   "execution_count": null,
   "id": "e9adb98f",
   "metadata": {},
   "outputs": [],
   "source": [
    "# 예시2 오름차순 가능\n",
    "a = range(0, 10,  2) # 0~9까지. 2단위 별로 증가함 (짝수)\n",
    "b = range(1, 100, 3) # 1~99까지 3단위 별로 증가함 (홀수)\n",
    "\n",
    "print(a)\n",
    "print(b)"
   ]
  },
  {
   "cell_type": "code",
   "execution_count": null,
   "id": "dc9bc7a4",
   "metadata": {},
   "outputs": [],
   "source": [
    "# 예시3 오름차순 가능\n",
    "a = range(0, 10,  2) # 0~9까지. 2단위 별로 증가함 (짝수)\n",
    "b = range(1, 100, 3) # 1~99까지 3단위 별로 증가함 (홀수)\n",
    "\n",
    "print(len(a)) # 0~9까지. 단, 2단위로 증가함. 총 5개의 숫자 (0, 2, 4, 6, 8)\n",
    "print(len(b)) # 1~99까지. 단, 3단위로 증가함. 총 33개의 숫자 (0, 3, 6, 9, 12, ..., 99)"
   ]
  },
  {
   "cell_type": "code",
   "execution_count": null,
   "id": "0a7365ea",
   "metadata": {},
   "outputs": [],
   "source": [
    "# 예시4 내림차순도 가능\n",
    "a = range(5, 0,  -1) # 1~5까지. -1단위 별로 감소함\n",
    "b = range(10, 0, -2) # 1~9까지 -2단위 별로 증가함 (짝수)\n",
    "\n",
    "print(len(a)) # 1~5까지. 단, -1단위로 감소함. 총 5개의 숫자 (5, 4, 3, 2, 1)\n",
    "print(len(b)) # 1~9까지. 단, -2단위로 감소함. 총 5개의 숫자 (10, 8, 6, 4, 2)"
   ]
  },
  {
   "cell_type": "code",
   "execution_count": null,
   "id": "55f2253e",
   "metadata": {},
   "outputs": [],
   "source": [
    "# Q10. 자유롭게 일정한 숫자 범위와 단위 증가를 설정하고 총 길이(갯수)를 출력해보세요.\n",
    "\n"
   ]
  },
  {
   "cell_type": "markdown",
   "id": "4c5e4553",
   "metadata": {},
   "source": [
    "# 변수 형태 / 타입 알아 보자!"
   ]
  },
  {
   "cell_type": "code",
   "execution_count": null,
   "id": "13bb6d53",
   "metadata": {},
   "outputs": [],
   "source": [
    "# 예시1.\n",
    "1 # 숫자 '1'\n",
    "type(1) # 숫자는 기본으로 int타입이다."
   ]
  },
  {
   "cell_type": "code",
   "execution_count": null,
   "id": "5590da2e",
   "metadata": {
    "scrolled": true
   },
   "outputs": [],
   "source": [
    "# 예시2.\n",
    "100 # 숫자 '100'\n",
    "type(100) # 숫자는 기본으로 int타입이다."
   ]
  },
  {
   "cell_type": "code",
   "execution_count": null,
   "id": "78a283d2",
   "metadata": {},
   "outputs": [],
   "source": [
    "# 예시3.\n",
    "'파이썬' # 문자\n",
    "type('파이썬') # 문자는 기본으로 str타입이다."
   ]
  },
  {
   "cell_type": "code",
   "execution_count": null,
   "id": "22d1268b",
   "metadata": {},
   "outputs": [],
   "source": [
    "# 예시4.\n",
    "\"Python\"# 문자\n",
    "type(\"Python\") # 문자는 기본으로 str타입이다."
   ]
  },
  {
   "cell_type": "code",
   "execution_count": null,
   "id": "0b50a318",
   "metadata": {},
   "outputs": [],
   "source": [
    "# 예시5. 리스트 타입\n",
    "[1,2,3,4] # 숫자-리스트\n",
    "type([1,2,3,4]) # 숫자-리스트는 기본으로 list타입이다."
   ]
  },
  {
   "cell_type": "code",
   "execution_count": null,
   "id": "2b7f18bd",
   "metadata": {},
   "outputs": [],
   "source": [
    "# 예시6. 리스트 타입 list()적용\n",
    "a = 1,2,3,4 # 여러가지 숫자를 a변수에 대입함.\n",
    "b = list(a) # list()를 적용하여 강제로 리스트 변환함\n",
    "type(b) "
   ]
  },
  {
   "cell_type": "code",
   "execution_count": null,
   "id": "e6e0a6b7",
   "metadata": {},
   "outputs": [],
   "source": [
    "# 예시7. 튜플 타입 --> ( )사용 \n",
    "a = (1,2,3,4) # 여러가지 숫자를 a변수에 대입함.\n",
    "type(a)"
   ]
  },
  {
   "cell_type": "code",
   "execution_count": null,
   "id": "3e25d701",
   "metadata": {},
   "outputs": [],
   "source": [
    "# 예시8. 튜플 타입\n",
    "a = 1,2,3,4 # 여러가지 숫자를 a변수에 대입함.\n",
    "type(a)"
   ]
  },
  {
   "cell_type": "code",
   "execution_count": null,
   "id": "ba3823c0",
   "metadata": {},
   "outputs": [],
   "source": [
    "# 예시9. 사전 타입 --> 키 : 값 으로 구성함 \n",
    "a = {1 :'a', 2 : 'b', 3 : 'c'} # 여러가지 숫자와 알파벳을 사전 형태로 a변수에 대입함.\n",
    "type(a)"
   ]
  },
  {
   "cell_type": "code",
   "execution_count": null,
   "id": "3d25fcf0",
   "metadata": {},
   "outputs": [],
   "source": [
    "# 예시10. Float 타입\n",
    "100.123 # 실수 '100.123'\n",
    "type(100.123) # 실수는 기본으로 float타입이다."
   ]
  },
  {
   "cell_type": "code",
   "execution_count": null,
   "id": "30544a09",
   "metadata": {},
   "outputs": [],
   "source": [
    "# 예시11. Float 타입\n",
    "-100.123 # 실수 '-100.123'\n",
    "type(-100.123)"
   ]
  },
  {
   "cell_type": "code",
   "execution_count": null,
   "id": "4e6c2a60",
   "metadata": {},
   "outputs": [],
   "source": [
    "# 예시12. boolean 타입\n",
    "print(True) # 참\n",
    "print(False)# 거짓"
   ]
  },
  {
   "cell_type": "code",
   "execution_count": null,
   "id": "e96343b4",
   "metadata": {},
   "outputs": [],
   "source": [
    "# 예시13. boolean 타입 비교\n",
    "print(True == True)    # 참은 참이다. 그래서 참이 출력됨\n",
    "print(False == False) # 거짓은 거짓이다. 그래서 참이 출력됨\n",
    "print(True == False)  # 참은 거짓이 아니다. 그래서 거짓이 출력됨\n",
    "print(False == True)  # 거짓은 참이 아니다. 그래서 거짓이 출력됨"
   ]
  },
  {
   "cell_type": "code",
   "execution_count": null,
   "id": "fb504c76",
   "metadata": {},
   "outputs": [],
   "source": [
    "# 예시. 변수 활용\n",
    "\n",
    "a = \"Python\"# 문자 타입\n",
    "print(type(a))\n",
    "\n",
    "a1 = 1               # 숫자 이지만...\n",
    "print(type(str(a1))) # str()로 덮어시우면 문자형태로 변환됨\n",
    "\n",
    "b = 1       # 숫자 타입\n",
    "print(type(b))\n",
    "\n",
    "c = [1,2,3,4]\n",
    "print(type(c)) # 숫자 리스트 타입\n",
    "\n",
    "d = ['a','b','c']\n",
    "print(type(d)) # 문자 리스트 타입\n",
    "\n",
    "e = {1 : 'a', 2 : 'b', 3 : 'c', 4 : 'd'}\n",
    "print(type(e)) # 사전 타입\n",
    "\n",
    "f = 99.99\n",
    "print(type(f)) # Float 타입\n",
    "\n",
    "g = (1,2,3,4,5)\n",
    "print(type(g)) # 튜플 타입\n",
    "\n",
    "h = True\n",
    "print(type(h)) # 불리언 타입\n",
    "\n",
    "i = False\n",
    "print(type(i)) # 불리언 타입"
   ]
  },
  {
   "cell_type": "markdown",
   "id": "1731eb02",
   "metadata": {},
   "source": [
    "# 타입 변환"
   ]
  },
  {
   "cell_type": "code",
   "execution_count": null,
   "id": "72a99831",
   "metadata": {},
   "outputs": [],
   "source": [
    "# 예시1. 문자 타입으로 변환 str()\n",
    "a = 6    # 숫자 타입 (Int)으로 출발\n",
    "str(a)   # a변수는 문자(string)로 변환함"
   ]
  },
  {
   "cell_type": "code",
   "execution_count": null,
   "id": "d7519cf7",
   "metadata": {},
   "outputs": [],
   "source": [
    "# 예시2. 숫자 타입으로 변환 int()\n",
    "\n",
    "# 변환 전\n",
    "a = input()    # 입력값이 숫자이지만 실제로는 문자 형태이다.\n",
    "print(type(a))\n",
    "\n",
    "\n",
    "# 변환 후\n",
    "print(type(int(a))) # a변수는 숫자(integer)로 변환함"
   ]
  },
  {
   "cell_type": "code",
   "execution_count": null,
   "id": "748fb3a1",
   "metadata": {},
   "outputs": [],
   "source": [
    "# 예시3. list 타입으로 변환 list()\n",
    "a = 1,2,3,4  # 튜플(tuple) 타입으로 출발\n",
    "list(a)      # list 타입으로 변환함"
   ]
  },
  {
   "cell_type": "code",
   "execution_count": null,
   "id": "26b201ed",
   "metadata": {},
   "outputs": [],
   "source": [
    "# 예시4. set 타입으로 변환 set()\n",
    "a = [1,2,3,4]  # 리스트 타입으로 출발함\n",
    "set(a)         # 세트(set) 타입으로 변환함."
   ]
  },
  {
   "cell_type": "code",
   "execution_count": null,
   "id": "f9aeb30a",
   "metadata": {},
   "outputs": [],
   "source": [
    "# 예시4. 튜플(Tuple) 타입으로 변환 tuple()\n",
    "a = [1,2,3,4]  # 리스트 타입으로 출발함\n",
    "tuple(a)       # 튜플 타입으로 변환함"
   ]
  },
  {
   "cell_type": "code",
   "execution_count": null,
   "id": "74eb153d",
   "metadata": {},
   "outputs": [],
   "source": [
    "# 예시5. 정수값(int)을 실수값(float)으로 변환함\n",
    "\n",
    "\n",
    "a = 100        # 숫자 100은 정수이다.\n",
    "float(a)       # 실수(Float)값으로 변환함."
   ]
  },
  {
   "cell_type": "code",
   "execution_count": null,
   "id": "ed7b7282",
   "metadata": {},
   "outputs": [],
   "source": [
    "# 예시6. 실수값(float)을 정수값(int)으로 변환함\n",
    "\n",
    "\n",
    "a = 100.12345       # 숫자 100.12345는 실수값이다.\n",
    "int(a)              # 정수(int)값으로 변환함."
   ]
  },
  {
   "cell_type": "code",
   "execution_count": null,
   "id": "499864fe",
   "metadata": {},
   "outputs": [],
   "source": [
    "# Q1. 자유롭게 숫자 하나를 변수에 할당하시고, 문자 형태로 변환해주세요.\n",
    "\n"
   ]
  },
  {
   "cell_type": "code",
   "execution_count": null,
   "id": "525d9a43",
   "metadata": {},
   "outputs": [],
   "source": [
    "# Q2. 1. 튜플 (tuple) 타입을 사용하여 무작위 숫자를 ,(콤마)로 구분하여 하나의 변수에 할당하시고\n",
    "#     2. 할당된 변수를 리스트(list)로 변환, 그 후 세트(set)로 다시 변환하시\n",
    "#     3. 마지막으로 문자 형태(str)로 변환해주세요.\n",
    "\n"
   ]
  },
  {
   "cell_type": "markdown",
   "id": "174bfad1",
   "metadata": {},
   "source": [
    "# 조건문"
   ]
  },
  {
   "cell_type": "code",
   "execution_count": null,
   "id": "b7b51f8d",
   "metadata": {},
   "outputs": [],
   "source": [
    "# 예시1 if문 활용\n",
    "\n",
    "a = 3\n",
    "if a > 1: # if문은 조건문 중 하나이다. if문구 다음에 오는 변수와 연산자(+,-,*,/) 이나 특수 부호(>,<,in,!=, == 등)를 사용하여 비교한다. \n",
    "          # 해당된 조건이 충족을 못하면 아래 줄인 print()문은 실행되지 않는다.\n",
    "          # 현재 예시로는 3이 1보다 크니까 아래 처럼 print()문을 실행한다.\n",
    "    print(\"a는 1보다 크다!\")"
   ]
  },
  {
   "cell_type": "code",
   "execution_count": null,
   "id": "f189793a",
   "metadata": {},
   "outputs": [],
   "source": [
    "# 예시2 if-else문 활용\n",
    "\n",
    "a = 3\n",
    "b = 10\n",
    "\n",
    "if a > b: # if문 다음에 오는 변수와 연산자(+,-,*,/) 이나 특수 부호(>,<,in,!=, ==, >=, <=  등)를 사용하여 비교한다. \n",
    "          # 해당된 조건이 충족을 못하면 아래 줄인 print()문은 실행되지 않는다.\n",
    "          # 현재 예시로는 3이 10보다 작으니까 첫번째 조건을 충족하지 못하여 else문을 바로 읽고,\n",
    "          # else문 다음에 작성한 명령어를 실행하게 된다.\n",
    "    print(\"a는 b보다 크다!\")\n",
    "else:\n",
    "    print(\"a는 b보다 작다!\")"
   ]
  },
  {
   "cell_type": "code",
   "execution_count": null,
   "id": "a77ebd4d",
   "metadata": {},
   "outputs": [],
   "source": [
    "# 예시3 if-else문 활용\n",
    "\n",
    "a = 1000\n",
    "b = 1000.15\n",
    "\n",
    "if a > b: # if문 다음에 오는 변수와 연산자(+,-,*,/) 이나 특수 부호(>,<,in,!=, ==, >=, <=  등)를 사용하여 비교한다. \n",
    "          # 해당된 조건이 충족을 못하면 아래 줄인 print()문은 실행되지 않는다.\n",
    "          # 현재 예시로는 1000이 1000.15보다 작으니까 첫번째 조건을 충족하지 못하여 else문을 바로 읽고,\n",
    "          # else문 다음에 작성한 명령어를 실행하게 된다.\n",
    "    print(\"a는 b보다 크다!\")\n",
    "else:\n",
    "    print(\"a는 b보다 작다!\")"
   ]
  },
  {
   "cell_type": "code",
   "execution_count": null,
   "id": "1edd58dd",
   "metadata": {},
   "outputs": [],
   "source": [
    "# 예시4 if-else문 활용\n",
    "\n",
    "a = 1001\n",
    "b = 1000.15\n",
    "\n",
    "if a > b: # if문 다음에 오는 변수와 연산자(+,-,*,/) 이나 특수 부호(>,<,in,!=, ==, >=, <=  등)를 사용하여 비교한다. \n",
    "          # 해당된 조건이 충족을 못하면 아래 줄인 print()문은 실행되지 않는다.\n",
    "          # 현재 예시로는 1001은 1000.15보다 크니까 첫번째 조건을 충족하며 해당된 명령어를 실행하여 출력한다.\n",
    "    print(\"a는 b보다 크다!\")\n",
    "else:\n",
    "    print(\"a는 b보다 작다!\")"
   ]
  },
  {
   "cell_type": "code",
   "execution_count": null,
   "id": "9f49300d",
   "metadata": {},
   "outputs": [],
   "source": [
    "# 예시5 if-elif-else문 활용\n",
    "\n",
    "x = 250\n",
    "\n",
    "a = 100\n",
    "b = 150\n",
    "c = 200\n",
    "d = 250\n",
    "\n",
    "\n",
    "if x == a: # if문 다음에 오는 변수와 연산자(+,-,*,/) 이나 특수 부호(>,<,in,!=, ==, >=, <=  등)를 사용하여 비교한다. \n",
    "           # 해당된 조건이 충족을 못하면 아래 줄인 print()문은 실행되지 않는다.\n",
    "           # 첫번째 조건을 충족을 못하니 다음 elif(즉, 또 다른 if문)을 실행하여 조건을 비교하고 충족하면 해당된 명령어를 실행,\n",
    "           # 충족을 못하면 계속 다음 elif문을 읽어 충족할 수 있는 조건을 찾아 해당된 명령어를 실행한다.\n",
    "           # 현재 예시로는 x변수 a,b,c,d변수들을 비교하여 어떤 변수들끼리 같은지 비교하는 조건이다.\n",
    "    print(\"x변수는 a변수와 같다!\")\n",
    "elif x == b:\n",
    "    print(\"x변수는 b변수와 같다!\")\n",
    "elif x == c:\n",
    "    print(\"x변수는 c변수와 같다!\")\n",
    "elif x == d:\n",
    "    print(\"x변수는 d변수와 같다!\")\n",
    "else:\n",
    "    print(\"결국 a, b, c, d도 아닌 x변수는 위 변수와는 같지 안는다!\")"
   ]
  },
  {
   "cell_type": "code",
   "execution_count": null,
   "id": "0ce782d8",
   "metadata": {},
   "outputs": [],
   "source": [
    "# 예시6 if-elif-else문 활용\n",
    "\n",
    "x = \"파이썬은 처음이다!\"\n",
    "\n",
    "a = \"Python\"\n",
    "b = \"파\"\n",
    "c = \"?\"\n",
    "d = 100\n",
    "\n",
    "\n",
    "if a in x: # if문 다음에 오는 변수와 연산자(+,-,*,/) 이나 특수 부호(>,<,in,!=, ==, >=, <= 등)를 사용하여 비교한다. \n",
    "           # 해당된 조건이 충족을 못하면 아래 줄인 print()문은 실행되지 않는다.\n",
    "           # 첫번째 조건을 충족을 못하니 다음 elif(즉, 또 다른 if문)을 실행하여 조건을 비교하고 충족하면 해당된 명령어를 실행,\n",
    "           # 충족을 못하면 계속 다음 elif문을 읽어 충족할 수 있는 조건을 찾아 해당된 명령어를 실행한다.\n",
    "           # 현재 예시로는 x값에 b값이 포함되어 있다.\n",
    "           # 즉, \"파이썬은 처음이다!\"란 x변수에 b의 '파'란 문구를 찾을 수 있다. (포함되어 있다)\n",
    "    print(\"x값에 a값도 포함되어 있다!\")\n",
    "elif b in x:\n",
    "    print(\"x값에 b값도 포함되어 있다!\")\n",
    "elif c in x:\n",
    "    print(\"x값에 c값도 포함되어 있다!\")\n",
    "elif d in x:\n",
    "    print(\"x값에 d값도 포함되어 있다!\")\n",
    "else:\n",
    "    print(\"결국 a, b, c, d값들은 x값에는 포함(즉, 검색)되지 않는다!\")"
   ]
  },
  {
   "cell_type": "code",
   "execution_count": null,
   "id": "d4498825",
   "metadata": {},
   "outputs": [],
   "source": [
    "# 예시7 if-elif-else문 활용\n",
    "\n",
    "x = \"파이썬은 처음이다!\"\n",
    "\n",
    "a = \"Python\"\n",
    "b = \"처음\"\n",
    "c = \"파이썬\"\n",
    "d = 100\n",
    "\n",
    "\n",
    "if a in x: # if문 다음에 오는 변수와 연산자(+,-,*,/) 이나 특수 부호(>,<,in,!=, ==, >=, <= 등)를 사용하여 비교한다. \n",
    "           # 해당된 조건이 충족을 못하면 아래 줄인 print()문은 실행되지 않는다.\n",
    "           # 첫번째 조건을 충족을 못하니 다음 elif(즉, 또 다른 if문)을 실행하여 조건을 비교하고 충족하면 해당된 명령어를 실행,\n",
    "           # 충족을 못하면 계속 다음 elif문을 읽어 충족할 수 있는 조건을 찾아 해당된 명령어를 실행한다.\n",
    "           # 현재 예시로는 x값에 b값과 c값도 포함되어 있다.\n",
    "           # if문도 순서를 지키는 규칙을 가지고 있어서 무조건 첫 번째 조건에 충족하는 시점에서 해당된 명령어만 실행하고 종료한다.\n",
    "           # 즉, c값도 x값에 포함하지만 b와 x의 조건이 우선이라 c조건은 실행하지 않는다. \n",
    "    print(\"x값에 a값도 포함되어 있다!\")\n",
    "elif b in x:\n",
    "    print(\"x값에 b값도 포함되어 있다!\")\n",
    "elif c in x:\n",
    "    print(\"x값에 c값도 포함되어 있다!\")\n",
    "elif d in x:\n",
    "    print(\"x값에 d값도 포함되어 있다!\")\n",
    "else:\n",
    "    print(\"결국 a, b, c, d값들은 x값에는 포함(즉, 검색)되지 않는다!\")"
   ]
  },
  {
   "cell_type": "code",
   "execution_count": null,
   "id": "2ca19765",
   "metadata": {},
   "outputs": [],
   "source": [
    "# Q9. 김군은 특전사 시험을 보기 위해 이론 시험과 체력 시험을 순차적으로 보고 100점 만점에서 90점 이상을 받아야만 합격할 수 있다.\n",
    "#     김군의 점수 결과가 나와 89점을 받았다고 가정하자.\n",
    "#     if문을 활용하여 10단위 별로 설정하고 김군에게 불합격 메시지를 간단하게 작서하여 출력할 수 있게 \n",
    "#     코딩작성을 다음 빈칸을 채워 작성해주세요.\n",
    "\n",
    "kim_goon = 89\n",
    "\n",
    "if kim_goon == :# 빈칸 1. --> '=' 다음에 들어갈 값\n",
    "    print(\"축하드립니다. 귀하는 100점을 받아 특전사 시험에 합격했습니다!\")\n",
    "elif kim_goon in range( , ): # 빈칸 2. range()범위 설정\n",
    "    print(\"축하드립니다. 귀하는 특전사 시험에 합격했습니다!\")\n",
    "elif kim_goon in range( , ): # 빈칸 3. range()범위 설정\n",
    "    print(\"죄송합니다.                                \") # 빈칸 4. 완성된 문장 채우기\n",
    "else:\n",
    "    print(\"죄송합니다. 귀하는 특전사 시험에서 불합격하셨습니다. 다음 기회에 또 지원부탁드립니다.\")"
   ]
  },
  {
   "cell_type": "markdown",
   "id": "047ac125",
   "metadata": {},
   "source": [
    "# 반복문 - For문"
   ]
  },
  {
   "cell_type": "markdown",
   "id": "ff46ec24",
   "metadata": {},
   "source": [
    "### 예시. for를 사용해서 [1, 2, 3, 4]안의 값을 하나씩 출력하는 것을 보여줌"
   ]
  },
  {
   "cell_type": "code",
   "execution_count": null,
   "id": "2abe5da6",
   "metadata": {},
   "outputs": [],
   "source": [
    "# 예시1.\n",
    "for a in [1, 2, 3, 4, 5]:\n",
    "    print(a)"
   ]
  },
  {
   "cell_type": "code",
   "execution_count": null,
   "id": "1fee8f56",
   "metadata": {},
   "outputs": [],
   "source": [
    "# 예시2.\n",
    "for a in 1,2,3,4,5:\n",
    "    print(a)"
   ]
  },
  {
   "cell_type": "code",
   "execution_count": null,
   "id": "14d0d205",
   "metadata": {},
   "outputs": [],
   "source": [
    "# 예시3.\n",
    "for a in range(1,6):\n",
    "    print(a)"
   ]
  },
  {
   "cell_type": "code",
   "execution_count": null,
   "id": "830133ad",
   "metadata": {},
   "outputs": [],
   "source": [
    "# 예시4. 음수(-)도 가능\n",
    "for a in -1, -100, 5, 55:\n",
    "    print(a)"
   ]
  },
  {
   "cell_type": "code",
   "execution_count": null,
   "id": "202155b8",
   "metadata": {},
   "outputs": [],
   "source": [
    "# 예시5. 음수(-)도 가능\n",
    "for a in [-1, -100, 5, 55]:\n",
    "    print(a)"
   ]
  },
  {
   "cell_type": "code",
   "execution_count": null,
   "id": "3c5fcb90",
   "metadata": {
    "scrolled": true
   },
   "outputs": [],
   "source": [
    "# 예시6. 음수(-)도 가능\n",
    "for a in range(5, 0, -1): # range() 범위를 5부터 1까지 -1단위로 출력함\n",
    "    print(a)"
   ]
  },
  {
   "cell_type": "code",
   "execution_count": null,
   "id": "8ff05869",
   "metadata": {},
   "outputs": [],
   "source": [
    "# 예시 문자 연산자 활용 (덧셈 / 곱셈)\n",
    "for a in range(0, 5): # range() 범위를 0부터 4까지 별모양의 갯수만큼 출력함\n",
    "    print(\"*\" * a)"
   ]
  },
  {
   "cell_type": "code",
   "execution_count": null,
   "id": "c1555033",
   "metadata": {},
   "outputs": [],
   "source": [
    "# 예시 문자 연산자 활용 (덧셈 / 곱셈)\n",
    "for a in range(1, 11): # range() 범위를 1부터 10까지 별모양 갯수만큼 출력함\n",
    "    print(\"*\" * a)"
   ]
  },
  {
   "cell_type": "code",
   "execution_count": null,
   "id": "dc5087fc",
   "metadata": {
    "scrolled": true
   },
   "outputs": [],
   "source": [
    "# 예시 문자 연산자 활용 (덧셈 / 곱셈)\n",
    "for a in range(5, 0, -1): # range() 범위를 5부터 1까지 -1단위로 출력함\n",
    "    print(\"*\" * a)"
   ]
  },
  {
   "cell_type": "code",
   "execution_count": null,
   "id": "4a050526",
   "metadata": {},
   "outputs": [],
   "source": [
    "# 예시 문자 연산자 활용 (덧셈 / 곱셈)\n",
    "for a in range(1, 5): # range() 범위를 1부터 4까지 \n",
    "    print(\" \" * (4 - a) + \"*\" * a)"
   ]
  },
  {
   "cell_type": "code",
   "execution_count": null,
   "id": "e6fa844c",
   "metadata": {},
   "outputs": [],
   "source": [
    "# 예시 문자 연산자 활용 (덧셈 / 곱셈)\n",
    "for a in range(1, 11): # range() 범위를 1부터 10까지 \n",
    "    print(\" \" * (10 - a) + \"*\" * a)"
   ]
  },
  {
   "cell_type": "code",
   "execution_count": null,
   "id": "eba63410",
   "metadata": {},
   "outputs": [],
   "source": [
    "# 예시 문자 연산자 활용 (덧셈 / 곱셈)\n",
    "for a in range(1, 11): # range() 범위를 1부터 10까지 \n",
    "    print(\"*\" * a + \" \" * (10))"
   ]
  },
  {
   "cell_type": "code",
   "execution_count": null,
   "id": "5831a29b",
   "metadata": {},
   "outputs": [],
   "source": [
    "# 예시 문자 연산자 활용 (덧셈 / 곱셈)\n",
    "for a in range(0, 5): # range() 범위를 5부터 1까지 -1단위로 출력함\n",
    "    print(\"*\" + \" % \" + \"*\")"
   ]
  },
  {
   "cell_type": "code",
   "execution_count": null,
   "id": "0e22b3d5",
   "metadata": {
    "scrolled": true
   },
   "outputs": [],
   "source": [
    "# Q11.아래 그림처럼 크리스마스 트리를 for문을 사용하여 코딩해보세요!\n",
    "\n",
    "for n in range(1, 11):\n",
    "    print(' '* (      ) + '*'* (      )) # 빈칸1. (   )안에 채우기"
   ]
  },
  {
   "attachments": {
    "99EDBC335A2E1AE214.png": {
     "image/png": "[encoded data removed]"
    }
   },
   "cell_type": "markdown",
   "id": "d452ac9f",
   "metadata": {},
   "source": [
    "![99EDBC335A2E1AE214.png](attachment:99EDBC335A2E1AE214.png)"
   ]
  },
  {
   "cell_type": "code",
   "execution_count": null,
   "id": "322e25a8",
   "metadata": {},
   "outputs": [],
   "source": [
    "# 예시7. 문자 출력\n",
    "word = \"Python!\"\n",
    "for a in word: # word란 값을 글자별로 출력됨.\n",
    "    print(a)"
   ]
  },
  {
   "cell_type": "code",
   "execution_count": null,
   "id": "6b6aee60",
   "metadata": {},
   "outputs": [],
   "source": [
    "# 예시8. 문장 출력\n",
    "text = \"Python is fun!\"\n",
    "for b in text: # text란 값을 글자별로 출력됨.\n",
    "    print(b)"
   ]
  },
  {
   "cell_type": "code",
   "execution_count": null,
   "id": "9d00941e",
   "metadata": {},
   "outputs": [],
   "source": [
    "# 예시9. 여러개의 for문을 각각 순서대로 실행\n",
    "\n",
    "\n",
    "print(\"*********************************\")\n",
    "word_1 = \"파이썬!\"\n",
    "for a in word_1: # word_1란 값을 글자별로 출력됨.\n",
    "    print(a)\n",
    "print(\"*********************************\")\n",
    "\n",
    "print(\"*********************************\")\n",
    "word_2 = \"C언어!\"\n",
    "for b in word_2: # word_2란 값을 글자별로 출력됨.\n",
    "    print(b)\n",
    "print(\"*********************************\")\n",
    "\n",
    "print(\"*********************************\")\n",
    "word_3 = \"자바!\"\n",
    "for c in word_3: # word_3란 값을 글자별로 출력됨.\n",
    "    print(c)\n",
    "print(\"*********************************\")\n",
    "print(\"코드 종료!\")"
   ]
  },
  {
   "cell_type": "code",
   "execution_count": null,
   "id": "2718f507",
   "metadata": {},
   "outputs": [],
   "source": [
    "# Q10. Diamond 그리기. 일단 아래 그림처럼 중간선 기준으로 자르면 서로 대칭이 발생한다고 볼 수 있다\n",
    "#      아래 그림처럼 공백을 채워 코딩작성을 완성해보세요.\n",
    "# Hint: 답은 서로 비슷한 패턴을 가지고 있다.\n",
    "\n",
    "line = int(input(\"Diamond 의 길이를 입력하세요(2~30) : \"))\n",
    "\n",
    "for x in range(1, line * 2, 2):\n",
    "    print((\" \" *                 )) + (\"*\" * x)) # 빈칸1. 공백 채우기\n",
    "\n",
    "for y in range(line * 2 - 3, 0, -2):\n",
    "    print((\" \" *                  )) + (\"*\" * y)) # 빈칸2. 공백 채우기"
   ]
  },
  {
   "attachments": {
    "image.png": {
     "image/png": "[encoded data removed]"
    }
   },
   "cell_type": "markdown",
   "id": "4a3a236a",
   "metadata": {},
   "source": [
    "![image.png](attachment:image.png)"
   ]
  },
  {
   "cell_type": "markdown",
   "id": "7ab00364",
   "metadata": {},
   "source": [
    "# Nested For문"
   ]
  },
  {
   "cell_type": "markdown",
   "id": "420ae109",
   "metadata": {},
   "source": [
    "# 부모-자식 (Parent-Child) 개념"
   ]
  },
  {
   "cell_type": "code",
   "execution_count": null,
   "id": "56ca9895",
   "metadata": {},
   "outputs": [],
   "source": [
    "# 예시10. for문안에 for문 예시\n",
    "for i in range(0, 3): # 0~2까지 범위를 i를 통해 임의로 순차적으로 할당된다.\n",
    "    print(\"*********************\")\n",
    "    for j in range(1, 6): # 1~5까지 범위를 j를 통해 임의로 순차적으로 할당되고 출력된다.\n",
    "        print(\"^^^^^^^^^^^^^^^^^^^\")\n",
    "        print(j, \"<-- 현재 j값을 출력함\")\n",
    "print(\"코드 종료!\")"
   ]
  },
  {
   "cell_type": "code",
   "execution_count": null,
   "id": "e930e58d",
   "metadata": {},
   "outputs": [],
   "source": [
    "# 예시11. for문안에 for문 예시2\n",
    "for i in range(0, 3): # 0~2까지 범위를 i를 통해 임의로 순차적으로 할당된다.\n",
    "    print(\"*********************\")\n",
    "    for j in range(1, 6): # 1~5까지 범위를 j를 통해 임의로 순차적으로 할당되고 출력된다.\n",
    "        print(\"^^^^^^^^^^^^^^^^^^^\")\n",
    "        print(j, \"<-- 현재 j값을 출력함\")\n",
    "        print(i, \"<-- 현재 j값을 출력함\")\n",
    "    print(\"$$$$$$$$$$$$$$$$$$$$$\")\n",
    "print(\"코드 종료!\")"
   ]
  },
  {
   "cell_type": "code",
   "execution_count": null,
   "id": "f7e8c27a",
   "metadata": {},
   "outputs": [],
   "source": [
    "# 예시12. for문안에 for문 예시2\n",
    "for i in range(0, 3): # 0~2까지 범위를 i를 통해 임의로 순차적으로 할당된다.\n",
    "    print(\"*********************\")\n",
    "    for j in range(1, 6): # 1~5까지 범위를 j를 통해 임의로 순차적으로 할당되고 출력된다.\n",
    "        print(\"^^^^^^^^^^^^^^^^^^^\")\n",
    "        print(j, \"<-- 현재 j값을 출력함\")\n",
    "    print(i, \"<-- 현재 j값을 출력함\")\n",
    "    print(\"$$$$$$$$$$$$$$$$$$$$$\")\n",
    "print(\"코드 종료!\")"
   ]
  },
  {
   "cell_type": "code",
   "execution_count": null,
   "id": "753c3513",
   "metadata": {},
   "outputs": [],
   "source": [
    "# 예시12. for문안에 for문 예시2\n",
    "for i in range(0, 3): # 0~2까지 범위를 i를 통해 임의로 순차적으로 할당된다.\n",
    "    print(\"*********************\")\n",
    "    for j in range(1, 6): # 1~5까지 범위를 j를 통해 임의로 순차적으로 할당되고 출력된다.\n",
    "        print(\"^^^^^^^^^^^^^^^^^^^\")\n",
    "print(j, \"<-- 현재 j값을 출력함\")\n",
    "print(i, \"<-- 현재 j값을 출력함\")\n",
    "print(\"코드 종료!\")"
   ]
  },
  {
   "cell_type": "code",
   "execution_count": null,
   "id": "8f60f630",
   "metadata": {},
   "outputs": [],
   "source": [
    "# 예시13. for문안에 for문 예시3\n",
    "for i in range(0, 5): # 0~4까지 범위를 i를 통해 임의로 순차적으로 할당된다.\n",
    "    print(\"*********************\")\n",
    "    for j in range(i, i + 1): # i~i + 1까지 범위를 j에 임의로 순차적으로 할당되고 출력된다.\n",
    "        print(\"^^^^^^^^^^^^^^^^^^^\")\n",
    "        print(j, \"<-- 현재 j값을 출력함\")\n",
    "        print(i, \"<-- 현재 i값을 출력함\")\n",
    "print(\"코드 종료!\")"
   ]
  },
  {
   "cell_type": "markdown",
   "id": "02182422",
   "metadata": {},
   "source": [
    "# While 문"
   ]
  },
  {
   "cell_type": "markdown",
   "id": "40ad3259",
   "metadata": {},
   "source": [
    "### While문 다음에 있는 조건울 충족할 때까지는 무한 반복하여 다음 명령어(들)을 실행한다.\n",
    "### 만약, while문 다음에 있는 조건을 충족하지 못 할 시 자동으로 종료되며 다음 코딩 줄을 실행한다."
   ]
  },
  {
   "cell_type": "code",
   "execution_count": null,
   "id": "aaa0a133",
   "metadata": {},
   "outputs": [],
   "source": [
    "# 예시1\n",
    "i = 0         # 일단 i에는 0이 할당되었다.\n",
    "while i < 4: # while문 다음 i < 4 조건을 충족하면 아래 명령들이 순서대로 실행된다.\n",
    "    i = i + 1 # i에 1을 한번 실행당 한번식 더해진다.\n",
    "    print(i)  # 현재 i값을 출력함."
   ]
  },
  {
   "cell_type": "code",
   "execution_count": null,
   "id": "81e82fbb",
   "metadata": {},
   "outputs": [],
   "source": [
    "# 예시2\n",
    "i = 0         # 일단 i에는 0이 할당되었다.\n",
    "while i > 4: # while문 다음 i > 4 조건을 충족하지 못하여 다음 명령어들도 실행되지 않는다.\n",
    "    i = i + 1\n",
    "    print(i)  # while 조건문이 거짓이라 i값도 출력하지 않는다.\n",
    "    \n",
    "print(\"파이썬은 처음이다!\") # 여기서부터는 정상적으로 출력됨. 위의 while문 범위안에 없고 관계도 없다."
   ]
  },
  {
   "cell_type": "code",
   "execution_count": null,
   "id": "ea4837d4",
   "metadata": {},
   "outputs": [],
   "source": [
    "# 예시3 While문에서는 기본으로 True이란 조건이 숨겨져있다.\n",
    "# 아래 예시처럼 while문 다음에 money란 변수만 있고 특별한 조건이 보이지 않는다.\n",
    "# 이럴때는 무한 반복으로 실행되며 끝이 없다.\n",
    "# 그래서 if문을 사용하여 필요한 조건을 따로 설정하여 while문을 벗어 날수 있다. \n",
    "\n",
    "coffee = 10 # 커피\n",
    "money = 300 # 돈\n",
    "while money:\n",
    "    print(\"돈을 받았으니 커피를 줍니다.\")\n",
    "    coffee -= 1\n",
    "    print(\"남은 커피의 양은 %d개입니다.\" % coffee)\n",
    "    if coffee == 0:\n",
    "        print(\"커피가 다 떨어졌습니다. 판매를 중지합니다.\")\n",
    "        break"
   ]
  },
  {
   "cell_type": "markdown",
   "id": "7bfcd0ea",
   "metadata": {},
   "source": [
    "# Break, Continue문"
   ]
  },
  {
   "cell_type": "code",
   "execution_count": null,
   "id": "860d3066",
   "metadata": {},
   "outputs": [],
   "source": [
    "# 예시 Break 사용. 어떠한 조건에서 오래 걸리거나 필요한 자료를 찾고 싶을 때 주로 사용함.\n",
    "# 일반 for문\n",
    "for i in range(0, 10):\n",
    "    print(i)\n",
    "    \n",
    "print(\"***********\")\n",
    "\n",
    "# for문에서 if조건과 break 사용\n",
    "for i in range(0, 10):\n",
    "    print(i)\n",
    "    if i == 5: # i값이 5가 되는 조건을 충족하면 바로 break문을 읽고 종료함.\n",
    "        break"
   ]
  },
  {
   "cell_type": "code",
   "execution_count": null,
   "id": "727f91ff",
   "metadata": {},
   "outputs": [],
   "source": [
    "# while문에서 if조건과 break 사용\n",
    "i = 0\n",
    "while i < 10:\n",
    "    print(i)\n",
    "    i += 1\n",
    "    if i == 5: # i값이 5가 되는 조건을 충족하면 바로 break문을 읽고 종료함.\n",
    "        break"
   ]
  },
  {
   "cell_type": "code",
   "execution_count": null,
   "id": "7d9959d0",
   "metadata": {},
   "outputs": [],
   "source": [
    "# 예시 continue 사용. 어떠한 조건에서 제외하고 싶은 자료를 출력 또는 저장 못 하게 설정하기 위해 주로 사용함.\n",
    "# for문에서 if조건과 continue 사용\n",
    "for i in range(0, 10):\n",
    "    if i == 5:    # i값이 5가 되는 조건을 충족하면 바로 continue문을 읽고 아래에 있는 명령어는 무시됨.\n",
    "        continue # 즉, i값이 5가 되는 순간 print()문을 실행하지 않고 바로 다음 값으로 강제로 대입함.\n",
    "    print(i)      # 5를 제외한 0부터 9까지 출력됨."
   ]
  },
  {
   "cell_type": "code",
   "execution_count": null,
   "id": "c90fb757",
   "metadata": {},
   "outputs": [],
   "source": [
    "# while문에서 if조건과 continue 사용\n",
    "i = 0\n",
    "while i < 10:\n",
    "    i += 1\n",
    "    if i == 5: # i값이 5가 되는 조건을 충족하면 바로 continue문을 읽고 5의 출력은 무시됨.\n",
    "        continue\n",
    "    print(i)"
   ]
  },
  {
   "cell_type": "markdown",
   "id": "339cdca8",
   "metadata": {},
   "source": [
    "# 문자 편집 방법"
   ]
  },
  {
   "cell_type": "markdown",
   "id": "f09df4aa",
   "metadata": {},
   "source": [
    "## 1. strip(), rstrip(), lstrip() 활용"
   ]
  },
  {
   "cell_type": "code",
   "execution_count": null,
   "id": "0ae10225",
   "metadata": {},
   "outputs": [],
   "source": [
    "# 예시 공백 제거\n",
    "a = \"       파이썬          \"\n",
    "b = \"       Python          \"\n",
    "\n",
    "print(a.lstrip()) # 왼쪽 공백 모두 제거. 오른쪽 공백은 아직 살아있음.\n",
    "print(a.rstrip()) # 오른쪽 공백 모두 제거. 왼쪽 공백은 아직 살아있음.\n",
    "print(a.strip())  # 양쪽 공백 모두 제거\n",
    "print(\"**************\")\n",
    "print(b.lstrip()) # 왼쪽 공백 모두 제거. 오른쪽 공백은 아직 살아있음.\n",
    "print(b.rstrip()) # 오른쪽 공백 모두 제거. 왼쪽 공백은 아직 살아있음.\n",
    "print(b.strip())  # 양쪽 공백 모두 제거"
   ]
  },
  {
   "cell_type": "markdown",
   "id": "58549dc8",
   "metadata": {},
   "source": [
    "# append()"
   ]
  },
  {
   "cell_type": "code",
   "execution_count": null,
   "id": "1512ac34",
   "metadata": {},
   "outputs": [],
   "source": [
    "# 예시1. Append()는 기존 리스트에 추가로 넣고 싶을때 사용됨\n",
    "a = [1,2,3,4]\n",
    "b = 5\n",
    "a.append(b) # 기존 a란 list안에 5를 끝에 추가로 입력됨.\n",
    "print(a)"
   ]
  },
  {
   "cell_type": "code",
   "execution_count": null,
   "id": "7f4c8a5f",
   "metadata": {},
   "outputs": [],
   "source": [
    "# 예시2. Append()는 기존 리스트에 추가로 넣고 싶을때 사용됨\n",
    "a = [1,2,3,4]\n",
    "b = [5, 6]\n",
    "a.append(b) # 기존 a란 list안에 리스티인 5, 6을 끝에 추가로 입력됨.\n",
    "print(a)"
   ]
  },
  {
   "cell_type": "markdown",
   "id": "cacc9e29",
   "metadata": {},
   "source": [
    "# replace()"
   ]
  },
  {
   "cell_type": "code",
   "execution_count": null,
   "id": "36e3a7d1",
   "metadata": {},
   "outputs": [],
   "source": [
    "# 예시\n",
    "a = \"Life is too short\"\n",
    "a.replace(\"short\", \"long\") # a문장 안에 short란 단어를 찾아 long으로 대체"
   ]
  },
  {
   "cell_type": "code",
   "execution_count": null,
   "id": "8b23e9aa",
   "metadata": {},
   "outputs": [],
   "source": [
    "# 예시\n",
    "a = \"Life is too short\"\n",
    "a.replace(\"apple\", \"orange\") # a문장 안에 apple이란 단어를 찾아 보았으나 없어서 아무런 변화가 없었다."
   ]
  },
  {
   "cell_type": "markdown",
   "id": "345758b8",
   "metadata": {},
   "source": [
    "# split()"
   ]
  },
  {
   "cell_type": "code",
   "execution_count": null,
   "id": "358126f5",
   "metadata": {},
   "outputs": [],
   "source": [
    "# 예시: split()의 기본값은 공백이다.\n",
    "a = \"Life is too short\"\n",
    "a.split() # a문장 안에 공백 기준으로 단어별로 분리함."
   ]
  },
  {
   "cell_type": "code",
   "execution_count": null,
   "id": "a66a72c3",
   "metadata": {},
   "outputs": [],
   "source": [
    "# 예시: split()의 기본값은 공백이다.\n",
    "a = \"Hello,world\"\n",
    "a.split(\",\") # a문장 안에 콤마(,) 기준으로 단어별로 분리함."
   ]
  },
  {
   "cell_type": "markdown",
   "id": "a8fe43de",
   "metadata": {},
   "source": [
    "# lower()"
   ]
  },
  {
   "cell_type": "code",
   "execution_count": null,
   "id": "806d6036",
   "metadata": {},
   "outputs": [],
   "source": [
    "# 예시: 전체 문자를 소문자로 변환\n",
    "a = \"HELLO WORLD\" # 대문자로된 HELLO WORLD\n",
    "a.lower()         # 소문자로 변환하여 hello world로 출력됨"
   ]
  },
  {
   "cell_type": "code",
   "execution_count": null,
   "id": "bed7a11a",
   "metadata": {},
   "outputs": [],
   "source": [
    "# 예시: 전체 문자를 소문자로 변환\n",
    "a = \"Kim Gunil\" # 대문자로된 Kim Gunil 이란 이름\n",
    "a.lower()       # 소문자로 변환하여 kim gunil로 출력됨"
   ]
  },
  {
   "cell_type": "markdown",
   "id": "71b46f1a",
   "metadata": {},
   "source": [
    "# upper()"
   ]
  },
  {
   "cell_type": "code",
   "execution_count": null,
   "id": "3566c98d",
   "metadata": {},
   "outputs": [],
   "source": [
    "# 예시: 전체 문자를 대문자로 변환\n",
    "a = \"hello world\" # 소문자로된 hello world\n",
    "a.upper()         # 대문자로 변환하여 HELLO WORLD로 출력됨"
   ]
  },
  {
   "cell_type": "code",
   "execution_count": null,
   "id": "1abb0602",
   "metadata": {},
   "outputs": [],
   "source": [
    "# 예시: 전체 문자를 대문자로 변환\n",
    "a = \"Kim Gunil\" # 대소문자로된 Kim Gunil 이란 이름\n",
    "a.upper()       # 대문자로 변환하여 KIM GUNIL로 출력됨"
   ]
  },
  {
   "cell_type": "markdown",
   "id": "4376c2da",
   "metadata": {},
   "source": [
    "# count()"
   ]
  },
  {
   "cell_type": "code",
   "execution_count": null,
   "id": "c9f5f232",
   "metadata": {},
   "outputs": [],
   "source": [
    "# 예시: 어떠한 글자 갯수를 알고 싶을때 count()를 사용함\n",
    "a = \"hobby\"\n",
    "a.count('b') # b란 글자는 총2개"
   ]
  },
  {
   "cell_type": "code",
   "execution_count": null,
   "id": "286832e0",
   "metadata": {},
   "outputs": [],
   "source": [
    "# 예시: 어떠한 글자 갯수를 알고 싶을때 count()를 사용함\n",
    "a = \"hobby\"\n",
    "a.count('y') # y란 글자는 총1개"
   ]
  },
  {
   "cell_type": "code",
   "execution_count": null,
   "id": "5bf7cd98",
   "metadata": {
    "scrolled": true
   },
   "outputs": [],
   "source": [
    "# 예시: 어떠한 글자 갯수를 알고 싶을때 count()를 사용함\n",
    "a = \"hobby\"\n",
    "a.count('a') # a란 글자는 총0개"
   ]
  },
  {
   "cell_type": "markdown",
   "id": "09427122",
   "metadata": {},
   "source": [
    "#  \"\".join()"
   ]
  },
  {
   "cell_type": "code",
   "execution_count": null,
   "id": "b5c1356a",
   "metadata": {},
   "outputs": [],
   "source": [
    "# 예시: 어떠한 리스트로 구성된 단어를 조금 더 쉽고 편하게 분리하기 위해 \"\".join()을 사용한다.\n",
    "\",\".join(['파이썬','C언어','C++', 'C#', '자바', '자바스크립트', 'R'])"
   ]
  },
  {
   "cell_type": "code",
   "execution_count": null,
   "id": "a1f785f9",
   "metadata": {},
   "outputs": [],
   "source": [
    "# 예시: 어떠한 리스트로 구성된 단어를 조금 더 쉽고 편하게 분리하기 위해 \"\".join()을 사용한다.\n",
    "\"/\".join(['파이썬','C언어','C++', 'C#', '자바', '자바스크립트', 'R'])"
   ]
  },
  {
   "cell_type": "code",
   "execution_count": null,
   "id": "e18262f6",
   "metadata": {},
   "outputs": [],
   "source": [
    "# 예시: 어떠한 리스트로 구성된 단어를 조금 더 쉽고 편하게 분리하기 위해 \"\".join()을 사용한다.\n",
    "\" & \".join(['파이썬','C언어','C++', 'C#', '자바', '자바스크립트', 'R'])"
   ]
  },
  {
   "cell_type": "code",
   "execution_count": null,
   "id": "6f3cd763",
   "metadata": {},
   "outputs": [],
   "source": [
    "# 예시: 어떠한 리스트로 구성된 단어를 조금 더 쉽고 편하게 분리하기 위해 \"\".join()을 사용한다.\n",
    "\"과(와) \".join(['파이썬','C언어','C++', 'C#', '자바', '자바스크립트', 'R'])"
   ]
  },
  {
   "cell_type": "markdown",
   "id": "77d0a407",
   "metadata": {},
   "source": [
    "# 문자의 인덱싱 Indexing"
   ]
  },
  {
   "cell_type": "markdown",
   "id": "d51c887e",
   "metadata": {},
   "source": [
    "### find()"
   ]
  },
  {
   "cell_type": "code",
   "execution_count": null,
   "id": "3de9ba55",
   "metadata": {},
   "outputs": [],
   "source": [
    "# 예시: 어떠한 글자를 찾고자 할때 find()를 사용함\n",
    "a = \"hobby\"\n",
    "a.find('y') # y란 글자는 4번째의 인덱싱"
   ]
  },
  {
   "cell_type": "code",
   "execution_count": null,
   "id": "977163d6",
   "metadata": {},
   "outputs": [],
   "source": [
    "# 예시: 어떠한 글자를 찾고자 할때 find()를 사용함\n",
    "a = \"hobby\"\n",
    "a.find('h') # h란 글자는 첫번째의 인덱싱"
   ]
  },
  {
   "cell_type": "code",
   "execution_count": null,
   "id": "7c7cc79b",
   "metadata": {},
   "outputs": [],
   "source": [
    "# 예시: 어떠한 글자를 찾고자 할때 find()를 사용함\n",
    "a = \"hobby\"\n",
    "a.find('b') # b란 글자는 총2개이지만 첫번째 b의 인덱싱을 출력한다."
   ]
  },
  {
   "cell_type": "markdown",
   "id": "ed04142a",
   "metadata": {},
   "source": [
    "### index()"
   ]
  },
  {
   "cell_type": "code",
   "execution_count": null,
   "id": "1ab9529f",
   "metadata": {},
   "outputs": [],
   "source": [
    "# 예시: 어떠한 글자의 인덱싱을 찾을때 index()를 사용함\n",
    "a = \"hobby\"\n",
    "a.index('h') # h란 글자는 0번째의 인덱싱"
   ]
  },
  {
   "cell_type": "code",
   "execution_count": null,
   "id": "1a7e6a13",
   "metadata": {},
   "outputs": [],
   "source": [
    "# 예시: 어떠한 글자의 인덱싱을 찾을때 index()를 사용함\n",
    "a = \"hobby\"\n",
    "a.index('o') # o란 글자는 1번째의 인덱싱"
   ]
  },
  {
   "cell_type": "code",
   "execution_count": null,
   "id": "0a3ea416",
   "metadata": {},
   "outputs": [],
   "source": [
    "# 예시: 어떠한 글자의 인덱싱을 찾을때 index()를 사용함\n",
    "a = \"hobby\"\n",
    "a.index('b') # b란 글자는 2번째의 인덱싱"
   ]
  },
  {
   "cell_type": "code",
   "execution_count": null,
   "id": "5aecedb2",
   "metadata": {},
   "outputs": [],
   "source": [
    "# 예시: 어떠한 글자의 인덱싱을 찾을때 index()를 사용함\n",
    "a = \"hobby\"\n",
    "a.index('y') # y란 글자는 4번째의 인덱싱"
   ]
  },
  {
   "cell_type": "markdown",
   "id": "7d4b4c13",
   "metadata": {},
   "source": [
    "# list()에 대한 추가 정보"
   ]
  },
  {
   "cell_type": "code",
   "execution_count": null,
   "id": "1920156f",
   "metadata": {},
   "outputs": [],
   "source": [
    "# 예시: 기본적으로 리스트는 [ ] (대 괄호) 사용함\n",
    "a = [1,2,3,4]         # 숫자 리스트\n",
    "b = ['1','2','3','4'] # 숫자같은 문자 리스트\n",
    "c = ['a','b','c','d'] # 문자 리스트\n",
    "\n",
    "print(a)\n",
    "print(b)\n",
    "print(c)"
   ]
  },
  {
   "cell_type": "code",
   "execution_count": null,
   "id": "8deb6789",
   "metadata": {},
   "outputs": [],
   "source": [
    "# 예시: 기본적으로 리스트는 [ ] (대 괄호) 사용함\n",
    "a = [1,2,3,[4,5]] # 하나에 리스트안에 또 다른 리스트도 삽입이 가능하다.\n",
    "print(a)\n",
    "\n",
    "b = [1,2,3,[4,5,[6,7,8]]] # 총3개의 리스트\n",
    "print(b)\n",
    "\n",
    "c = [1,2,3,[4,5,[6,7,8, [9, 10]]]] # 총4개의 리스트\n",
    "print(c)"
   ]
  },
  {
   "cell_type": "code",
   "execution_count": null,
   "id": "bd5648bb",
   "metadata": {},
   "outputs": [],
   "source": [
    "# 예시. 리스트에서도 .index() 검색이 가능하다.\n",
    "a = [1,2,3,[4,5]] # 하나에 리스트안에 또 다른 리스트도 삽입이 가능하다.\n",
    "a.index(3)        # a란 리스트에서 3의 인덱싱은 2번째이다."
   ]
  },
  {
   "cell_type": "code",
   "execution_count": null,
   "id": "026dd0a8",
   "metadata": {},
   "outputs": [],
   "source": [
    "# 예시. 리스트에서도 .index() 검색이 가능하다.\n",
    "a = [1,2,3,[4,5]] # 하나에 리스트안에 또 다른 리스트도 삽입이 가능하다.\n",
    "a.index([4,5])        # a란 리스트에서 [4,5]의 인덱싱은 3번째이다."
   ]
  },
  {
   "cell_type": "code",
   "execution_count": null,
   "id": "207c1d01",
   "metadata": {},
   "outputs": [],
   "source": [
    "# 예시. 인덱싱 기준으로 연산자(+-*/)도 사용이 가능하다.\n",
    "a = [1,2,3,[4,5]] \n",
    "print(a[0] + a[1]) # 즉, 1 + 2 란 뜻이다.\n",
    "print(a[2] - a[0]) # 즉, 3 - 1 란 뜻이다.\n",
    "print(a[2] * a[2]) # 즉, 2 * 2 란 뜻이다.\n",
    "print(a[2] / a[2]) # 즉, 2 / 2 란 뜻이다."
   ]
  },
  {
   "cell_type": "markdown",
   "id": "42f89e76",
   "metadata": {},
   "source": [
    "### 슬라이싱 Slicing"
   ]
  },
  {
   "cell_type": "code",
   "execution_count": null,
   "id": "c29a5e65",
   "metadata": {},
   "outputs": [],
   "source": [
    "# 예시: 문자 슬라이싱\n",
    "a = \"파이썬은 처음이다!\"\n",
    "print(a[0:3]) # (인덱싱 기준) a란 문장에서 0번째 ~ 2번째까지 일부 잘라서 출력함\n",
    "print(a[5:7]) # (인덱싱 기준) a란 문장에서 5번째 ~ 6번째까지 일부 잘라서 출력함"
   ]
  },
  {
   "cell_type": "code",
   "execution_count": null,
   "id": "07c2cf42",
   "metadata": {},
   "outputs": [],
   "source": [
    "# 예시: 문자 슬라이싱 조합\n",
    "a = \"파이썬은 처음이다!\"\n",
    "print(a[0:3] + a[5:7])"
   ]
  },
  {
   "cell_type": "code",
   "execution_count": null,
   "id": "afa8128f",
   "metadata": {},
   "outputs": [],
   "source": [
    "# 예시: 숫자 슬라이싱\n",
    "a = [1,2,3,4,5,6]\n",
    "print(a[0:3]) # (인덱싱 기준) a란 숫자-리스트에서 0번째 ~ 2번째까지 일부 잘라서 출력함\n",
    "print(a[4:])  # (인덱싱 기준) a란 숫자-리스트에서 4번째 ~ 끝까지 잘라서 출력함\n",
    "print(a[:3])  # (인덱싱 기준) a란 숫자-리스트에서 첫번째 ~ 2번째까지 일부 잘라서 출력함"
   ]
  },
  {
   "cell_type": "code",
   "execution_count": null,
   "id": "1d749736",
   "metadata": {},
   "outputs": [],
   "source": [
    "### Q. 슬라이싱을 통해 숫자 36을 연산자와 같이 사용하여 출력해보세요.\n",
    "a = [1,2,3,4,5,6]\n",
    "print(a[ ]  a[ ]) # 빈칸1과 빈칸2 채우기와 연산자(+-*/) 사용"
   ]
  },
  {
   "cell_type": "markdown",
   "id": "c5f638f5",
   "metadata": {},
   "source": [
    "# dict() 사전에 대한 추가 정보"
   ]
  },
  {
   "cell_type": "code",
   "execution_count": null,
   "id": "488aa261",
   "metadata": {},
   "outputs": [],
   "source": [
    "#예시: 사전 형태는 키(key)와 값(value)으로 구성되어 있다.\n",
    "a = {1 : 'a',\n",
    "     2 : 'b',\n",
    "     3 : 'c',\n",
    "     4 : 'd',\n",
    "     5 : 'e'}\n",
    "print(a.keys())   # a란 사전에서 키(key)만 검색\n",
    "print(a.values()) # a란 사전에서 값(value)만 검색"
   ]
  },
  {
   "cell_type": "code",
   "execution_count": null,
   "id": "5238a781",
   "metadata": {},
   "outputs": [],
   "source": [
    "#예시: 사전 형태는 키(key)와 값(value)으로 구성되어 있다.\n",
    "a = {'name' : '김군',\n",
    "     '나이' :  28,\n",
    "     '고향' : '대구',\n",
    "     '국적' : '대한민국',\n",
    "     'phone' : '010-1234-5678'}\n",
    "\n",
    "\n",
    "print(a['name'])     # a란 사전에서 name(이름)을 검색하고 값을 출력함\n",
    "print(a['고향'])     # a란 사전에서 고향을 검색하고 값을 출력함\n",
    "print(a['phone']) # a란 사전에서 전화번호를 검색하고 값을 출력함"
   ]
  },
  {
   "cell_type": "code",
   "execution_count": null,
   "id": "2e1c8feb",
   "metadata": {},
   "outputs": [],
   "source": [
    "#예시: 사전 형태는 키(key)와 값(value)으로 구성되어 있다.\n",
    "a = {'name' : '김군',\n",
    "     '나이' : 28,\n",
    "     '고향' : '대구',\n",
    "     '국적' : '대한민국',\n",
    "     'phone' : '010-1234-5678'}\n",
    "\n",
    "\n",
    "print(a.items()) # .items()라고 입력하면 전체 사전의 키와 값을 출력함."
   ]
  },
  {
   "cell_type": "code",
   "execution_count": null,
   "id": "c0e1614a",
   "metadata": {},
   "outputs": [],
   "source": [
    "#예시: 사전 형태는 키(key)와 값(value)으로 구성되어 있는것을 모두 삭제함.\n",
    "a = {'name' : '김군',\n",
    "     '나이' : 28,\n",
    "     '고향' : '대구',\n",
    "     '국적' : '대한민국',\n",
    "     'phone' : '010-1234-5678'}\n",
    "\n",
    "\n",
    "print(a.clear()) # .clear()라고 입력하면 전체 사전의 값을 모두 초기화함."
   ]
  },
  {
   "cell_type": "markdown",
   "id": "4f6b813f",
   "metadata": {},
   "source": [
    "# 집합 자료형"
   ]
  },
  {
   "cell_type": "markdown",
   "id": "d109bc59",
   "metadata": {},
   "source": [
    "## set() "
   ]
  },
  {
   "cell_type": "code",
   "execution_count": null,
   "id": "cb3ba1bf",
   "metadata": {},
   "outputs": [],
   "source": [
    "# 예시1 셋트 형태 (숫자)\n",
    "s1 = set([1,2,3]) # 1,2,3이란 리스트를 set() 형태로 변환함.\n",
    "print(s1)         # 사전 형태처럼 { } (중 괄호)가 출력된다.\n",
    "                  # 단, 사전 형태는 : (콜론)을 사용하여 서로 다른것을 알 수 있다."
   ]
  },
  {
   "cell_type": "code",
   "execution_count": null,
   "id": "9e508777",
   "metadata": {
    "scrolled": true
   },
   "outputs": [],
   "source": [
    "# 예시2 셋트 형태 (문자)\n",
    "s1 = set(['a','b','c']) # 1,2,3이란 리스트를 set() 형태로 변환함.\n",
    "print(s1)               # 사전 형태처럼 { } (중 괄호)가 출력된다.\n",
    "                        # 단, 사전 형태는 : (콜론)을 사용하여 서로 다른것을 알 수 있다."
   ]
  },
  {
   "cell_type": "markdown",
   "id": "129954b8",
   "metadata": {},
   "source": [
    "# 교집합 / 합집합 / 차집합"
   ]
  },
  {
   "cell_type": "code",
   "execution_count": null,
   "id": "9fcaf3d0",
   "metadata": {},
   "outputs": [],
   "source": [
    "# 예시3 셋트 형태끼리 교집합 (&) 사용\n",
    "s1 = set([1,2,3,4,5]) # 1,2,3,4,5이란 리스트를 set() 형태로 변환함.\n",
    "s2 = set([2,3])       # 2,3이란 리스트를 set() 형태로 변환함.\n",
    "print(s1 & s2)        # s1과 s2 셋트의 교집합(&)은 2와 3이다."
   ]
  },
  {
   "cell_type": "code",
   "execution_count": null,
   "id": "7a02eea1",
   "metadata": {},
   "outputs": [],
   "source": [
    "# 예시4 셋트 형태끼리 합집합 (|) 사용\n",
    "s1 = set([1,2,3,4,5]) # 1,2,3,4,5이란 리스트를 set() 형태로 변환함.\n",
    "s2 = set([2,3])       # 2,3이란 리스트를 set() 형태로 변환함.\n",
    "print(s1 | s2)        # s1과 s2 셋트의 합집합(|)은 1,2,3,4와 5이다."
   ]
  },
  {
   "cell_type": "code",
   "execution_count": null,
   "id": "a7b6a6bf",
   "metadata": {},
   "outputs": [],
   "source": [
    "# 예시5 셋트 형태끼리 차집합 (-) 사용\n",
    "s1 = set([1,2,3,4,5]) # 1,2,3,4,5이란 리스트를 set() 형태로 변환함.\n",
    "s2 = set([2,3])       # 2,3이란 리스트를 set() 형태로 변환함.\n",
    "print(s1 - s2)        # s1과 s2 셋트의 차집합(-)은 1,4와 5이다.\n",
    "                      # 두 변수간에 중복값을 제거하여 남는 값들만 출력함."
   ]
  },
  {
   "cell_type": "code",
   "execution_count": null,
   "id": "bc8a5d85",
   "metadata": {},
   "outputs": [],
   "source": [
    "# Q. 다음과 같은 두 셋트의 교집합을 구하시오.\n",
    "s1 = set(['a','b','c','d', 'Python'])\n",
    "s2 = set(['b',1,'C언어','1','파이썬'])\n",
    "print( ) # 빈칸1. 채우기"
   ]
  },
  {
   "cell_type": "markdown",
   "id": "a53fd481",
   "metadata": {},
   "source": [
    "# enumerate 활용: 새로운 줄마다 인덱싱 번호가 필요할 때 사용함"
   ]
  },
  {
   "cell_type": "code",
   "execution_count": null,
   "id": "2402eb76",
   "metadata": {},
   "outputs": [],
   "source": [
    "# 예시1.\n",
    "for index, name in enumerate(['body','hand', 'feet','head']):\n",
    "    print(index, name)"
   ]
  },
  {
   "cell_type": "markdown",
   "id": "a55caa5e",
   "metadata": {},
   "source": [
    "# max()"
   ]
  },
  {
   "cell_type": "code",
   "execution_count": null,
   "id": "7af14373",
   "metadata": {},
   "outputs": [],
   "source": [
    "# 예시\n",
    "a = [1, 100, 6, 1000, 9999]\n",
    "max(a)"
   ]
  },
  {
   "cell_type": "markdown",
   "id": "f50fb0cf",
   "metadata": {},
   "source": [
    "# min()"
   ]
  },
  {
   "cell_type": "code",
   "execution_count": null,
   "id": "88f385d2",
   "metadata": {},
   "outputs": [],
   "source": [
    "# 예시\n",
    "a = [1, 100, 6, 1000, 9999]\n",
    "min(a)"
   ]
  },
  {
   "cell_type": "markdown",
   "id": "4a81dcef",
   "metadata": {},
   "source": [
    "# round() --> 반올림 해줌"
   ]
  },
  {
   "cell_type": "code",
   "execution_count": null,
   "id": "c565ea11",
   "metadata": {},
   "outputs": [],
   "source": [
    "# 예시\n",
    "print(round(1.5))\n",
    "print(round(20.1))\n",
    "print(round(40.0))"
   ]
  },
  {
   "cell_type": "markdown",
   "id": "006f6453",
   "metadata": {},
   "source": [
    "# sorted --> 순서 정렬 해줌"
   ]
  },
  {
   "cell_type": "code",
   "execution_count": null,
   "id": "a0c41dc0",
   "metadata": {},
   "outputs": [],
   "source": [
    "# 예시\n",
    "print(sorted([3, 1, 5, 2, 4]))\n",
    "print(sorted([4,2,1,9,10, 100, 555]))"
   ]
  },
  {
   "cell_type": "markdown",
   "id": "08bd2b08",
   "metadata": {},
   "source": [
    "# random --> 무작위로 아무 숫자"
   ]
  },
  {
   "cell_type": "code",
   "execution_count": null,
   "id": "67de443d",
   "metadata": {},
   "outputs": [],
   "source": [
    "# 예시1.\n",
    "import random # 무작위 random함수를 읽어 숫자가 출력됨\n",
    "random.random()"
   ]
  },
  {
   "cell_type": "code",
   "execution_count": null,
   "id": "8a0fdae0",
   "metadata": {},
   "outputs": [],
   "source": [
    "# 예시2. 무작위 숫자이지만 범위를 설정할 수도 있다.\n",
    "random.randint(1, 99)"
   ]
  },
  {
   "cell_type": "code",
   "execution_count": null,
   "id": "5a905104",
   "metadata": {},
   "outputs": [],
   "source": []
  }
 ],
 "metadata": {
  "kernelspec": {
   "display_name": "Python 3",
   "language": "python",
   "name": "python3"
  },
  "language_info": {
   "codemirror_mode": {
    "name": "ipython",
    "version": 3
   },
   "file_extension": ".py",
   "mimetype": "text/x-python",
   "name": "python",
   "nbconvert_exporter": "python",
   "pygments_lexer": "ipython3",
   "version": "3.8.10"
  }
 },
 "nbformat": 4,
 "nbformat_minor": 5
}
