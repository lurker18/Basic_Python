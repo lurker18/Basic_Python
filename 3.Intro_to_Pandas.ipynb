{
 "cells": [
  {
   "cell_type": "markdown",
   "id": "0941ac8b",
   "metadata": {},
   "source": [
    "# 판다스의 모든것!!"
   ]
  },
  {
   "cell_type": "code",
   "execution_count": null,
   "id": "5d066ca6",
   "metadata": {},
   "outputs": [],
   "source": [
    "# 처음으로 파이썬 프로그램을 설치할 때 주로 다양한 형태로 되어 있는 파일들을 열어서 보고 싶을때는 판다스(Pandas)를 사용하면 된다.\n",
    "# Pandas는 하나의 패키지라고 보시면 되시고, 다양한 모듈이 존재하며 다양한 파일들을 읽는 함수들을 가지고 있다.\n",
    "\n",
    "import pandas as pd"
   ]
  },
  {
   "cell_type": "markdown",
   "id": "017104df",
   "metadata": {},
   "source": [
    "# 판다스의 데이터프레임 (DataFrame)"
   ]
  },
  {
   "cell_type": "code",
   "execution_count": null,
   "id": "242a27c1",
   "metadata": {},
   "outputs": [],
   "source": [
    "# 예시. \n",
    "# 간단한 1 ~ 10으로 구성된 리스트를 데이터프레임으로 저장함.\n",
    "s = pd.DataFrame([1, 2, 3, 4, 5, 6, 7 ,8, 9 ,10])\n",
    "print(s)"
   ]
  },
  {
   "cell_type": "code",
   "execution_count": null,
   "id": "df3c8e98",
   "metadata": {},
   "outputs": [],
   "source": [
    "# 예시. \n",
    "# 간단한 'ㄱ' ~ 'ㅁ'으로 구성된 리스트를 데이터프레임으로 저장함.\n",
    "t = pd.DataFrame(['ㄱ', 'ㄴ', 'ㄷ', 'ㄹ', 'ㅁ', 'ㅂ', 'ㅅ', 'ㅈ', 'ㅊ', 'ㅋ'])\n",
    "print(t)"
   ]
  },
  {
   "cell_type": "markdown",
   "id": "dd4d5390",
   "metadata": {},
   "source": [
    "# 열 기준으로 두개(이상)의 데이터프레임을 결합할 때는..."
   ]
  },
  {
   "cell_type": "markdown",
   "id": "03be437c",
   "metadata": {},
   "source": [
    "# pd.concat() 방법 또는 pd.merge() 방법\n",
    "### 1) pd.concat( )  방법"
   ]
  },
  {
   "cell_type": "code",
   "execution_count": null,
   "id": "2c861997",
   "metadata": {
    "scrolled": true
   },
   "outputs": [],
   "source": [
    "# 예시1.\n",
    "# pd.concat --> concatenation(=> '결합 하자!'란 뜻이다!)\n",
    "\n",
    "df1 = pd.DataFrame(\n",
    "    {\n",
    "    \"A\": [\"A0\", \"A1\", \"A2\", \"A3\"],\n",
    "    \"B\": [\"B0\", \"B1\", \"B2\", \"B3\"],\n",
    "    \"C\": [\"C0\", \"C1\", \"C2\", \"C3\"],\n",
    "    \"D\": [\"D0\", \"D1\", \"D2\", \"D3\"],\n",
    "    }, index=[0, 1, 2, 3],)\n",
    "\n",
    "df2 = pd.DataFrame(\n",
    "    {\n",
    "    \"A\": [\"A4\", \"A5\", \"A6\", \"A7\"],\n",
    "    \"B\": [\"B4\", \"B5\", \"B6\", \"B7\"],\n",
    "    \"C\": [\"C4\", \"C5\", \"C6\", \"C7\"],\n",
    "    \"D\": [\"D4\", \"D5\", \"D6\", \"D7\"],\n",
    "    }, index=[4, 5, 6, 7],)\n",
    "\n",
    "\n",
    "df3 = pd.DataFrame(\n",
    "    {\n",
    "    \"A\": [\"A8\", \"A9\", \"A10\", \"A11\"],\n",
    "    \"B\": [\"B8\", \"B9\", \"B10\", \"B11\"],\n",
    "    \"C\": [\"C8\", \"C9\", \"C10\", \"C11\"],\n",
    "     \"D\": [\"D8\", \"D9\", \"D10\", \"D11\"],\n",
    "     }, index=[8, 9, 10, 11],)\n",
    "\n",
    "print(df1)\n",
    "print(\"*\" * 30)\n",
    "print(df2)\n",
    "print(\"*\" * 30)\n",
    "print(df3)\n",
    "\n",
    "frames = [df1, df2, df3]   # 모든 데이터프레임을 하나의 리스트로 저장함.\n",
    "\n",
    "result1 = pd.concat(frames) # 우리가 리스트에 담긴 데이터프레임을 하나의 데이터프레임으로 결합할 때 pd.concat()를 사용한다. \n",
    "print(\"*\" * 30)\n",
    "print(result1)\n",
    "\n",
    "\n",
    "result2 = pd.concat(frames, keys = ['x','y','z']) # result1 처럼 간단하게 concat( )을 적용하면 인덱스 순서대로 결합되지만,\n",
    "                                                  # 만약 각각 어디서 , 어떤 또는 몇개의 데이터프레임으로 결합했는지 구분하기 쉽게\n",
    "                                                  # 인덱스를 하나더 추가할 수 있다.\n",
    "                                                  # 이때 keys = [ (리스트명) ]을 추가로 옵션을 설정하면 된다.\n",
    "print(\"*\" * 30)\n",
    "print(result2)"
   ]
  },
  {
   "cell_type": "code",
   "execution_count": null,
   "id": "19ce10c9",
   "metadata": {
    "scrolled": true
   },
   "outputs": [],
   "source": [
    "print(result2.loc['x']) # 첫 번째 데이터프레임을 의미한다.\n",
    "print(\"*\" * 30)\n",
    "print(result2.loc['y']) # 두 번째 데이터프레임을 의미한다.\n",
    "print(\"*\" * 30)\n",
    "print(result2.loc['z']) # 세 번째 데이터프레임을 의미한다."
   ]
  },
  {
   "cell_type": "markdown",
   "id": "792f6331",
   "metadata": {},
   "source": [
    "### 2) pd.merge( ) 방법"
   ]
  },
  {
   "cell_type": "code",
   "execution_count": null,
   "id": "c30cbe5a",
   "metadata": {},
   "outputs": [],
   "source": [
    "# 예시2. --> pd.merge()  사용법\n",
    "\n",
    "left = pd.DataFrame(                 # left란 첫 번째 데이터프레임\n",
    "    {\n",
    "    \"key\": [\"K0\", \"K1\", \"K2\", \"K3\"], # key란 첫 번째 열과 값들\n",
    "    \"A\":   [\"A0\", \"A1\", \"A2\", \"A3\"], # A란 두 번째 열과 값들\n",
    "    \"B\":   [\"B0\", \"B1\", \"B2\", \"B3\"], # B란 세 번째 열과 값들\n",
    "    })\n",
    "\n",
    "\n",
    "right = pd.DataFrame(                # right란 첫 번째 데이터프레임\n",
    "    {\n",
    "    \"key\": [\"K0\", \"K1\", \"K2\", \"K3\"], # key란 첫 번째 열과 값들. 단, left에 있는 key변수와 동일하다.\n",
    "    \"C\":   [\"C0\", \"C1\", \"C2\", \"C3\"], # C란 두 번째 열과 값들\n",
    "    \"D\":   [\"D0\", \"D1\", \"D2\", \"D3\"], # D란 세 번째 열과 값들\n",
    "    })\n",
    "\n",
    "\n",
    "result = pd.merge(left, right, on = \"key\") # pd.concat()와 유사하지만 merge에는 조건이 하나 있다.\n",
    "                                           # pd.merge()를 사용하고 싶을때는 공통 변수 또는 공통 키값이 존재해야한다.\n",
    "                                           # 위 예시처럼 left와 right처럼 key란 공통 변수와 값이 있어서\n",
    "                                           # merge를 사용할 수 있다.\n",
    "            \n",
    "print(result)"
   ]
  },
  {
   "cell_type": "code",
   "execution_count": null,
   "id": "3d00060b",
   "metadata": {},
   "outputs": [],
   "source": [
    "# 예시3. 코로나-백신 접종 사례\n",
    "\n",
    "first = pd.DataFrame(                                         # first 첫 번째 데이터프레임\n",
    "    {\n",
    "    \"이름\": [\"김건일\", \"홍길동\", \"강민재\", \"이철수\"],         # '이름'란 key변수로 설정하였다.\n",
    "    \"나이\": [  \"19\",    \"24\",      \"10\",     \"44\"],           # '나이'란 두 번째 열과 값들\n",
    "    \"전화번호\": [\"1234\", \"5678\", \"9999\", \"1004\"],             # '전화번호'란 세 번째 열과 값들\n",
    "    })\n",
    "\n",
    "second = pd.DataFrame(                                        # second란 두 번째 데이터프레임\n",
    "    {\n",
    "    \"이름\": [\"김건일\", \"홍길동\", \"강민재\", \"이철수\"],         # '이름'란 key변수로 설정하였다.\n",
    "    \"주소\": [  \"서울\", \"경기도\", \"강원도\",   \"인천\"],         # '주소'란 두 번째 열과 값들\n",
    "    \"혈액형\": [\"A형\",  \"B형\",    \"AB형\",    \"O형\"],           # '혈액형'란 세 번째 열과 값들\n",
    "    \"백신 1차 접종\": [\"예\", \"아니오\",\"예\", \"예\"],             # '백신 1차 접종'란 네 번째 열과 값들\n",
    "    \"백신 2차 접종\": [\"아니오\", \"아니오\",\"예\", \"아니오\"],     # '백신 2차 접종'란 다섯 번째 열과 값들\n",
    "    })\n",
    "\n",
    "hospital = pd.merge(first, second, on = '이름')               # first와 second의 key를 참조하는 변수는 '이름'이다.\n",
    "print(hospital)"
   ]
  },
  {
   "cell_type": "markdown",
   "id": "3e096240",
   "metadata": {},
   "source": [
    "# 데이터프레임을 재구조화(Reshape)하고 싶을 때는..."
   ]
  },
  {
   "cell_type": "markdown",
   "id": "ae9242a3",
   "metadata": {},
   "source": [
    "# stack()과 unstack()  -->  사전적 의미는 '쌓아 올리다!'"
   ]
  },
  {
   "cell_type": "code",
   "execution_count": null,
   "id": "c0a9093c",
   "metadata": {},
   "outputs": [],
   "source": [
    "# 예시1. stack() 활용\n",
    "matrix = pd.DataFrame([\n",
    "                      [1, 2, 3], # 첫 번째 리스트이고, 인덱스 순서도 지키고 있어 0,1, 2 인덱싱을 가지고 있다.\n",
    "                      [4, 5, 6], # 두 번째 리스트이고, 인덱스 순서도 지키고 있어 0,1, 2 인덱싱을 가지고 있다.\n",
    "                      [7, 8, 9]  # 세 번째 리스트이고, 인덱스 순서도 지키고 있어 0,1, 2 인덱싱을 가지고 있다.\n",
    "                      ])\n",
    "print(\"새로 생성한 Matrix 데이터프레임\")\n",
    "print(matrix)\n",
    "print(\"*\" * 30) \n",
    "print(matrix.shape)             # matrix구조를 보면 3 by 3의 행열로 되어있다. 'shape'는 구조를 보고 싶을 때 주로 사용함.\n",
    "print(\"*\" * 30) \n",
    "print(matrix.stack())           # stack은 쌓아 올리는 개념이며 예시처럼 한 줄로 순서를 지키며 쌓아 올렸다.\n",
    "print(\"*\" * 30) \n",
    "print(\"원본의 데이터프레임\")\n",
    "print(matrix.stack().unstack()) # 만약 stack을 적용한 변수나 실제 파일이 이러한 형태로 구조화되어 있다면,\n",
    "                                # unstack()을 입력하면 원본의 데이터페르임으로 복원할 수 있다."
   ]
  },
  {
   "cell_type": "markdown",
   "id": "89963297",
   "metadata": {},
   "source": [
    "# Melt의 활용법"
   ]
  },
  {
   "cell_type": "markdown",
   "id": "8e71330f",
   "metadata": {},
   "source": [
    "### melt() 는 ID 변수를 기준으로 원래 데이터셋에 있던 여러개의 컬럼 이름을 '변수' 칼럼에 위에서 아래로 길게 쌓아놓고, 'value' 컬럼에 ID와 variable에 해당하는 값을 넣어주는 식으로 데이터를 재구조화합니다.\n",
    "\n",
    "출처: https://rfriend.tistory.com/278 [R, Python 분석과 프로그래밍의 친구 (by R Friend)]"
   ]
  },
  {
   "cell_type": "code",
   "execution_count": null,
   "id": "60b17406",
   "metadata": {},
   "outputs": [],
   "source": [
    "# 예시 1.\n",
    "order = pd.DataFrame({'고객ID' : ['고객1', '고객1', '고객2', '고객2'], \n",
    "                      '제품명' : ['컴퓨터', '의자', '컴퓨터', '의자'],\n",
    "                      '수량'   : [ 1,        2,      3,        4],\n",
    "                      '가격'   : [100,      200,     300,    400]}\n",
    "                )\n",
    "\n",
    "print(order)\n",
    "print(\"*\" * 30)\n",
    "print(pd.melt(order, id_vars=['고객ID', '제품명']))   # id_vars는 merge처럼 어떤 key변수를 참조하여 분류할것인가?이다.\n",
    "                                                      # 그래서 위 예시는 고객ID와 제품별로 구분하여 각각 '수량'과 '가격'을 검색하여 출력한다.\n",
    "print(\"*\"*30)\n",
    "print(pd.melt(order, id_vars=['고객ID','제품명'], var_name='변수별', value_name='값')) # var_name은 '변수명'을 의미한다.\n",
    "                                                                                       # value_name은 한 줄로 나열된 값들의 제목을 의미한다.\n"
   ]
  },
  {
   "cell_type": "code",
   "execution_count": null,
   "id": "51f606fd",
   "metadata": {},
   "outputs": [],
   "source": [
    "# 예시 2.\n",
    "p = pd.DataFrame({'기업명' : ['LG전자', '삼성전자', '애플', 'SK하이닉스'], \n",
    "                  '제품명' : ['LG그램 15', '삼성 이언 15', '아이폰12프로', 'P1 NVME m.2 SSD'],\n",
    "                  '수량'   : [ 1000,     3000,       2500,        4000],\n",
    "                  '가격'   : [10000,    30000,      25000,       40000]}\n",
    "                     )\n",
    "\n",
    "print(p)\n",
    "print(\"*\" * 30)\n",
    "print(pd.melt(p, id_vars=['기업명', '제품명']))   # id_vars는 merge처럼 어떤 key변수를 참조하여 분류할것인가?이다.\n",
    "                                                      # 그래서 위 예시는 고객ID와 제품별로 구분하여 각각 '수량'과 '가격'을 검색하여 출력한다.\n",
    "print(\"*\"*30)\n",
    "print(pd.melt(p, id_vars=['기업명','제품명'], var_name='변수별', value_name='값')) # var_name은 '변수명'을 의미한다.\n",
    "                                                                                       # value_name은 한 줄로 나열된 값들의 제목을 의미한다.\n"
   ]
  },
  {
   "cell_type": "markdown",
   "id": "ad2b2bf0",
   "metadata": {},
   "source": [
    "# .T 활용 (Transpose) -->  데이터프레임의 행열 위치만 바꾸고 싶을때 "
   ]
  },
  {
   "cell_type": "code",
   "execution_count": null,
   "id": "8e6fb236",
   "metadata": {},
   "outputs": [],
   "source": [
    "# 예시 1.\n",
    "data1 = pd.DataFrame([[1, 2, 3],\n",
    "                     [4, 5, 6],\n",
    "                     [7, 8, 9]])\n",
    "\n",
    "print(data1)    # 원본 데이터\n",
    "print(\"*\" * 30)\n",
    "print(data1.T)  # 행열의 위치를 바꾼 데이터 (행 --> 열\n",
    "               #                            열 --> 행 )"
   ]
  },
  {
   "cell_type": "code",
   "execution_count": null,
   "id": "b51da9b8",
   "metadata": {},
   "outputs": [],
   "source": [
    "# 예시 2.\n",
    "data2 = pd.DataFrame([[1, 2, 3],\n",
    "                     [4, 5, 6],\n",
    "                     [7, 8, 9],\n",
    "                     [10, 11, 12],\n",
    "                     [13, 14, 15],\n",
    "                     [16, 17, 18],\n",
    "                     [19, 20, 21],\n",
    "                     [22, 23, 24]])\n",
    "\n",
    "print(data2)    # 원본 데이터\n",
    "print(\"*\" * 30)\n",
    "print(data2.T)  # 행열의 위치를 바꾼 데이터 (행 --> 열\n",
    "               #                            열 --> 행 )"
   ]
  },
  {
   "cell_type": "code",
   "execution_count": null,
   "id": "a7ebb065",
   "metadata": {},
   "outputs": [],
   "source": []
  },
  {
   "cell_type": "markdown",
   "id": "007d3e17",
   "metadata": {},
   "source": [
    "# DataFrame을 생성해서 데이터값을 안전하게 파일로 저장하는 방법"
   ]
  },
  {
   "cell_type": "code",
   "execution_count": null,
   "id": "3f90a1d8",
   "metadata": {},
   "outputs": [],
   "source": [
    "# 예시0. 리스트 형태를 사용하여 행열을 만들 수 있다.\n",
    "# 판다스로 데이터프레임(DataFrame)을 만들어서 엑셀처럼 행열로 검색할 수 있다.\n",
    "\n",
    "df = pd.DataFrame([[18, '남','김천고'],            # 첫 번째 리스트 예시 - 나이 / 성별 / 고등학교\n",
    "                   [19, '여', '울산고']],          # 두 번째 리스트 예시\n",
    "                 index=['진현', '민지'],           # 지금까지는 인덱스를 숫자를 떠오를수 있지만, 옆처럼 사람의 이름으로도 가능하다!\n",
    "                 columns=['나이', '성별', '학교']) # 컬럼명을 선언할 수 있다.\n",
    "\n",
    "print(df)\n"
   ]
  },
  {
   "cell_type": "code",
   "execution_count": null,
   "id": "12d04716",
   "metadata": {
    "scrolled": true
   },
   "outputs": [],
   "source": [
    "# 예시1.\n",
    "# 인덱스도 초기화할 수 있다.\n",
    "# 위 예시처럼 이름으로 구성된 인덱스를 새로운 컬럼으로 저장할 수 있다.\n",
    "\n",
    "df = df.reset_index()     # 인덱스를 초기화해준다! --> 숫자 형태로 인덱싱된다.\n",
    "print(df)                 # index란 새로운 컬럼이 생겼다. index 컬럼은 이름으로 구성되어 있으니, 컬럼명을 '이름'이라고 편집할 수 있다.\n",
    "print(\"*\"*30)\n",
    "df.columns = ['이름', '나이', ' 성별', '학교'] # 컬럼명을 모두 수정할 수도 있다.\n",
    "print(df)"
   ]
  },
  {
   "cell_type": "markdown",
   "id": "f4eeb22f",
   "metadata": {},
   "source": [
    "# CSV파일로 저장하는 방법"
   ]
  },
  {
   "cell_type": "code",
   "execution_count": null,
   "id": "291c2e1c",
   "metadata": {},
   "outputs": [],
   "source": [
    "# 예시2.\n",
    "# .to_csv() --> 우리가 현재까지 간단하게 생성한 데이터프레임을 csv파일로 저장하여 필요할때 다른 사람에게 공유할 수 있다는 장점을 가지고 있다.\n",
    "\n",
    "df.to_csv('/content/drive/MyDrive/ColabNotebooks/Basic_Python/profile.csv', encoding = 'euc-kr') # encoding은 선택이지만 한글깨짐 현상을 피할 수 있다."
   ]
  },
  {
   "cell_type": "markdown",
   "id": "6d3fc11c",
   "metadata": {},
   "source": [
    "# Excel파일로 저장하는 방법"
   ]
  },
  {
   "cell_type": "code",
   "execution_count": null,
   "id": "674b57db",
   "metadata": {},
   "outputs": [],
   "source": [
    "# 예시3.\n",
    "# .to_excel() --> excel파일로 저장할 때.\n",
    "\n",
    "df.to_excel('/content/drive/MyDrive/ColabNotebooks/Basic_Python/profile.xlsx', encoding = 'euc-kr') # encoding은 선택이지만 한글깨짐 현상을 피할 수 있다."
   ]
  },
  {
   "cell_type": "markdown",
   "id": "ad26f7b2",
   "metadata": {},
   "source": [
    "### 마이크로소프트 엑셀 파일 중 CSV파일을 주로 데이터 분석할 때 많이 씁니다.\n",
    "### (파일명).csv 이라고 되어 있는 파일들은 csv파일을 의미하고, ','(콤마)로 열(Columns)을 구분하여 분리되어 있다.\n"
   ]
  },
  {
   "cell_type": "code",
   "execution_count": null,
   "id": "c250472b",
   "metadata": {},
   "outputs": [],
   "source": [
    "# 예시1. csv파일 읽기\n",
    "# 현재 test.csv 파일은 A란 고등학교 1반에서 30명 학생들의 기말고사 시험 점수라고 보시고, 국.영.수.과.사 별로 총 5과목이 있는 데이터이다.\n",
    "test = pd.read_csv('/content/drive/MyDrive/ColabNotebooks/Basic_Python/test.csv', encoding = 'utf-8') \n",
    "\n",
    "test.head() # test란 데이터셋에 첫 5개의 점수들을 출력함."
   ]
  },
  {
   "cell_type": "code",
   "execution_count": null,
   "id": "07381423",
   "metadata": {},
   "outputs": [],
   "source": [
    "# 참고\n",
    "test.tail() # test란 데이터셋에 마지막 5개의 점수들을 출력함."
   ]
  },
  {
   "cell_type": "code",
   "execution_count": null,
   "id": "257b1a67",
   "metadata": {},
   "outputs": [],
   "source": [
    "# 예시2. info()를 활용하여 (i)어떤 과목별로 있는지, (ii) 실제값 ('Non-Null')의 갯수, (iii) 각 열별로 데이터 타입을 볼 수 있다.\n",
    "test.info()"
   ]
  },
  {
   "cell_type": "code",
   "execution_count": null,
   "id": "1f499bab",
   "metadata": {},
   "outputs": [],
   "source": [
    "# 예시3. describe() <==> 데이터에 대한 평균값 / 표준편차값 / 최대값 / 최솟값 등을 출력해준다.\n",
    "#        기준은 각 열별로 계산해서 보여준다.\n",
    "test.describe()"
   ]
  },
  {
   "cell_type": "markdown",
   "id": "a7362424",
   "metadata": {},
   "source": [
    "# CSV파일 같은 '행열'로 구성되어 있는 데이터에서 특정한 값만 보고 싶을 때"
   ]
  },
  {
   "cell_type": "markdown",
   "id": "007df8af",
   "metadata": {},
   "source": [
    "### 총 3개의 방법이 있습니다. 편하신대로 택1개만 하셔도 좋습니다."
   ]
  },
  {
   "cell_type": "markdown",
   "id": "d572eb4d",
   "metadata": {},
   "source": [
    "### 첫번째 검색하는 스타일"
   ]
  },
  {
   "cell_type": "code",
   "execution_count": null,
   "id": "1db37b2c",
   "metadata": {},
   "outputs": [],
   "source": [
    "# 예시 4. 총 30명의 '국어' 점수만 보고 싶을때\n",
    "test['국어'] # 열 제목을 기준으로 검색할 때는 [ ] (대 괄호)를 사용하시면 됩니다.\n",
    "             # 그외에 기호는 판다스 범위 내에서는 사용하지 않습니다. 예: ( ) , { } 는 어떠한 열 제목 검색할 때는 사용안함. "
   ]
  },
  {
   "cell_type": "code",
   "execution_count": null,
   "id": "526393ec",
   "metadata": {},
   "outputs": [],
   "source": [
    "# 예시 5. '수학' 점수만 검색\n",
    "test['수학']"
   ]
  },
  {
   "cell_type": "code",
   "execution_count": null,
   "id": "36104688",
   "metadata": {},
   "outputs": [],
   "source": [
    "# 예시 6. '영어' 점수만 검색\n",
    "test['영어']"
   ]
  },
  {
   "cell_type": "markdown",
   "id": "92b44c83",
   "metadata": {},
   "source": [
    "### 두 번째 검색 스타일"
   ]
  },
  {
   "cell_type": "code",
   "execution_count": null,
   "id": "e4355b6c",
   "metadata": {},
   "outputs": [],
   "source": [
    "# 예시 7. \n",
    "test.국어 # test란 변수에 '.(컬럼명)' --> '.국어' / '.영어' / '.수학' 등"
   ]
  },
  {
   "cell_type": "code",
   "execution_count": null,
   "id": "315032ef",
   "metadata": {},
   "outputs": [],
   "source": [
    "# 예시 8. \n",
    "test.수학 # test란 변수에 '.(컬럼명)' --> '.국어' / '.영어' / '.수학' 등"
   ]
  },
  {
   "cell_type": "code",
   "execution_count": null,
   "id": "4b0623b9",
   "metadata": {},
   "outputs": [],
   "source": [
    "# 예시 8. \n",
    "test.영어"
   ]
  },
  {
   "cell_type": "markdown",
   "id": "5bc0d48b",
   "metadata": {},
   "source": [
    "# 세 번째 검색 스타일 (이 방법을 권장드립니다!)"
   ]
  },
  {
   "cell_type": "code",
   "execution_count": null,
   "id": "4ff46f57",
   "metadata": {},
   "outputs": [],
   "source": [
    "# 예시 9.     .loc[ 행, 열 (제목) ] 또는 .iloc[ 행, 열 (인덱스 번호) ]\n",
    "\n",
    "print(test.loc[ :, '국어']) # '국어'란 열을 지정하고, 행(row)는 전체를 보고 싶을 때는 ':' (콜론)을 사용할 수 있다.\n",
    "print(\"*\" * 30)\n",
    "print(test.loc[ :, '영어']) # '영어'란 열을 지정하고, 행(row)는 전체를 보고 싶을 때는 ':' (콜론)을 사용할 수 있다.\n",
    "print(\"*\" * 30)\n",
    "print(test.loc[ :, '수학']) # '영어'란 열을 지정하고, 행(row)는 전체를 보고 싶을 때는 ':' (콜론)을 사용할 수 있다.\n"
   ]
  },
  {
   "cell_type": "code",
   "execution_count": null,
   "id": "4283124f",
   "metadata": {},
   "outputs": [],
   "source": [
    "# 예시 10. iloc [ 행 , 열 ]\n",
    "test.iloc[:, 0] # loc 와 iloc의 차이는 'i'를 의미한 것은 index번호를 나타낸다.\n",
    "                # 그래서 컬럼명이 아니고 컬럼명의 인덱스 순서 기준으로 입력해야 한다.\n",
    "                # '국어'는 0번째 인덱스 번호를 가지고 있다."
   ]
  },
  {
   "cell_type": "code",
   "execution_count": null,
   "id": "ada1340c",
   "metadata": {},
   "outputs": [],
   "source": [
    "# 예시 11. iloc [ 행 , 열 ]\n",
    "test.iloc[:, 1] # loc 와 iloc의 차이는 'i'를 의미한 것은 index번호를 나타낸다.\n",
    "                # 그래서 컬럼명이 아니고 컬럼명의 인덱스 순서 기준으로 입력해야 한다.\n",
    "                # '수학'은 1번째 인덱스 번호를 가지고 있다."
   ]
  },
  {
   "cell_type": "code",
   "execution_count": null,
   "id": "5ef1c08b",
   "metadata": {
    "scrolled": false
   },
   "outputs": [],
   "source": [
    "# 예시 12. iloc [ 행 , 열 ]\n",
    "test.iloc[:, 2] # loc 와 iloc의 차이는 'i'를 의미한 것은 index번호를 나타낸다.\n",
    "                # 그래서 컬럼명이 아니고 컬럼명의 인덱스 순서 기준으로 입력해야 한다.\n",
    "                # '영어'는 2번째 인덱스 번호를 가지고 있다."
   ]
  },
  {
   "cell_type": "markdown",
   "id": "414432bd",
   "metadata": {},
   "source": [
    "# 특정한 값(들)만 검색하고 싶을때는...?"
   ]
  },
  {
   "cell_type": "code",
   "execution_count": null,
   "id": "ddf10497",
   "metadata": {},
   "outputs": [],
   "source": [
    "# 예시 13.\n",
    "# 첫 번째 스타일 이시면\n",
    "print(test['국어'][0:5])   # .[ 컬럼명] [ 열 범위 ]  --> .['국어'][0:10]\n",
    "print(test['수학'][10:15]) # .[ 컬럼명] [ 열 범위 ]  --> .['수학'][10:15]\n",
    "print(test['영어'][0:5])   "
   ]
  },
  {
   "cell_type": "code",
   "execution_count": null,
   "id": "b12b34a4",
   "metadata": {},
   "outputs": [],
   "source": [
    "# 예시 14.\n",
    "# 두 번째 스타일 이시면\n",
    "print(test.국어[0:5])   # .컬럼명[ 열 범위 ]  --> .국어[0:10]\n",
    "                        # 주의: 이때는 컬럼명 입력시 ' ' (작은 따옴표) 또는 \"\" (큰 따옴표가 필요없다)\n",
    "print(\"*\" * 30)\n",
    "print(test.수학[15:20])\n",
    "print(\"*\" * 30)\n",
    "print(test.영어[5:10])"
   ]
  },
  {
   "cell_type": "code",
   "execution_count": null,
   "id": "f17a5efc",
   "metadata": {},
   "outputs": [],
   "source": [
    "# 예시 15. \n",
    "# 세 번째 스타일 이시면\n",
    "# iloc 또는 loc로 특정한 값도 검색이 가능함.\n",
    "\n",
    "print(test.loc[0:2, '국어']) # 첫 3개의 국어 점수만 출력함\n",
    "print(\"*\" * 30)\n",
    "print(test.loc[6:10, '영어']) # 6번 ~ 10번까지의 영어 점수만 출력함\n",
    "print(\"*\" * 30)\n",
    "print(test.loc[4:6, '수학']) # 4번 ~ 6번까지의 수학 점수만 출력함\n"
   ]
  },
  {
   "cell_type": "code",
   "execution_count": null,
   "id": "dab229ba",
   "metadata": {},
   "outputs": [],
   "source": [
    "# 예시 16. \n",
    "# 세 번째 스타일의 장점은 여러가지의 컬럼명 (2개이상)도 검색이 가능하다.\n",
    "\n",
    "print(test.loc[0:20, ['국어','영어']]) # 첫 20개의 국어와 영어 점수만 출력함\n",
    "print(\"*\" * 30)\n",
    "print(test.loc[10:20, ['수학','국어']]) # 10번 ~ 20번까지의 수학과 국어 점수만 출력함"
   ]
  },
  {
   "cell_type": "markdown",
   "id": "e439f0d3",
   "metadata": {},
   "source": [
    "# 빈값(결측값)이 존재하는지 알고 싶을때"
   ]
  },
  {
   "cell_type": "code",
   "execution_count": null,
   "id": "cfe81ce6",
   "metadata": {
    "scrolled": true
   },
   "outputs": [],
   "source": [
    "# 예시 17.   .isnull() ---> 하나하나 데이터값을 읽고 불리언(Boolean)으로 (1) 빈값이 있으면 'True',\n",
    "#                                                                        (2) 빈값이 없으면 'False'.\n",
    "test.isnull() # 각 과목별로 2, 3개 이상의 빈값이 존재한다."
   ]
  },
  {
   "cell_type": "code",
   "execution_count": null,
   "id": "7ada6829",
   "metadata": {},
   "outputs": [],
   "source": [
    "# 예시 18. null값이 하나라도 존재하는지?\n",
    "\n",
    "test.isnull().values.any() # 1. .isnull()을 이용하여 시각적으로 true란 값이 있는지 찾아본다. \n",
    "\n",
    "                           #    그러나 데이터가 크면 클수록 시각적으로 모든 데이터는 볼 수가 없다.\n",
    "    \n",
    "                           # 2. 그래서 .values.any()라고 입력하면 하나의 빈값이라도 있으면 'True'라고 출력된다."
   ]
  },
  {
   "cell_type": "code",
   "execution_count": null,
   "id": "d5328b57",
   "metadata": {},
   "outputs": [],
   "source": [
    "# 예시 19. null값을 갯수를 쉽게 찾을 수 있다.\n",
    "\n",
    "print(test.isnull().sum())          # 각 과목별로 총 빈값으로 출력해준다.\n",
    "                                    # 이때 합값(즉, 다 더했는 값)은 .sum()을 이용한다.\n",
    "    \n",
    "print(test.isnull().sum().sum())    # 그래서 총 몇개의 빈값이 있는지 궁금하시면 추가로 .sum()을 붙이면 총 빈값을 출력함."
   ]
  },
  {
   "cell_type": "code",
   "execution_count": null,
   "id": "1941b4bb",
   "metadata": {},
   "outputs": [],
   "source": [
    "# 예시 20. na값 <==> null값하고 같은 개념이다. na는 'Not Available'이라고 '찾을 수 없다 / 구할 수 없다'란 의미이다.\n",
    "\n",
    "print(test.isna())\n",
    "print(\"*\" * 40)\n",
    "print(test.isna().values.sum())"
   ]
  },
  {
   "cell_type": "markdown",
   "id": "ce8d88a4",
   "metadata": {},
   "source": [
    "# 빈값(결측값)을 대신 채우는 방법은?"
   ]
  },
  {
   "cell_type": "code",
   "execution_count": null,
   "id": "07984e36",
   "metadata": {},
   "outputs": [],
   "source": [
    "# 예시 21. 국어\n",
    "print(test.loc[6,'국어'])    # 현재 국어 점수 중 6번째 값이 NaN(빈값)이 존재한다.\n",
    "test.loc[6, '국어'] = 56     # 빈값에 임의로 56점이라고 삽입했다.\n",
    "print(test.loc[6,'국어'])    # 그래서 다시 검색을 하면 정상적으로 56이 입력되어 있다."
   ]
  },
  {
   "cell_type": "code",
   "execution_count": null,
   "id": "da13083c",
   "metadata": {},
   "outputs": [],
   "source": [
    "# 예시 22. 수학\n",
    "print(test.loc[10, '수학']) # 현재는 국어 점수 중 10번째 값이 NaN(빈값)이 존재한다.\n",
    "test.loc[10, '수학'] = 96   # 빈값에 임의로 96점이라고 삽입했다.\n",
    "print(test.loc[10, '수학']) # 그래서 다시 검색을 하면 정상적으로 96이 입력되어 있다."
   ]
  },
  {
   "cell_type": "code",
   "execution_count": null,
   "id": "3bace72f",
   "metadata": {},
   "outputs": [],
   "source": [
    "# Q1. test란 데이터셋에서 빈값을 하나 선택하여 하나의 점수값을 입력해보세요.\n",
    "#     검색 스타일은 자유롭게 사용하셔도 좋습니다.\n",
    "\n",
    "\n"
   ]
  },
  {
   "cell_type": "markdown",
   "id": "c324208a",
   "metadata": {},
   "source": [
    "# 빈값(결측값) 채우기 방법"
   ]
  },
  {
   "cell_type": "markdown",
   "id": "7f0ed279",
   "metadata": {},
   "source": [
    "# 참조: https://rfriend.tistory.com/262"
   ]
  },
  {
   "cell_type": "code",
   "execution_count": null,
   "id": "d56a855c",
   "metadata": {},
   "outputs": [],
   "source": [
    "test = pd.read_csv('/content/drive/MyDrive/ColabNotebooks/Basic_Python/test.csv', encoding = 'utf-8') \n",
    "test.head()"
   ]
  },
  {
   "cell_type": "code",
   "execution_count": null,
   "id": "6afd26b7",
   "metadata": {},
   "outputs": [],
   "source": [
    "# 예시 23. 결측값을 특정값 하나로만 통일하기\n",
    "test2 = test.fillna(0) # .fillna( 특정한 값) --> fill은 '무언가를 채우다'란 의미이다. 그래서 fillna는 모든 빈값(na/null)은 0으로 채웁니다.\n",
    "test2.head()"
   ]
  },
  {
   "cell_type": "code",
   "execution_count": null,
   "id": "54065db5",
   "metadata": {},
   "outputs": [],
   "source": [
    "# 예시 24. 결측값을 전값을 기준으로 앞으로 똑같이 채우는 방법\n",
    "\n",
    "print(test.head(10))\n",
    "test3 = test.fillna(method = 'ffill') # .fillna( method = '(참조 기준)')\n",
    "                                      # method = 'ffill' --> 이전 행에 값이 있으며 그 값으로 채우자!\n",
    "                                      # method = 'pad' <==>  method = 'ffill'\n",
    "print(\"*\"*40)\n",
    "print(test3.head(10))"
   ]
  },
  {
   "cell_type": "code",
   "execution_count": null,
   "id": "5c0666d2",
   "metadata": {},
   "outputs": [],
   "source": [
    "# 예시 25. 결측값을 뒷 채워나가기 방법\n",
    "\n",
    "print(test.head(10))\n",
    "test4 = test.fillna(method = 'bfill') # .fillna( method = '(참조 기준)')\n",
    "                                      # method = 'bfill' --> 이전 행에 값이 있으며 그 값으로 채우자!\n",
    "                                      # method = 'backfill' <==>  method = 'ffill'\n",
    "print(\"*\" * 40)\n",
    "print(test4.head(10))"
   ]
  },
  {
   "cell_type": "code",
   "execution_count": null,
   "id": "576daebd",
   "metadata": {},
   "outputs": [],
   "source": [
    "# 예시 26. 빈값에 평균값으로 채우기 (각 컬럼별로)\n",
    "\n",
    "print(test.describe())\n",
    "print(\"*\" * 40)\n",
    "print(test.head(10))                      # 첫 10개의 데이터 (결측값이 존재함)\n",
    "test5 = test.fillna(test.mean())          # 모든 결측값에는 각 컬럼별로 평균값으로 대체하자!\n",
    "#test5 = test.fillna(round(test.mean()))  # 모든 결측값에는 각 컬럼별로 평균값으로 대체하고 소수점을 반올림(round)로 추가로 삽입\n",
    "print(\"*\" * 40)\n",
    "print(test5.head(10))                     # 첫 10개의 데이터"
   ]
  },
  {
   "cell_type": "code",
   "execution_count": null,
   "id": "c77fe2af",
   "metadata": {},
   "outputs": [],
   "source": [
    "# 예시 27. 빈값에 평균값으로 채우는데 특정한 컬럼만 선택하여 채우기\n",
    "\n",
    "print(test.mean()['국어']) # 총 국어 점수의 평균값\n",
    "print(\"*\" * 40)\n",
    "print(test.head(10))                      # 첫 10개의 데이터 (결측값이 존재함)\n",
    "test5 = test.fillna(test.mean()['국어'])  # 모든 결측값에는 '국어' 컬럼의 평균값 기준으로 모든 빈값에 대체하자!\n",
    "print(\"*\" * 40)\n",
    "print(test5.head(10))                     # 첫 10개의 데이터 (결측값을 일부 수정한 데이터)"
   ]
  },
  {
   "cell_type": "code",
   "execution_count": null,
   "id": "7df98dfd",
   "metadata": {},
   "outputs": [],
   "source": [
    "# 예시 28. 빈값에 평균값으로 채우는데 특정한 컬럼들만 선택하여 채우기\n",
    "\n",
    "print(test.mean()['국어':'영어'])         # 각각 국어와 영어 점수의 평균값\n",
    "print(\"*\" * 40)\n",
    "print(test.head(10))                      # 첫 10개의 데이터 (결측값이 존재함)\n",
    "test5 = test.fillna(test.mean()['국어':'영어'])  # 모든 결측값에는 '국어' 컬럼의 평균값 기준으로 모든 빈값에 대체하자!\n",
    "print(\"*\" * 40)\n",
    "print(test5.head(10))                     # 첫 10개의 데이터 (결측값을 일부 수정한 데이터)"
   ]
  },
  {
   "cell_type": "markdown",
   "id": "30533b50",
   "metadata": {},
   "source": [
    "# 문자값들을 숫자로 변경하고 싶을때"
   ]
  },
  {
   "cell_type": "code",
   "execution_count": null,
   "id": "514afb26",
   "metadata": {},
   "outputs": [],
   "source": [
    "# 예시 29. '성별'이란 컬럼에서는 '남자'와 '여자'값만 존재한다. 그래서 남자면 1, 여자면 0으로 대체하고자 한다.\n",
    "test6 = test\n",
    "test6.loc[:, '성별'].replace('남자', 0, inplace = True) # loc를 사용하여 쉽게 검색하고, .replace( 기존값, 대체값)을 입력하면 된다. \n",
    "test6.loc[:, '성별'].replace('여자', 1, inplace = True) # 주의: inplace = True를 생략하게 된다면 수정한 값만 출력되고 실제로는 저장이 안되어 있다.\n",
    "                                                        #      그래서 inplace를 True라고 설정하면 수정한 값 뿐만아니라 그외 컬럼값들도 보존할 수 있다.\n",
    "test6.head() # 첫 5개의 데이터 출력"
   ]
  },
  {
   "cell_type": "code",
   "execution_count": null,
   "id": "6cebec4a",
   "metadata": {},
   "outputs": [],
   "source": [
    "# Q2. '성별'이란 컬럼에서는 '남자'와 '여자'값만 존재한다. 남자면 M, 여자면 F로 변경해서 첫 5개의 데이터를 출력해보세요.\n",
    "test7 = test\n",
    "test7.loc[:, '성별'].replace(     ,      , inplace = True)  # 빈칸1. 채우기\n",
    "test7.loc[:, '성별'].replace(     ,      , inplace = True)  # 빈칸2. 채우기\n",
    "                                                       \n",
    "test7.head() # 첫 5개의 데이터 출력"
   ]
  },
  {
   "cell_type": "markdown",
   "id": "b4521d92",
   "metadata": {},
   "source": [
    "# 숫자값들을 문자로 변경하고 싶을때"
   ]
  },
  {
   "cell_type": "code",
   "execution_count": null,
   "id": "16ddb71b",
   "metadata": {},
   "outputs": [],
   "source": [
    "# 예시 30. '성별'이란 컬럼에서는 '남자'와 '여자'값만 존재한다. 그래서 남자면 1, 여자면 0으로 대체하고자 한다.\n",
    "test8 = test\n",
    "test8.loc[:, '생년월일'] = test8.loc[:, '생년월일'].map(str)\n",
    "test8.loc[:, '생년월일'].replace(r'^9\\d+', 'Z', regex = True, inplace = True) \n",
    "test8.loc[:, '생년월일'].replace(r'^8\\d+', 'M', regex = True, inplace = True) \n",
    "                                                        \n",
    "test8.head(10)"
   ]
  },
  {
   "cell_type": "markdown",
   "id": "6ed0e490",
   "metadata": {},
   "source": [
    "# 새로운 컬럼(열)도 생성할 수 있다."
   ]
  },
  {
   "cell_type": "code",
   "execution_count": null,
   "id": "6e3fe0f9",
   "metadata": {},
   "outputs": [],
   "source": [
    "# 예시 31. \n",
    "# test변수안에 '총점'이란 컬럼을 생성하고 값은 각각 국.수.영.과.사 점수의 합값을 덧셈(+)으로 사용하면 된다.\n",
    "test = test.fillna(50) # 모든 빈값을 50점으로 통일함\n",
    "test['총점'] = test['국어'] + test['수학'] + test['영어'] + test['과학'] + test['사회']\n",
    "test.head()"
   ]
  },
  {
   "cell_type": "code",
   "execution_count": null,
   "id": "71ecfcc5",
   "metadata": {
    "scrolled": true
   },
   "outputs": [],
   "source": [
    "# 예시 32. \n",
    "# test변수안에 '총점'에서 평균값도 '평균'이란 새로운 변수도 생성이 가능하다.\n",
    "test['GPA'] = test['총점'] / 5 # 총점수의 최대값은 500점이고 최솟값은 0점 사이 이다. \n",
    "                               # 그래서 500점 / 5과목 = 총점의 평균 점수를 각 학생별로 알 수 있다.\n",
    "test.head()"
   ]
  },
  {
   "cell_type": "markdown",
   "id": "9d50ea9a",
   "metadata": {},
   "source": [
    "### Groupby 활용 --> 특정한 컬럼 기준으로 구분하여 다른 컬럼값들을 비교할 때 주로 사용함"
   ]
  },
  {
   "cell_type": "code",
   "execution_count": null,
   "id": "891b0230",
   "metadata": {},
   "outputs": [],
   "source": [
    "# 예시 33.\n",
    "group1 = test['GPA'].groupby(test['성별']) # GPA란 총점의 평균 점수를 보고 싶은데, 우리는 성별로 비교를 하고 싶다.\n",
    "                                          # 즉, 총 30명이란 데이터에서 과연 여성이 남성보다 평균적으로 점수가 높은지,\n",
    "                                          # 아니면 남성이 여성보다 더 높은 점수를 받았는지가 궁금하다!\n",
    "round(group1.mean(), 2)                    # 그래서 groupby( 변수명['컬럼명']) 을 적용하여 각 성별로 평균을 반올림 소수점 2자리까지 출력함."
   ]
  },
  {
   "cell_type": "code",
   "execution_count": null,
   "id": "55efda15",
   "metadata": {},
   "outputs": [],
   "source": [
    "# 예시 34.\n",
    "group2 = test['GPA'].groupby(test['학력']) # GPA란 총점의 평균 점수를 보고 싶은데, 우리는 학력로 비교를 하고 싶다.\n",
    "                                           # 즉, 총 30명이란 데이터에서 과연 어떤 학력에서 가장 높은 평균 점수를 받았을까?\n",
    "                                           #  대졸? 고졸? 석사? 박사?\n",
    "round(group2.mean(), 2)                    # 그래서 groupby( 변수명['컬럼명']) 을 적용하여 각 학력별로 평균을 반올림 소수점 2자리까지 출력함."
   ]
  },
  {
   "cell_type": "code",
   "execution_count": null,
   "id": "b9e41c07",
   "metadata": {},
   "outputs": [],
   "source": [
    "# Q3. 위 예시처럼 'GPA'를 알고싶은데, 이번에는 성(이름)별로 구분하시고 평균값(mean)은 반올림(round)를 사용하셔서 소수점 2개까지 허용해서 출력해보세요.\n",
    "\n",
    "group3 =                              # 빈칸1. 채우기  \n",
    "\n",
    "round(                )               # 빈칸2. 채우기"
   ]
  },
  {
   "cell_type": "markdown",
   "id": "2454f3e4",
   "metadata": {},
   "source": [
    "# .sort_values 활용 방법 --> 내림차순 VS 오름차순"
   ]
  },
  {
   "cell_type": "code",
   "execution_count": null,
   "id": "4da23557",
   "metadata": {},
   "outputs": [],
   "source": [
    "# 예시1. \n",
    "test = pd.read_csv('/content/drive/MyDrive/ColabNotebooks/Basic_Python/test.csv', encoding = 'utf-8') \n",
    "test10 = pd.DataFrame([test['국어'],\n",
    "                       test['수학'],\n",
    "                       test['영어'],\n",
    "                       test['과학'],\n",
    "                       test['사회']]\n",
    "                     )\n",
    "\n",
    "test10 = test10.T\n",
    "\n",
    "print(test10.head(10))\n",
    "print(\"*\" * 40)\n",
    "print(test10.sort_values(by = \"국어\").head(10))                     # 국어 점수 기준으로 오름차순의 첫 10번째 출력\n",
    "print(\"*\"* 40)\n",
    "print(test10.sort_values(by = \"국어\", ascending = False).head(10)) # 국어 점수 기준으로 내림차순의 첫 10번째 출력"
   ]
  },
  {
   "cell_type": "code",
   "execution_count": null,
   "id": "d8c04c12",
   "metadata": {},
   "outputs": [],
   "source": [
    "# 예시 2.\n",
    "print(test10.sort_values(by = \"수학\").head(10))                     # 수학 점수 기준으로 오름차순의 첫 10번째 출력\n",
    "print(\"*\"* 40)\n",
    "print(test10.sort_values(by = \"수학\", ascending = False).head(10)) # 수학 점수 기준으로 내림차순의 첫 10번째 출력\n"
   ]
  },
  {
   "cell_type": "code",
   "execution_count": null,
   "id": "04adda2d",
   "metadata": {},
   "outputs": [],
   "source": [
    "# Q4. 영어 점수 기준으로 오름차순으로 점수를 출력해주세요.\n",
    "\n",
    "test10.sort_values(by = \"       \", ascending =       ) # 빈칸 채우기 1.\n"
   ]
  },
  {
   "cell_type": "code",
   "execution_count": null,
   "id": "40df7df5",
   "metadata": {},
   "outputs": [],
   "source": [
    "# 예시 3.\n",
    "# 참고\n",
    "print(test10.sort_values(by = [\"국어\", \"수학\"]).head(10))                     # 국어 점수 기준으로 먼저 오름차순을 나열하고\n",
    "                                                                              # 수학 점수 기준을 그 다음 오름차순으로 나열하여 \n",
    "                                                                              # 첫 10번째 출력\n",
    "print(\"*\"* 40)\n",
    "print(test10.sort_values(by = [\"국어\", \"수학\"], ascending = False).head(10)) # 국어 점수 기준으로 먼저 내림차순을 나열하고\n",
    "                                                                              # 수학 점수 기준을 그 다음 내림차순으로 나열하여 \n",
    "                                                                              # 첫 10번째 출력\n"
   ]
  },
  {
   "cell_type": "code",
   "execution_count": null,
   "id": "4c7c04b5",
   "metadata": {},
   "outputs": [],
   "source": []
  }
 ],
 "metadata": {
  "kernelspec": {
   "display_name": "Python 3",
   "language": "python",
   "name": "python3"
  },
  "language_info": {
   "codemirror_mode": {
    "name": "ipython",
    "version": 3
   },
   "file_extension": ".py",
   "mimetype": "text/x-python",
   "name": "python",
   "nbconvert_exporter": "python",
   "pygments_lexer": "ipython3",
   "version": "3.8.10"
  }
 },
 "nbformat": 4,
 "nbformat_minor": 5
}
