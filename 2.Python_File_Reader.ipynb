{
 "cells": [
  {
   "cell_type": "markdown",
   "id": "79c3c227",
   "metadata": {},
   "source": [
    "# 함수 function"
   ]
  },
  {
   "cell_type": "markdown",
   "id": "57ea66e7",
   "metadata": {},
   "source": [
    "### def 함수 이름 (매개변수):\n",
    "###      수행할 문장1\n",
    "###      수행할 문장2\n",
    "###      수행할 문장3"
   ]
  },
  {
   "cell_type": "code",
   "execution_count": null,
   "id": "1f5427c3",
   "metadata": {},
   "outputs": [],
   "source": [
    "# 예시1. a + b <==> a 더하기 b의 함수와 의미는 서로 같다.\n",
    "# 위 더하기 공식을 함수로 변환하면??\n",
    "def add(a, b):    # 'add'란 함수명을 의미하고, a와 b는 매개변수를 의미하며, a에 원하는 값과 b에 원하는 값을 입력하면,\n",
    "    return a + b # 함수를 통해 a + b가 실행되어 출력됨.\n",
    "\n",
    "print(add(1, 4)) # 1 + 4로 계산하여 5가 출력됨.\n",
    "\n",
    "\n",
    "# 여기서 return은 함수의 결괏값을 돌려주는 명령어이다."
   ]
  },
  {
   "cell_type": "code",
   "execution_count": null,
   "id": "e1f6f1b6",
   "metadata": {},
   "outputs": [],
   "source": [
    "# 예시2. a + b <==> a 더하기 b의 함수와 의미는 서로 같다.\n",
    "\n",
    "def add(a, b):    # 'add'란 함수명을 의미하고, a와 b는 매개변수를 의미하며, a에 원하는 값과 b에 원하는 값을 입력하면,\n",
    "    return a + b # 함수를 통해 a + b가 실행되어 출력됨.\n",
    "\n",
    "print(add(55, 44)) # 55 + 44로 계산하여 99가 출력됨"
   ]
  },
  {
   "cell_type": "code",
   "execution_count": null,
   "id": "f62b31e2",
   "metadata": {},
   "outputs": [],
   "source": [
    "# 예시3. a - b <==> a 빼기 b의 함수와 의미는 서로 같다.\n",
    "\n",
    "def minus(a, b):    # 'minus'란 함수명을 의미하고, a와 b는 매개변수를 의미하며, a에 원하는 값과 b에 원하는 값을 입력하면,\n",
    "    return a - b # 함수를 통해 a + b가 실행되어 출력됨.\n",
    "\n",
    "print(minus(55, 44)) # 55 - 44로 계산하여 11이 출력됨"
   ]
  },
  {
   "cell_type": "code",
   "execution_count": null,
   "id": "1d8fa578",
   "metadata": {},
   "outputs": [],
   "source": [
    "# 예시4. a * b <==> a  곱하기 b의 함수와 의미는 서로 같다.\n",
    "\n",
    "def multiply(a, b):    # 'multiply'란 함수명을 의미하고, a와 b는 매개변수를 의미하며, a에 원하는 값과 b에 원하는 값을 입력하면,\n",
    "    return a * b       # 함수를 통해 a + b가 실행되어 출력됨.\n",
    "\n",
    "print(multiply(55, 10)) # 55 * 10로 계산하여 55이 출력됨"
   ]
  },
  {
   "cell_type": "code",
   "execution_count": null,
   "id": "278a08a4",
   "metadata": {},
   "outputs": [],
   "source": [
    "# 예시5. a / b <==> a  나누기 b의 함수와 의미는 서로 같다.\n",
    "\n",
    "def divide(a, b):    # 'divide'란 함수명을 의미하고, a와 b는 매개변수를 의미하며, a에 원하는 값과 b에 원하는 값을 입력하면,\n",
    "    return a / b       # 함수를 통해 a + b가 실행되어 출력됨.\n",
    "\n",
    "print(divide(55, 11)) # 55 / 11 계산하여 5가 출력됨"
   ]
  },
  {
   "cell_type": "code",
   "execution_count": null,
   "id": "f28b895c",
   "metadata": {},
   "outputs": [],
   "source": [
    "# 예시6. a + b <==> a 더하기 b의 함수와 의미는 서로 같다.\n",
    "\n",
    "def add(a, b):     # 'add'란 함수명을 의미하고, a와 b는 매개변수를 의미하며, a에 원하는 값과 b에 원하는 값을 입력하면,\n",
    "    result = a + b # result란 변수에 a + b의 식을 저장하고,\n",
    "    return result # result의 결괏값만 돌려 받는다.\n",
    "\n",
    "print(add(1, 4)) # 1 + 4로 계산하여 5가 출력됨."
   ]
  },
  {
   "cell_type": "code",
   "execution_count": null,
   "id": "6e4fa859",
   "metadata": {},
   "outputs": [],
   "source": [
    "# 예시7. a + b <==> a 더하기 b의 함수와 의미는 서로 같다.\n",
    "\n",
    "def add(a, b):     # 'add'란 함수명을 의미하고, a와 b는 매개변수를 의미하며, a에 원하는 값과 b에 원하는 값을 입력하면,\n",
    "    result = a + b # result란 변수에 a + b의 식을 저장하고,\n",
    "    return result # result의 결괏값만 돌려 받는다.\n",
    "\n",
    "a = add(4, 5)     # add(4, 5)을 계산하고 결괏값만 a에 대입함.\n",
    "print(a)          # 그래서 a를 출력하면...."
   ]
  },
  {
   "cell_type": "code",
   "execution_count": null,
   "id": "f02c3f56",
   "metadata": {},
   "outputs": [],
   "source": [
    "# 예시8. 함수에 for문 사용\n",
    "\n",
    "def number_range(a, b):\n",
    "    for i in range(a, b):\n",
    "        print(i)\n",
    "\n",
    "number_range(0, 10)"
   ]
  },
  {
   "cell_type": "code",
   "execution_count": null,
   "id": "0782009f",
   "metadata": {},
   "outputs": [],
   "source": [
    "# 예시9. 함수에 for문 사용\n",
    "\n",
    "def number_range(a, b):\n",
    "    for i in range(a, b, -1):\n",
    "        print(i)\n",
    "\n",
    "number_range(10, 0)"
   ]
  },
  {
   "cell_type": "code",
   "execution_count": null,
   "id": "2bf330ef",
   "metadata": {},
   "outputs": [],
   "source": [
    "# 예시 10. 여러 개의 입력값을 받는 함수 만들기\n",
    "\n",
    "def add_many(*args):\n",
    "    result = 0  # 우선 result란 변수에 0으로 시작함.\n",
    "    for i in args:\n",
    "        result = result + i # result에 i값만큼 더해 저장함.\n",
    "    return result # 최종 result값을 돌려받는다.\n",
    "\n",
    "print(add_many(1,2,3,4,5))     # 1+2+3+4+5 = 15가 나온다.\n",
    "print(add_many(100, 200, 300)) # 100+200+300 = 600이 나온다. "
   ]
  },
  {
   "cell_type": "code",
   "execution_count": null,
   "id": "de6883c5",
   "metadata": {},
   "outputs": [],
   "source": [
    "# 예시 11. 여러 개의 입력값을 받는 함수 만들기\n",
    "\n",
    "def multiply_many(*args):\n",
    "    result = 1  # 우선 result란 변수에 1로 시작함.\n",
    "    for i in args:\n",
    "        result *= i# result에 i값만큼 곱하고 저장함.\n",
    "    return result # 최종 result값을 돌려받는다.\n",
    "\n",
    "print(multiply_many(1000, 100, 10))     # 1000*100*10 = 1000000 가 계산된다.\n",
    "print(multiply_many(100, 20, 30))       # 100*200*300 = 60000 이 계산된다. "
   ]
  },
  {
   "cell_type": "code",
   "execution_count": null,
   "id": "b0c02370",
   "metadata": {},
   "outputs": [],
   "source": [
    "# 예시 12. 여러 개의 함수를 하나의 함수로 결합\n",
    "\n",
    "def add_mul(choice, *args): # 통합된 덧셈 함수와 곱셈 함수\n",
    "    if choice == \"add\":     # choice란 매개변수에 \"add\"라고 입력하면 덧셈 함수 실행\n",
    "        result = 0          # 초기 result값은 0으로 선정\n",
    "        for i in args:\n",
    "            result += i\n",
    "        return result\n",
    "    elif choice == \"mul\":   # choice란 매개변수에 \"mul\"라고 입력하면 곱셈 함수 실행\n",
    "        result = 1          # 초기 result값은 1로 선정\n",
    "        for i in args:  \n",
    "            result *= i\n",
    "        return result\n",
    "\n",
    "print(add_mul(\"add\", 100, 10))          # 덧셈: 100*10 = 110이 계산된다.\n",
    "print(add_mul(\"mul\", 20, 30, 10))       # 곱셈: 20*30*10 = 6000 이 계산된다. "
   ]
  },
  {
   "cell_type": "markdown",
   "id": "9e478e90",
   "metadata": {},
   "source": [
    "# 매개변수(Parameter)에 초깃값 미리 설정하기"
   ]
  },
  {
   "cell_type": "code",
   "execution_count": null,
   "id": "5b1f59f6",
   "metadata": {},
   "outputs": [],
   "source": [
    "# 예시 13.\n",
    "def say_myself(name, age, male = True): # 일단 male이란 변수는 기본값으로 True로 미리 선정함.\n",
    "    print(\"나의 이름은 %s입니다.\" % name)\n",
    "    print(\"나이는 %d살입니다.\" % age)\n",
    "    if male: # if문에서 male변수가 True이면 다음 명령어 실행\n",
    "        print(\"남자입니다.\")\n",
    "    else:    # 첫 if문을 충족하지 못하면 바로 다음 명령어 실행함.\n",
    "        print(\"여자입니다.\")\n",
    "\n",
    "say_myself('김군', 28)        # 우리는 현재 male값은 True로 설정되어 있어, 수정을 안하는 이상 True로 인식받아 '남자'로 출력됨.\n",
    "print(\"*************************\")\n",
    "say_myself('여군', 34, False) # male값에 False라고 수정하여 '여자'이란 값을 변환받아 출력됨."
   ]
  },
  {
   "cell_type": "markdown",
   "id": "1100f8ed",
   "metadata": {},
   "source": [
    "# 클래스 class"
   ]
  },
  {
   "cell_type": "code",
   "execution_count": null,
   "id": "7e678326",
   "metadata": {},
   "outputs": [],
   "source": [
    "# 예시1. 단순 덧셈 프로그램\n",
    "\n",
    "result = 0\n",
    "\n",
    "def add(num):\n",
    "    global result  # global은 전역 변수를 의미하며 함수 밖에 있는 변수를 호출할 때 사용한다.\n",
    "                    # 함수 안에 있는 변수들은 함수 범위내에서만 저장되며 밖에서는 알수가 없다.\n",
    "    result += num   # <--- result = result + num 과 같다.\n",
    "    return result\n",
    "\n",
    "print(add(3))       # add()함수를 사용하여 0값에 3을 더한다.\n",
    "print(add(4))       # add()함수를 다시 실행하여 3이란 값으로 다시 4를 더하여 최종 7이 나온다.\n",
    "                    # 즉, 숫자 하나식만 입력하여 두번의 함수를 호출하여 덧셈이 완성되었다."
   ]
  },
  {
   "cell_type": "markdown",
   "id": "7fb05290",
   "metadata": {},
   "source": [
    "그런데 만일 한 프로그램에서 2대의 계산기가 필요한 상황이 발생하면 어떻게 해야 할까?\n",
    "각 계산기는 각각의 결괏값을 유지해야 하기 때문에 위와 같이 add함수 하나만으로는 결괏값을 따로 유지할 수 없다.\n",
    "이런 상황을 해결하려면 다음과 같이 함수를 각각 따로 만들어야 한다."
   ]
  },
  {
   "cell_type": "code",
   "execution_count": null,
   "id": "e99c8a48",
   "metadata": {},
   "outputs": [],
   "source": [
    "result1 = 0\n",
    "result2 = 0\n",
    "\n",
    "def add1(num):\n",
    "    global result1\n",
    "    result1 += num\n",
    "    return result1\n",
    "\n",
    "def add2(num):\n",
    "    global result2\n",
    "    result2 += num\n",
    "    return result2\n",
    "\n",
    "print(add1(3))\n",
    "print(add1(4))\n",
    "print(add2(3))\n",
    "print(add2(7))"
   ]
  },
  {
   "cell_type": "markdown",
   "id": "8b27691a",
   "metadata": {},
   "source": [
    "계산기 1의 결괏값이 계산기 2에 아무 영향을 끼치지 않음을 확인할 수 있다.\n",
    "하지만 계산기가 3개, 5개, 10개로 점점 더 많이 필요해진다면 어떻게 해야 할까? 그때마다 전역 변수와 함수를 추가할 것인가? 여기에 빼기나 곱하기 등의 기능을 추가해야 한다면 상황은 점점 더 어려워질 것이다."
   ]
  },
  {
   "cell_type": "markdown",
   "id": "e0a048e7",
   "metadata": {},
   "source": [
    "위와 같은 경우에 클래스(Class)를 사용하면 다음과 같이 간단하게 해결할 수 있다."
   ]
  },
  {
   "cell_type": "code",
   "execution_count": null,
   "id": "392646c8",
   "metadata": {
    "scrolled": true
   },
   "outputs": [],
   "source": [
    "# 예시 2.\n",
    "class Calculator:\n",
    "    def __init__(self):\n",
    "        self.result = 0\n",
    "        \n",
    "    def add(self, num):\n",
    "        self.result += num\n",
    "        return self.result\n",
    "\n",
    "cal1 = Calculator()\n",
    "cal2 = Calculator()\n",
    "\n",
    "print(cal1.add(3))\n",
    "print(cal1.add(4))\n",
    "print(cal2.add(3))\n",
    "print(cal2.add(7))"
   ]
  },
  {
   "cell_type": "markdown",
   "id": "bd5822bb",
   "metadata": {},
   "source": [
    "Calculator 클래스로 만든 별개의 계산기 cal1, cal2가 각각의 역할을 수행한다. 그리고 계산기(cal1, cal2)의 결괏값 역시 다른 계산기의 결괏값과 상관없이 독립적인 값을 유지한다. 클래스를 사용하면 계산기 대수가 늘어나더라도 객체를 생성만 하면 되기 때문에 함수를 사용하는 경우와 달리 매우 간단해진다."
   ]
  },
  {
   "cell_type": "markdown",
   "id": "ef829618",
   "metadata": {},
   "source": [
    "다른 연산자를 사용하여 뺄셈, 곱셈과 나눗셈도 비슷하게 함수를 통해 작성 후 Calculator란 클래스에 저장하면 일반 계산기 프로그램과 같다."
   ]
  },
  {
   "cell_type": "code",
   "execution_count": null,
   "id": "acbaf347",
   "metadata": {},
   "outputs": [],
   "source": [
    "# 예시4. 두개이상의 함수로 구성할 수 있다.\n",
    "# 간단한 수학 패키지처럼 (1)덧셈, (2)뺄셈, (3)곱셈, (4) 나눗셈으로 각각 함수를 만들고\n",
    "# 우리는 이 4가지의 함수를 'math(수학)'이란 클래스에 묶어 저장할 것이다.\n",
    "\n",
    "class math:\n",
    "    # 덧셈 함수\n",
    "    def add(m, n):\n",
    "        return m + n\n",
    "    \n",
    "    # 뺄셈 함수\n",
    "    def minus(m, n):\n",
    "        return m - n\n",
    "    \n",
    "    # 곱셈 함수\n",
    "    def multiply(m, n):\n",
    "        return m * n\n",
    "    \n",
    "    # 나눗셈 함수\n",
    "    def divide(m, n):\n",
    "        return m /n\n",
    "    \n",
    "a = math                # 우리는 math란 class에는 add함수, minus함수, multiply함수와 ,divide함수가 있다.\n",
    "\n",
    "print(a.add(10, 20))    # math란 클래스를 a변수에 대입하여 'math'란 이름을 인제는 'a'라고 부를수 있다.\n",
    "                        # 그래서 a에도 4가지의 함수명이 담겨 있으며, 함수명으로 구분하여 호출할 수 있다.\n",
    "                        # 즉, a.add(10, 20)은 math.add(10, 20)와 같은 개념이다.\n",
    "print(math.add(10, 20))\n",
    "\n",
    "print(a.divide(50, 10)) # math란 클래스를 a변수에 대입하여 'math'란 이름을 인제는 'a'라고 부를수 있다.\n",
    "                        # 그래서 a에도 4가지의 함수명이 담겨 있으며, 함수명으로 구분하여 호출할 수 있다.\n",
    "                        # 즉, a.divide(50, 10)은 math.divide(50, 10)와 같은 개념이다.\n",
    "print(math.divide(50, 10))"
   ]
  },
  {
   "cell_type": "code",
   "execution_count": null,
   "id": "07b7cc47",
   "metadata": {},
   "outputs": [],
   "source": [
    "# 예시5. 예시4에서 작성한 간단한 계산기 프로그램을 조금 더 전문적으로 코딩이다.\n",
    "#        결과값은 동일하다.\n",
    "\n",
    "class math:\n",
    "    def __init__(self, first, second):\n",
    "        self.first = first\n",
    "        self.second = second\n",
    "    \n",
    "    def setdata(self, first, second):\n",
    "        self.first = first\n",
    "        self.second = second\n",
    "        \n",
    "    # 덧셈 함수\n",
    "    def add(self):\n",
    "        result = self.first + self.second\n",
    "        return result\n",
    "    \n",
    "    # 뺄셈 함수\n",
    "    def minus(self):\n",
    "        result = self.first - self.second\n",
    "        return result\n",
    "    \n",
    "    # 곱셈 함수\n",
    "    def multiply(self):\n",
    "        result = self.first * self.second\n",
    "        return result\n",
    "    \n",
    "    # 나눗셈 함수\n",
    "    def divide(self):\n",
    "        result = self.first / self.second\n",
    "        return result\n",
    "    \n",
    "a = math(10, 2)                # 우리는 math란 class에는 setdata란 두 숫자의 설정과정, add함수, minus함수, multiply함수와 ,divide함수가 있다.\n",
    "\n",
    "print(a.add())                 # 덧셈\n",
    "print(a.minus())               # 뺄셈\n",
    "print(a.multiply())            # 곱셈\n",
    "print(a.divide())              # 나눗셈"
   ]
  },
  {
   "cell_type": "markdown",
   "id": "4a8a4100",
   "metadata": {},
   "source": [
    "# 클래스의 상속 (Inheritance)"
   ]
  },
  {
   "cell_type": "markdown",
   "id": "48199a6b",
   "metadata": {},
   "source": [
    "### 상속이란 '물려받다'라는 뜻으로, '재산을 상속받다'라고 할 때의 상속과 같은 의미이다. 클래스에도 이 개념을 적용할 수 있다. 어떤 클래스를 만들 때 다른 클래스의 기능을 물려받을 수 있게 만드는 것이다. 이번에는 상속 개념을 사용하여 우리가 만든 math 클래스에 \\begin{equation*} {a}^2 \\end{equation*} (a의 b제곱)을 구할 수 있는 기능을 추가해 보자.\n",
    "### 앞에서 math 클래스는 이미 만들어 놓았으므로 math 클래스를 상속하는 extra_math 클래스는 다음과 같이 간단하게 만들 수 있다."
   ]
  },
  {
   "cell_type": "code",
   "execution_count": null,
   "id": "a7010853",
   "metadata": {},
   "outputs": [],
   "source": [
    "class extra_math(math):\n",
    "    def power(self):\n",
    "        result = self.first ** self.second\n",
    "        return result\n",
    "\n",
    "e = extra_math(4, 2)\n",
    "e.power()\n",
    "    "
   ]
  },
  {
   "cell_type": "markdown",
   "id": "ece43ab6",
   "metadata": {},
   "source": [
    "# 모듈 Module"
   ]
  },
  {
   "cell_type": "markdown",
   "id": "2b7681d0",
   "metadata": {},
   "source": [
    "### 모듈이란 함수나 변수 또는 클래스를 모아 놓은 파일이다. 모듈은 다른 파이썬 프로그램에서 불러와 사용할 수 있게끔 만든 파이썬 파일이라고도 할 수 있다. 우리는 파이썬으로 프로그래밍을 할 때 굉장히 많은 모듈을 사용한다."
   ]
  },
  {
   "cell_type": "code",
   "execution_count": null,
   "id": "abac9aa9",
   "metadata": {},
   "outputs": [],
   "source": [
    "# 예시. add_minus.py 파이썬 모듈 파일을 생성\n",
    "\n",
    "def add(a, b):\n",
    "    return a + b\n",
    "\n",
    "def sub(a, b):i\n",
    "    return a - b\n"
   ]
  },
  {
   "cell_type": "code",
   "execution_count": null,
   "id": "87140466",
   "metadata": {},
   "outputs": [],
   "source": [
    "!cp /content/gdrive/MyDrive/ColabNotebooks/Basic_Python/add_minus.py ."
   ]
  },
  {
   "cell_type": "code",
   "execution_count": null,
   "id": "393cae88",
   "metadata": {},
   "outputs": [],
   "source": [
    "# 위에서 생성한 add_minus란 파이썬 모듈 파일 내용을 다 읽어서 호출한다.\n",
    "import add_minus"
   ]
  },
  {
   "cell_type": "markdown",
   "id": "76c77aae",
   "metadata": {},
   "source": [
    "### add_minus.py를 불러오기 위해 import add_minus 이라고 입력하였다. 실수로 import add_minus.py로 입력하지 않도록 주의하자. import는 이미 만들어 놓은 파이썬 모듈을 사용할 수 있게 해주는 명령어이다. \n",
    "### add_minus.py 파일에 있는 add 함수를 사용하기 위해서는 위 예와 같이 add_minus.add처럼 모듈 이름 뒤에 '.'를 붙이고 함수 이름을 쓰면 된다."
   ]
  },
  {
   "cell_type": "markdown",
   "id": "730078b9",
   "metadata": {},
   "source": [
    "# import 모듈 이름"
   ]
  },
  {
   "cell_type": "code",
   "execution_count": null,
   "id": "6addaa97",
   "metadata": {},
   "outputs": [],
   "source": [
    "print(add_minus.add(3, 5))"
   ]
  },
  {
   "cell_type": "code",
   "execution_count": null,
   "id": "3ebeeda3",
   "metadata": {},
   "outputs": [],
   "source": [
    "print(add_minus.sub(4, 2))"
   ]
  },
  {
   "cell_type": "markdown",
   "id": "7ff8ff3e",
   "metadata": {},
   "source": [
    "### 때로는 add_minus.add, add_minus.sub 처럼 쓰지 않고 add, sub처럼 모듈 이름 없이 함수 이름만 쓰고 싶은 경우도 있을 것이다. 이럴 때는 'from 모듈 이름 import 모듈 함수'를 사용하면 된다."
   ]
  },
  {
   "cell_type": "markdown",
   "id": "ffafc395",
   "metadata": {},
   "source": [
    "from 모듈 이름 import 모듈 함수"
   ]
  },
  {
   "cell_type": "code",
   "execution_count": null,
   "id": "6888cdf9",
   "metadata": {},
   "outputs": [],
   "source": [
    "# 예시1. \n",
    "from add_minus import add # 여기서 add_minus는 우리 만든 add_minu.py란 모듈 파일이고, add는 모듈안에 담긴 add 함수를 의미한다.\n",
    "add(3, 4)"
   ]
  },
  {
   "cell_type": "code",
   "execution_count": null,
   "id": "8f7db776",
   "metadata": {},
   "outputs": [],
   "source": [
    "# 예시2. \n",
    "from add_minus import add, sub  # 여기서 add_minus는 우리 만든 add_minu.py란 모듈 파일이고, add와 sub는 모듈안에 담긴 add 함수, sub함수를 의미한다.\n",
    "print(add(3, 4))\n",
    "print(sub(5, 1))"
   ]
  },
  {
   "cell_type": "code",
   "execution_count": null,
   "id": "739e8ede",
   "metadata": {},
   "outputs": [],
   "source": [
    "# 예시3. \n",
    "from add_minus import *  # 여기서 add_minus는 우리 만든 add_minu.py란 모듈 파일이고, *는 모든 함수를 호출하여 사용할 수 있다.\n",
    "print(add(3, 4))          # add함수 == 덧셈\n",
    "print(sub(5, 1))          # sub함수 == 뺄셈"
   ]
  },
  {
   "cell_type": "markdown",
   "id": "58703baa",
   "metadata": {},
   "source": [
    "# 클래스나 변수 등을 포함한 모듈"
   ]
  },
  {
   "cell_type": "markdown",
   "id": "fd54b89c",
   "metadata": {},
   "source": [
    "# 예시 circle.py (원의 넓이 계산기)"
   ]
  },
  {
   "cell_type": "code",
   "execution_count": null,
   "id": "46995c3d",
   "metadata": {},
   "outputs": [],
   "source": [
    "!cp /content/gdrive/MyDrive/ColabNotebooks/Basic_Python/circle.py ."
   ]
  },
  {
   "cell_type": "code",
   "execution_count": null,
   "id": "66b18248",
   "metadata": {},
   "outputs": [],
   "source": [
    "import circle"
   ]
  },
  {
   "cell_type": "code",
   "execution_count": null,
   "id": "4f7c1d28",
   "metadata": {},
   "outputs": [],
   "source": [
    "print(circle.PI)"
   ]
  },
  {
   "cell_type": "markdown",
   "id": "08ed4e19",
   "metadata": {},
   "source": [
    "### 위 예에서 볼 수 있듯이 circle.PI처럼 입력해서 circle.py 파일에 있는 PI변수 값을 사용할 수 있다."
   ]
  },
  {
   "cell_type": "code",
   "execution_count": null,
   "id": "a40f8852",
   "metadata": {},
   "outputs": [],
   "source": [
    "a = circle.Math()\n",
    "print(a.solv(2))"
   ]
  },
  {
   "cell_type": "code",
   "execution_count": null,
   "id": "a23e0e7a",
   "metadata": {},
   "outputs": [],
   "source": [
    "print(circle.add(circle.PI, 4.4))"
   ]
  },
  {
   "cell_type": "markdown",
   "id": "5cf9c745",
   "metadata": {},
   "source": [
    "# 패키지 Package"
   ]
  },
  {
   "cell_type": "markdown",
   "id": "22fe8045",
   "metadata": {},
   "source": [
    "### 1. 패키지는 도트(.)를 사용하여 파이썬 모듈을 계층적(디렉터리 구조)으로 관리할 수 있게 해준다. 예를 들어 모듈 이름이 A.B인 경우에 A는 패키지 이름이 되고 B는 A 패키지의 B모듈이 된다.\n",
    "### 2. 파이썬 패키지는 디렉터리와 파이썬 모듈로 이루어진다."
   ]
  },
  {
   "cell_type": "markdown",
   "id": "da0f1db5",
   "metadata": {},
   "source": [
    "### 예시 game, sound, graphic, play는 디렉터리 이름이고 확장자가.py인 파일은 파이썬 모듈이다."
   ]
  },
  {
   "cell_type": "markdown",
   "id": "2e0f6754",
   "metadata": {},
   "source": [
    "### game 디렉터리가 이 패키지의 루트 디렉터리이고 sound, graphic, play는 서브 디렉터리이다."
   ]
  },
  {
   "cell_type": "markdown",
   "id": "afb0a8d6",
   "metadata": {},
   "source": [
    "### 간단한 파이썬 프로그램이 아니라면 이렇게 패키지 구조로 파이썬 프로그램을 만드는 것이 공동 작업이나 유지 보수 등 여러 면에서 유리하다. 또한 패키지 구조로 모듈을 만들면 다른 모듈과 이름이 겹치더라도 더 안전하게 사용할 수 있다."
   ]
  },
  {
   "attachments": {
    "image.png": {
     "image/png": "[encoded data removed]"
    }
   },
   "cell_type": "markdown",
   "id": "9078dded",
   "metadata": {},
   "source": [
    "# 가상의 game 패키지 예\n",
    "\n",
    "![image.png](attachment:image.png)"
   ]
  },
  {
   "cell_type": "markdown",
   "id": "641b2d4d",
   "metadata": {},
   "source": [
    " __init__.py의 용도"
   ]
  },
  {
   "cell_type": "markdown",
   "id": "0317623c",
   "metadata": {},
   "source": [
    " ### __init__.py파일은 해당 디렉토리가 패키지의 일부임을 알려주는 역할을 한다.\n",
    " ### 만약 game, sound, graphic 등 패키지에 포함된 디렉터리에 __init__.py파일이 없다면 패키지로 인식되지 않는다."
   ]
  },
  {
   "cell_type": "code",
   "execution_count": null,
   "id": "30b597e6",
   "metadata": {},
   "outputs": [],
   "source": []
  },
  {
   "cell_type": "code",
   "execution_count": null,
   "id": "bf93acbb",
   "metadata": {},
   "outputs": [],
   "source": []
  },
  {
   "cell_type": "markdown",
   "id": "a965e50b",
   "metadata": {},
   "source": [
    "# 예외 처리문 try-except"
   ]
  },
  {
   "cell_type": "markdown",
   "id": "020b2a5a",
   "metadata": {},
   "source": [
    "## 프로그램을 만들다 보면 수없이 많은 오류를 만나게 된다. 물론 오류가 발생하는 이유는 프로그램이 잘못 동작하는 것을 막기 위한 파이썬의 배려이다. 하지만 때때로 이러한 오류를 무시하고 싶을 때도 있다. 이를 위해 파이썬은 try, except를 사용해서 예외적으로 오류를 처리할 수 있게 해준다."
   ]
  },
  {
   "cell_type": "code",
   "execution_count": null,
   "id": "3f7abc3b",
   "metadata": {},
   "outputs": [],
   "source": [
    "# 예시1. 오류 발생\n",
    "\n",
    "a = 100 # a변수에는 100이 할당\n",
    "b = 2   # b변수에는 2가 할당\n",
    "\n",
    "\n",
    "print(a) # 출력 성공!\n",
    "print(b) # 출룍 성공!\n",
    "print(c) # c변수를 출력하고자 했으나 찾을 수 없다. 그래서 오류가 발생함."
   ]
  },
  {
   "cell_type": "code",
   "execution_count": null,
   "id": "44a387f5",
   "metadata": {},
   "outputs": [],
   "source": [
    "# 예시 1. 오류를 해결하기 위해 try-except 사용 방법\n",
    "\n",
    "try:\n",
    "    a = 100\n",
    "    b = 2\n",
    "    \n",
    "    print(a)  # 출력 성공\n",
    "    print(b)  # 출력 성공\n",
    "    print(c)  # 오류가 발생하지만, try-except문이 있어서 어떤 오류인지 미리 알 수 있다. --> except문 다음에 있는 명령어를 실행함.\n",
    "    \n",
    "except:\n",
    "    print(\"현재 a와 b란 변수에만 값이 있고 그외 변수는 없어 출력이 불가능하다!\")\n",
    "    "
   ]
  },
  {
   "cell_type": "code",
   "execution_count": null,
   "id": "7cd7cecf",
   "metadata": {},
   "outputs": [],
   "source": [
    "# Q1. 위 처럼 try-except문을 사용하여 빨간색인 오류 메시지를 출력하지마시고 어떠한 오류인지 설명 내용으로 간단하게 작성하여 코딩해보세요.\n",
    "\n",
    "\n",
    "\n",
    "\n"
   ]
  },
  {
   "cell_type": "markdown",
   "id": "d15afa23",
   "metadata": {},
   "source": [
    "# 빠르게 파일 읽어 오기 실습"
   ]
  },
  {
   "cell_type": "markdown",
   "id": "6a965d6b",
   "metadata": {},
   "source": [
    "### 간단하게 파일 읽는 방법 중 open()이 가장 쉽다."
   ]
  },
  {
   "cell_type": "markdown",
   "id": "fe787212",
   "metadata": {},
   "source": [
    "### 파일 읽기 (read)"
   ]
  },
  {
   "cell_type": "code",
   "execution_count": null,
   "id": "2756bafa",
   "metadata": {},
   "outputs": [],
   "source": [
    "# 예시1. \n",
    "text = open('/content/gdrive/MyDrive/ColabNotebooks/Basic_Python/test.txt', 'r', encoding = 'utf-8')\n",
    "readline = text.readline()\n",
    "print(readline)"
   ]
  },
  {
   "cell_type": "code",
   "execution_count": null,
   "id": "7b4db8cf",
   "metadata": {},
   "outputs": [],
   "source": [
    "# 예시. for문 사용하여 전체 파일 내용을 읽어 출력한다.\n",
    "text = open('/content/gdrive/MyDrive/ColabNotebooks/Basic_Python/test.txt', 'r', encoding = 'utf-8')\n",
    "readline = text.readline()\n",
    "for line in readline:\n",
    "    print(line)\n",
    "text.close()"
   ]
  },
  {
   "cell_type": "code",
   "execution_count": null,
   "id": "5d262d45",
   "metadata": {},
   "outputs": [],
   "source": [
    "# 예시2. for문 사용하여 전체 파일 내용을 읽어 출력한다.\n",
    "text = open('/content/gdrive/MyDrive/ColabNotebooks/Basic_Python/test.txt', 'r', encoding = 'utf-8')\n",
    "readline = text.readlines()\n",
    "for line in readline:\n",
    "    print(line)\n",
    "text.close()"
   ]
  },
  {
   "cell_type": "markdown",
   "id": "be79b0d5",
   "metadata": {},
   "source": [
    "### 파일 쓰기 (write)"
   ]
  },
  {
   "cell_type": "code",
   "execution_count": null,
   "id": "6060346f",
   "metadata": {},
   "outputs": [],
   "source": [
    "f = open('/content/gdrive/MyDrive/ColabNotebooks/Basic_Python/new.txt', 'w', encoding = 'utf-8')\n",
    "for i in range(1, 11):\n",
    "    data = \"%d번째 줄입니다.\\n\" % i\n",
    "    f.write(data)\n",
    "f.close()"
   ]
  },
  {
   "cell_type": "markdown",
   "id": "79598119",
   "metadata": {},
   "source": [
    "### 기존 파일을 편집 또는 추가 내용을 넣고 싶을때 (append)"
   ]
  },
  {
   "cell_type": "code",
   "execution_count": null,
   "id": "9ff55dad",
   "metadata": {},
   "outputs": [],
   "source": [
    "f = open('/content/gdrive/MyDrive/ColabNotebooks/Basic_Python/new.txt', 'a', encoding = 'utf-8')\n",
    "for i in range(11, 20):\n",
    "    data = \"%d번째 줄입니다.\\n\" % i\n",
    "    f.write(data)\n",
    "f.close()"
   ]
  },
  {
   "cell_type": "markdown",
   "id": "085d3ba0",
   "metadata": {},
   "source": [
    "# with문과 open()문 --> .close() 생략"
   ]
  },
  {
   "cell_type": "code",
   "execution_count": null,
   "id": "cd9d18d2",
   "metadata": {},
   "outputs": [],
   "source": [
    "# with를 사용하면 일반적으로 open()을 실행할 때 다시 닫을 필요없이 자동으로 닫아준다.\n",
    "# 즉, with open() <--> open() .close() 사용과 같다.\n",
    "# 둘 중 하나만 선텍하셔서 쓰시면 됩니다.\n",
    "\n",
    "with open('/content/gdrive/MyDrive/ColabNotebooks/Basic_Python/new.txt', 'r', encoding = 'utf-8') as f:\n",
    "    lines = f.readlines()\n",
    "    for i in lines:\n",
    "        print(i)"
   ]
  },
  {
   "cell_type": "code",
   "execution_count": null,
   "id": "c7cda994",
   "metadata": {},
   "outputs": [],
   "source": []
  }
 ],
 "metadata": {
  "kernelspec": {
   "display_name": "Python 3",
   "language": "python",
   "name": "python3"
  },
  "language_info": {
   "codemirror_mode": {
    "name": "ipython",
    "version": 3
   },
   "file_extension": ".py",
   "mimetype": "text/x-python",
   "name": "python",
   "nbconvert_exporter": "python",
   "pygments_lexer": "ipython3",
   "version": "3.8.10"
  }
 },
 "nbformat": 4,
 "nbformat_minor": 5
}
