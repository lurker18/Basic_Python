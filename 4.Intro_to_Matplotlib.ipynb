{
 "cells": [
  {
   "cell_type": "code",
   "execution_count": null,
   "id": "2245976e",
   "metadata": {},
   "outputs": [],
   "source": [
    "from google.colab import drive\n",
    "drive.mount('/content/drive')"
   ]
  },
  {
   "cell_type": "code",
   "execution_count": null,
   "id": "09f3bf17",
   "metadata": {},
   "outputs": [],
   "source": [
    "!sudo apt-get install -y fonts-nanum\n",
    "!sudo fc-cache -fv\n",
    "!rm ~/.cache/matplotlib -rf"
   ]
  },
  {
   "cell_type": "markdown",
   "id": "e30d0bee",
   "metadata": {},
   "source": [
    "# 끝은 시각화! - Matplotlib의 활용법!"
   ]
  },
  {
   "cell_type": "markdown",
   "id": "fa26cb13",
   "metadata": {},
   "source": [
    "#### Matplotlib은 주로 2차원의 데이터를 시각화하기 위한 서드파티 패키지이다. \n",
    "#### 동작하는 운영시스템을 가리지 않는다는 점, 자세한 그리기 설정이 가능한 점, 다양한 출력 형식에 대응하고 있는 점 등 대표적인 시각화 툴로서 널리 사용되고 있다."
   ]
  },
  {
   "cell_type": "markdown",
   "id": "4cf25cee",
   "metadata": {},
   "source": [
    "# 그래프 그리기 기초"
   ]
  },
  {
   "cell_type": "code",
   "execution_count": null,
   "id": "70c39b0e",
   "metadata": {},
   "outputs": [],
   "source": [
    "# Matplotlib에서 그래프를 그리기 위해 matplotlib.pyplot 모듈을 불러온다.\n",
    "import matplotlib.pyplot as plt \n",
    "plt.rc('font', family='NanumBarunGothic')  # 한글 폰트 미리 설정 --> 나눔바른\n"
   ]
  },
  {
   "cell_type": "code",
   "execution_count": null,
   "id": "2a903e6f",
   "metadata": {},
   "outputs": [],
   "source": [
    "# 예시1. \n",
    "# 예로 심플한 그래프를 그려보자. 여기에서는 show()에 따른 코드를 입력한 코드 셀의 바로 아래에 그림이 인라인 표시되는 것을 기억해 둔다.\n",
    "fig = plt.figure()\n",
    "ax = fig.add_subplot(111)\n",
    "\n",
    "dat = [0, 1]\n",
    "ax.plot(dat)\n",
    "\n",
    "# 그림을 인라인(inline) 표시함\n",
    "plt.show()"
   ]
  },
  {
   "cell_type": "markdown",
   "id": "d1a58249",
   "metadata": {},
   "source": [
    "# 피겨(Figure)와 서브플롯(subplot)"
   ]
  },
  {
   "cell_type": "markdown",
   "id": "8d316553",
   "metadata": {},
   "source": [
    "#### Matplotlib에서는 그래프를 작성하기 전에 '피겨 오브젝트'(Figure Object)와 '서브 플롯'을 생성할 필요가 있다.\n",
    "#### 피켜는 서브플롯을 작성하는 영역이고 서브플롯은 그래프를 작성하기 위한 영역이다.\n",
    "#### Subplot은 최소 1 개이상 작성할 필요가 있다.\n",
    "#### 피겨에 서브플롯을 추가하는 방법으로 figure.add_subplot() 방법과 pyplot.subplots()란 함수를 이용할 수 있다.\n",
    "\n"
   ]
  },
  {
   "cell_type": "code",
   "execution_count": null,
   "id": "b1dc4da3",
   "metadata": {},
   "outputs": [],
   "source": [
    "# 예시2. add_subplot() 방법으로 서브플롯 배치하기\n",
    "# 이 방법에서는 처음에 figure() 함수로 Figure 클래스의 인스턴스를 생성한다.\n",
    "# 이 인스턴스를 피겨 또는 피겨 오브젝트라고 표기한다.\n",
    "# 계속해서 add_subplot() 메서드로 서브플롯을 피겨 오브젝트의 지정된 위치에 배치한다.\n",
    "\n",
    "# 피겨 생성\n",
    "fig = plt.figure()\n",
    "\n",
    "# 피겨 안에 서브플롯을 3개 배치한다.\n",
    "ax1 = fig.add_subplot(221) # 2행2열 1번\n",
    "ax2 = fig.add_subplot(222) # 2행2열 2번      <---  이 괄호 안의 숫자는 첫 번째부터 순서대로 i)총행수 , ii) 총열수, iii) 서브플롯 번호를\n",
    "ax3 = fig.add_subplot(223) # 2행3열 3번             나타낸다.\n",
    "\n",
    "plt.show()"
   ]
  },
  {
   "cell_type": "code",
   "execution_count": null,
   "id": "9c534fa3",
   "metadata": {},
   "outputs": [],
   "source": [
    "# 예시 3. 서브플롯 번호 할당 순서의 확인\n",
    "fig = plt.figure()\n",
    "\n",
    "# 서브플롯 작성\n",
    "ax1 = fig.add_subplot(221)\n",
    "ax2 = fig.add_subplot(222)\n",
    "ax3 = fig.add_subplot(223)\n",
    "\n",
    "# 번호 기술\n",
    "for i, ax in enumerate([ax1, ax2, ax3], start = 1):   # 각 서브플롯에 번호를 그리는 처리를 추가하고 있다.\n",
    "    txt = 'ax{0}\\n(22{0})'.format(i)                  # 이 결과를 보면 번호는 배치되는 서브플롯의 행 방향 순서대로 할당되어, 행의 끝까지\n",
    "    ax.text(0.2, 0.4, txt, fontsize = 24)             # 오면 다음 행의 왼쪽 끝의 서브플롯에 할당되는 것을 알 수 있다.\n",
    "\n",
    "plt.show()"
   ]
  },
  {
   "cell_type": "code",
   "execution_count": null,
   "id": "f010345d",
   "metadata": {},
   "outputs": [],
   "source": [
    "# 예시 4. 서브플롯 번호 할당 순서의 확인\n",
    "fig = plt.figure()\n",
    "\n",
    "# 서브플롯 작성 --> 콤마 단락기법\n",
    "ax1 = fig.add_subplot(2,2,1)         # 이 기법은 반복처리 등에서 변수를 사용하여 서브플롯을 그릴 때 유용하다.\n",
    "ax2 = fig.add_subplot(2,2,2)\n",
    "ax3 = fig.add_subplot(2,2,3)\n",
    "\n",
    "# 번호 기술\n",
    "for i, ax in enumerate([ax1, ax2, ax3], start = 1):   \n",
    "    txt = 'ax{0}\\n(22{0})'.format(i)                 \n",
    "    ax.text(0.2, 0.4, txt, fontsize = 24)             \n",
    "\n",
    "plt.show()"
   ]
  },
  {
   "cell_type": "code",
   "execution_count": null,
   "id": "35c2998f",
   "metadata": {},
   "outputs": [],
   "source": [
    "# 예시 5. subplots() 함수를 이용해서 서브플롯 배치하기\n",
    "# 위에서는 서브플롯을 개별로 그리고 있지만 pyplot.subplots() 함수를 사용해서 피겨 생성과 서브플롯의 배치를 동시에 실행하는 방법도 있다.\n",
    "# add_subplot() 방법과 비교해서 간결하게 코드를 기술할 수 있다.\n",
    "\n",
    "# 피겨 오브젝트 작성과 서브플롯 배치를 동시에 실행\n",
    "fig, axes = plt.subplots(2, 2)     # 2행2열의 4개의 서브플롯이 배치되어 있는 것을 확인할 수 있다.\n",
    "print(type(axes), axes)\n",
    "plt.show()                         # subplots()함수를 이용해서 서브플롯을 추가한 경우에는 axes에 대해 [1, 0]처럼 행렬의 위치를 지정해서\n",
    "                                   # 서브플롯을 참조할 수 있다.\n",
    "                                   # 행열의 지정은 0부터 시작하는 점에 주의한다.\n",
    "                                   # 예: [0, 0] --> 1행 1열\n",
    "                                   #     [1, 1] --> 2행 2열 등"
   ]
  },
  {
   "cell_type": "code",
   "execution_count": null,
   "id": "cd4e003f",
   "metadata": {},
   "outputs": [],
   "source": [
    "# 예시 6. 1행 2열째 서브플롯에 서브플롯 타이틀을 지정\n",
    "fig, axes = plt.subplots(2, 2)\n",
    "axes[0, 1].set_title('Subplot 0-1')\n",
    "plt.show()"
   ]
  },
  {
   "cell_type": "markdown",
   "id": "1148e7e1",
   "metadata": {},
   "source": [
    "# style 적용하기"
   ]
  },
  {
   "cell_type": "code",
   "execution_count": null,
   "id": "c319c684",
   "metadata": {},
   "outputs": [],
   "source": [
    "# 스타일이란 그래프의 선 굵기나 색 등 그래프의 체재에 관한 정보를 모아놓은 것\n",
    "# 스타일은 style.use() 함수로 적용할 수 있다.\n",
    "\n",
    "# 예시 7. 아래 그림에서 ggplot 스타일을 적용하고 있다.\n",
    "#         초기 설정의 스타일이다. ggplot 스타일에서는 초기 설정에서 그리드선이 그려진다.\n",
    "\n",
    "# style 적용\n",
    "plt.style.use('ggplot')\n",
    "\n",
    "fig = plt.figure()\n",
    "ax = fig.add_subplot(111) # 1행1열 첫 번째\n",
    "dat = [0, 1]\n",
    "ax.plot(dat)\n",
    "\n",
    "plt.show()"
   ]
  },
  {
   "cell_type": "markdown",
   "id": "d9726edc",
   "metadata": {},
   "source": [
    "# 꺾은선 그래프"
   ]
  },
  {
   "cell_type": "markdown",
   "id": "8ac9bca0",
   "metadata": {},
   "source": [
    "#### 꺾은선 그래프는 플롯된 점과 점을 직선으로 연결한 그래프이다.\n",
    "#### 꺾은선 그래프는 Axes.plot() 방법을 사용해서 그린다.\n",
    "#### 만약, plot() 방법의 인수가 하나뿐인 경우, 부여된 인수는 Y값으로 설정되어 X값은 자동적으로 \n",
    "#### '최솟값 = 0',  '최댓값 = 리스트의 요소수 - 1'의 정수열이 지정된다."
   ]
  },
  {
   "cell_type": "code",
   "execution_count": null,
   "id": "87f62890",
   "metadata": {},
   "outputs": [],
   "source": [
    "# 예시 8. 꺾은선 그래프 그리기\n",
    "import matplotlib.pyplot as plt\n",
    "plt.rc('font', family='NanumBarunGothic')\n",
    "plt.style.use('ggplot')\n",
    "\n",
    "fig = plt.figure()\n",
    "ax = fig.add_subplot(111)\n",
    "\n",
    "ax.plot([1, 3])\n",
    "\n",
    "plt.show()"
   ]
  },
  {
   "cell_type": "markdown",
   "id": "48353c12",
   "metadata": {},
   "source": [
    "#### plot() 메서드에서는 다음과 같은 데이터형이 넘겨진다.\n",
    "#### - 리스트\n",
    "#### - 튜플\n",
    "#### - numpy.ndarray (==> 배열을 뜻한다 )\n",
    "#### - pd.Series(시리즈)\n"
   ]
  },
  {
   "cell_type": "code",
   "execution_count": null,
   "id": "fbd5b9e8",
   "metadata": {
    "scrolled": true
   },
   "outputs": [],
   "source": [
    "# 예시 9. X값과 Y값을 지정한 꺾은선 그래프 그리기\n",
    "fig = plt.figure()\n",
    "ax = fig.add_subplot(111)\n",
    "\n",
    "x = [0, 2, 4]\n",
    "y = [0, 4, 2]\n",
    "\n",
    "ax.plot(x, y)\n",
    "plt.show()"
   ]
  },
  {
   "cell_type": "markdown",
   "id": "081bc88a",
   "metadata": {},
   "source": [
    "# 여러 개의 선을 그리는 경우"
   ]
  },
  {
   "cell_type": "code",
   "execution_count": null,
   "id": "d094f0fc",
   "metadata": {},
   "outputs": [],
   "source": [
    "# 예시 10.\n",
    "# plot() 방법을 여러 번 실행하면 1개의 서브플롯에 여러 개의 그래프를 겹쳐서 그릴 수 있다.\n",
    "# 아래 그림은 2개의 선이 그려졌다.\n",
    "\n",
    "fig = plt.figure()\n",
    "ax = fig.add_subplot(111)\n",
    "\n",
    "x = [0, 2, 4]\n",
    "y1 = [0, 4, 2.5]   # 빨간색 점들\n",
    "y2 = [4, 0, 1.5]   # 푸른색 점들\n",
    "\n",
    "# 2개의 선 그리기 \n",
    "ax.plot(x, y1)     # 빨간색 선\n",
    "ax.plot(x, y2)     # 푸른색 선\n",
    "\n",
    "plt.show()"
   ]
  },
  {
   "cell_type": "markdown",
   "id": "232af396",
   "metadata": {},
   "source": [
    "# 꺾은선 그래프 활용해보기"
   ]
  },
  {
   "cell_type": "code",
   "execution_count": null,
   "id": "e0b41eb4",
   "metadata": {},
   "outputs": [],
   "source": [
    "# 실제 데이터를 이용해서 그래프를 그린다.\n",
    "# 데이터는 anime_stock_returns.csv 파일을 이용한다.\n",
    "# 이 csv파일에는 TOEI ANIMATION 및 IG Port의 주가 등락률이 시계열(일단위)로 기록되어 있다.\n",
    "\n",
    "import pandas as pd\n",
    "df = pd.read_csv('/content/drive/MyDrive/ColabNotebooks/Basic_Python/anime/anime_stock_returns.csv', index_col = 0, parse_dates = ['Date'], encoding = 'utf-8')\n",
    "# 여기서 index_col은 '인덱스 컬럼을 어떤 컬럼을 기준으로 할 것인가'란 뜻을 가지고 있어 우리는 첫 번째 열인 '날짜(Date)'로 인덱싱 할것이다.\n",
    "# parse_dates는 일단 인덱싱을 날짜 기준으로 하는데 이 형태가 '날짜'이라고 인식시키는 옵션이다.\n",
    "df.head()"
   ]
  },
  {
   "cell_type": "code",
   "execution_count": null,
   "id": "1ee61733",
   "metadata": {},
   "outputs": [],
   "source": [
    "# 예시 11. anime_stock_returns.csv 꺾은선 그래프\n",
    "fig = plt.figure(figsize = (10, 4))\n",
    "ax = fig.add_subplot(111)\n",
    "\n",
    "# 데이터와 범례 지정\n",
    "ax.plot(df.index, df['TOEI ANIMATION'], label = 'TOEI ANIMATION')\n",
    "ax.plot(df.index, df['IG Port'], label = 'IG Port')\n",
    "\n",
    "# 제목, 축레이블 지정\n",
    "ax.set_title('주가등락률 2년간 추이')\n",
    "ax.set_ylabel('주가등락률')\n",
    "ax.set_xlabel('년월')\n",
    "\n",
    "# 범례 유효화\n",
    "ax.legend()\n",
    "plt.show()                       # 본 그래프에서는 첫 번째 그래프로 X값에 날짜를, Y값에 TOEI ANIMATION의 주가 등락률을 \n",
    "                                 # 반영한 꺾은선 그래프를 그리고 있다.\n",
    "                                 # 그리고 두 번째 그래프로 X값에 날짜를, Y값에 IG Port의 주가 등락률을 반영한 꺾은선 그래프를 그리고 있다.\n",
    "                                 # 그래서 데이터를 시각화한 덕분에 두 회사의 주가 등락률의 추이를 알 수 있게 되었다."
   ]
  },
  {
   "cell_type": "markdown",
   "id": "a89fc3e6",
   "metadata": {},
   "source": [
    "# 두 개의 축을 가진 그래프 그리기"
   ]
  },
  {
   "cell_type": "markdown",
   "id": "c66b1607",
   "metadata": {},
   "source": [
    "#### Matplotlib에서 X축을 공유해 2개의 Y축을 가진 그림을 작성하는 경우에는 Axes.twinx() 방법을 사용한다.\n",
    "#### Y축을 공유해서 2개의 X축을 가진 그림을 그리는 경우에는 twiny() 방법을 사용한다.\n",
    "#### twinx() 방법을 사용해서 마감가(Close)와 거래량(Volume)을 하나의 그래프로 나타내고 있다.\n",
    "#### 즉, 마감가는 꺾은선 그래프로, 거래량은 막대 그래프로 나타내고 있다."
   ]
  },
  {
   "cell_type": "code",
   "execution_count": null,
   "id": "d8de1eb5",
   "metadata": {},
   "outputs": [],
   "source": [
    "# 예시12. 두 개의 축을 가진 그래프\n",
    "t4816 = pd.read_csv('/content/drive/MyDrive/ColabNotebooks/Basic_Python/anime/4816.csv', index_col = 0, parse_dates = ['Date'], encoding = 'utf-8')\n",
    "\n",
    "fig = plt.figure(figsize = (10, 4))\n",
    "ax1 = fig.add_subplot(111) # 1행1열 첫 번째\n",
    "\n",
    "ax1.plot(t4816.index, t4816['Close'], color = 'b', label = '주가')\n",
    "\n",
    "# X축을 공유해서 Y축을 2개 사용하는 설정\n",
    "ax2 = ax1.twinx()\n",
    "ax2.bar(t4816.index, t4816['Volume'], color = 'g', label = '거래총액', width = 2)\n",
    "\n",
    "# 축과 축레이블 설정\n",
    "ax1.set_yticks([i * 2000 for i in range(5)])\n",
    "ax1.set_ylabel('주가')\n",
    "ax2.set_yticks([i * 5000 for i in range(5)])\n",
    "ax2.set_ylabel('거래총액')\n",
    "ax1.set_xlabel('년월')\n",
    "\n",
    "# 그래프 제목 설정\n",
    "ax1.set_title('주가와 거래총액')\n",
    "\n",
    "# 범례설정\n",
    "ax1.legend(loc = 1)\n",
    "ax2.legend(loc = 2)\n",
    "\n",
    "plt.show()\n",
    "\n",
    "# 첫 번째 그래프에 왼쪽 축(Y축)과 X축을 그린 후, 두 번째 그래프 오른쪽 축(Y축)을 그리고 있다.\n",
    "# twinx() 방법으로 ax1과 ax2의 X축을 공유하는 설정이 되어 있기 때문에 두 번째 그래프는 첫 번째의 서브플롯에 겹쳐져 그려진다."
   ]
  },
  {
   "cell_type": "markdown",
   "id": "30160e72",
   "metadata": {},
   "source": [
    "# 산포도 그래프 (Scatterplot)"
   ]
  },
  {
   "cell_type": "markdown",
   "id": "b7dc7553",
   "metadata": {},
   "source": [
    "### 산포도 그래프는 X축과 Y축에 수량이나 크기 등을 대응시켜서 적합한 점에 데이터를 플롯한 그래프이다.\n",
    "### 산포도 그래프는 X축과 Y축에 취한 두 개의 값에 함수가 있는지 없는지 보는 것에 유용하다.\n",
    "### 또한, 데이터의 분포 상황을 확인할 때에도 활용할 수 있다."
   ]
  },
  {
   "cell_type": "code",
   "execution_count": null,
   "id": "70f0eba4",
   "metadata": {},
   "outputs": [],
   "source": [
    "# 예시 13. 산포도 그래프 작성하기\n",
    "# 산포도 그래프는 Axes.scatter() 방법을 사용해서 그린다.\n",
    "# scatter() 방법의 제1, 제2인수에 각각 X값과 Y값을 부여한다.\n",
    "# 아래 예시에서는 x에 1~100까지의 정수값을 100개, y에 0~1의 값을 취한 난수에 x와 4를 곱한 것을 부여해서 각각 X값, Y값으로 하고 있다.\n",
    "\n",
    "import matplotlib.pyplot as plt\n",
    "plt.rc('font', family='NanumBarunGothic')\n",
    "import numpy as np\n",
    "\n",
    "plt.style.use('ggplot')\n",
    "\n",
    "# 입력값 생성\n",
    "x = np.arange(1, 101)           # 여기서 np.arange는 for문에서 보았던 range(범위)란 뜻이며 1부터 100까지이다.\n",
    "y = 4 * x * np.random.rand(100) # 여기서 np.random.rand()는 무작위의 숫자를 생성해준다. 본 예시에서는 100개의 y값으로 설정함.\n",
    "\n",
    "# 산포도 그래프 그리기\n",
    "fig = plt.figure()\n",
    "ax = fig.add_subplot(111)\n",
    "\n",
    "ax.scatter(x, y)\n",
    "\n",
    "plt.show()"
   ]
  },
  {
   "cell_type": "markdown",
   "id": "6c7e6edf",
   "metadata": {},
   "source": [
    "# 산포도 그래프 활용하기"
   ]
  },
  {
   "cell_type": "code",
   "execution_count": null,
   "id": "ebd9a06b",
   "metadata": {},
   "outputs": [],
   "source": [
    "# 실제 데이터는 anime_master.csv 파일을 이용한다.\n",
    "# 본 데이터는 애니메이션의 제목이나 장르, 에피소드 수나 평점 데이터가 포함되어 있다.\n",
    "\n",
    "import pandas as pd\n",
    "anime_master = pd.read_csv('anime/anime_master.csv', index_col = 'anime_id',  encoding = 'utf-8')\n",
    "anime_master.head()"
   ]
  },
  {
   "cell_type": "code",
   "execution_count": null,
   "id": "7c9698f4",
   "metadata": {},
   "outputs": [],
   "source": [
    "# 예시 14. members와 rating 값으로 산포도 그래프 작성\n",
    "# X값으로 'members'를, Y값으로 rating을 지정하는 것에 따라 산포도 그래프를 작성할 수 있다.\n",
    "# 그려진 기호를 반투명으로 하는 값(alpha = 0.5)도 설정되어 있다.\n",
    "\n",
    "fig = plt.figure()\n",
    "ax = fig.add_subplot(111)\n",
    "\n",
    "ax.scatter(anime_master['members'], anime_master['rating'], alpha = 0.5)\n",
    "plt.show()\n",
    "\n",
    "# 멤버 수(members)와 평점(rating)사이에 명확한 상관관계는 없지만 멤버 수의 증가에 따른 평점이 8 부근에 위치되는 경향을 파악"
   ]
  },
  {
   "cell_type": "markdown",
   "id": "98f6c8d4",
   "metadata": {},
   "source": [
    "# 그룹화된 산포도 그래프 작성하기"
   ]
  },
  {
   "cell_type": "code",
   "execution_count": null,
   "id": "a1e5fcd9",
   "metadata": {},
   "outputs": [],
   "source": [
    "# 예시 15.\n",
    "# 위 데이터에서는 'type'이라는 열을 가지고 있다.\n",
    "# type은 애니메이션 작품의 배급 종별을 의미한다.\n",
    "# 먼저, type 중복 없는 리스트를 작성한다.\n",
    "\n",
    "types = anime_master['type'].unique()\n",
    "print(types)\n"
   ]
  },
  {
   "cell_type": "code",
   "execution_count": null,
   "id": "f9ce382d",
   "metadata": {},
   "outputs": [],
   "source": [
    "# 예시 16.\n",
    "# 꺾은선 그래프와 비슷하게 하나의 서브플롯에 겹쳐서 산포도 그래프를 그릴수 있다.\n",
    "# 그래서 배급 종별마다 일치하는 데이터를 추출해서 그려보았다.\n",
    "# 배급 종별은 6종류가 있기 때문에 6개의 데이터 세트가 플롯되어 있다.\n",
    "\n",
    "fig = plt.figure(figsize = (10, 5))\n",
    "ax = fig.add_subplot(111)\n",
    "\n",
    "for t in types:\n",
    "    x = anime_master.loc[anime_master['type'] == t, 'members']\n",
    "    y = anime_master.loc[anime_master['type'] == t, 'rating']\n",
    "    \n",
    "    ax.scatter(x, y, alpha = 0.5, label = t)\n",
    "    \n",
    "ax.set_title('배급 종별로 그룹화한 데이터 산포도 그래프')\n",
    "ax.set_xlabel('Members')\n",
    "ax.set_ylabel('Ratings')\n",
    "plt.ticklabel_format(style='plain') # X축의 숫자가 0부터 1.0으로 표시되어 있는데 이렇게 표시하지 말고 원래의 범위를 설정함.\n",
    "\n",
    "ax.legend(loc = 'lower right', fontsize = 12)\n",
    "\n",
    "plt.show()"
   ]
  },
  {
   "cell_type": "markdown",
   "id": "b60b0601",
   "metadata": {},
   "source": [
    "# 막대그래프"
   ]
  },
  {
   "cell_type": "markdown",
   "id": "7eb97ce5",
   "metadata": {},
   "source": [
    "### 막대그래프는 수량을 막대의 길이로 나타낸 그래프이다."
   ]
  },
  {
   "cell_type": "code",
   "execution_count": null,
   "id": "c58811a7",
   "metadata": {},
   "outputs": [],
   "source": [
    "# 막대그래프는 Axes.bar() 메서드를 사용해서 그린다. \n",
    "# bar()의 제1, 제2인수에 각각 X값과 Y값을 부여한다.\n",
    "# 예시 17.\n",
    "import matplotlib.pyplot as plt\n",
    "plt.rc('font', family='NanumBarunGothic')\n",
    "\n",
    "plt.style.use('ggplot')\n",
    "fig = plt.figure()\n",
    "ax = fig.add_subplot(111)\n",
    "\n",
    "x = [1, 2]\n",
    "y = [1, 3]\n",
    "\n",
    "ax.bar(x, y)\n",
    "\n",
    "plt.show()"
   ]
  },
  {
   "cell_type": "code",
   "execution_count": null,
   "id": "b7ec1c18",
   "metadata": {},
   "outputs": [],
   "source": [
    "# 예시 18. 눈금레이블을 붙일 경우\n",
    "# X값을 부여해서 인수 tick_label에 눈금레이블을 설정해서 작성한다.\n",
    "\n",
    "# 황축의 눈금에 레이블 설정\n",
    "fig = plt.figure()\n",
    "ax = fig.add_subplot(111)\n",
    "\n",
    "labels = ['사과', '오랜지']\n",
    "ax.bar(x, y, tick_label = labels)\n",
    "\n",
    "plt.show()"
   ]
  },
  {
   "cell_type": "code",
   "execution_count": null,
   "id": "fae3d8df",
   "metadata": {},
   "outputs": [],
   "source": [
    "# 예시 19. 위 예시처럼 그래프를 그린 후 Axes.set_xticks()방법으로 X축 눈금을 설정하고 Axes.set_xticklabels() 방법으로 눈금 레이블을 설정한다.\n",
    "\n",
    "# 그리기\n",
    "fig = plt.figure()\n",
    "ax = fig.add_subplot(111)\n",
    "\n",
    "ax.bar(x, y)\n",
    "\n",
    "# X축의 축눈금과 축눈금 레이블\n",
    "ax.set_xticks(x)\n",
    "ax.set_xticklabels(labels)\n",
    "\n",
    "plt.show()"
   ]
  },
  {
   "cell_type": "markdown",
   "id": "dd42877d",
   "metadata": {},
   "source": [
    "# 수평 막대그래프를 작성하는 경우"
   ]
  },
  {
   "cell_type": "markdown",
   "id": "3246cafd",
   "metadata": {},
   "source": [
    "### 수평 막대그래프는 Axes.barh() 방법을 이용해서 그린다.\n"
   ]
  },
  {
   "cell_type": "code",
   "execution_count": null,
   "id": "a1a06adb",
   "metadata": {},
   "outputs": [],
   "source": [
    "# 예시 20. 수평 막대그래프 그리기\n",
    "fig = plt.figure()\n",
    "ax = fig.add_subplot(111)\n",
    "\n",
    "ax.barh(x, y, tick_label = labels)\n",
    "\n",
    "plt.show()"
   ]
  },
  {
   "cell_type": "markdown",
   "id": "b6352948",
   "metadata": {},
   "source": [
    "# 막대그래프 활용하기"
   ]
  },
  {
   "cell_type": "code",
   "execution_count": null,
   "id": "dc35c254",
   "metadata": {},
   "outputs": [],
   "source": [
    "# 예시 21.\n",
    "# 실제 데이터는 anime_master.csv 파일을 이용했다. \n",
    "\n",
    "import pandas as pd\n",
    "\n",
    "anime_master = pd.read_csv('/content/drive/MyDrive/ColabNotebooks/Basic_Python/anime/anime_master.csv', encoding = 'utf-8')\n",
    "anime_master.head()"
   ]
  },
  {
   "cell_type": "markdown",
   "id": "602b4a6a",
   "metadata": {},
   "source": [
    "#### 막대그래프는 수량의 대소를 시각화할 때 적당하다.\n",
    "#### 여기에서는 작품의 배급 종별마다 멤버수의 합계 값을 추출해서 막대그래프로 그린다.\n",
    "#### X값에 배급 종별, Y값에 배급 종별마다의 합계 멤버수를 부여해서 그렸다.\n",
    "#### x에 대해서는 len() 함수로 데이터프레임의 데이터 수를 계수하고 \n",
    "#### range()함수로 그 범위의 정수 열을 생성하고 있다.\n",
    "#### 또한, X축 레이블에는 Series의 인덱스를 부여한다."
   ]
  },
  {
   "cell_type": "code",
   "execution_count": null,
   "id": "32850ca8",
   "metadata": {},
   "outputs": [],
   "source": [
    "# 예시 22. 배급 종별마다 합계 멤버 수의 막대그래프 그리기\n",
    "\n",
    "fig = plt.figure()\n",
    "ax = fig.add_subplot(111)\n",
    "\n",
    "y = anime_master.groupby('type').sum()['members']\n",
    "x = range(len(y))\n",
    "\n",
    "xlabels = y.index\n",
    "ax.bar(x, y, tick_label = xlabels)\n",
    "ax.set_ylabel('합계 멤버수')\n",
    "\n",
    "plt.show()           #  Y축의 '1e8'이라고 표시되어 있는데 이것은 수치에 10의 8승을 곱한 수치를 나타낸다.\n"
   ]
  },
  {
   "cell_type": "markdown",
   "id": "dbd8ea7f",
   "metadata": {},
   "source": [
    "# 여러가지 그룹에 대한 막대그래프 작성하기"
   ]
  },
  {
   "cell_type": "code",
   "execution_count": null,
   "id": "6eb56a8d",
   "metadata": {},
   "outputs": [],
   "source": [
    "# 여러 그룹의 막대그래프를 그릴 때에는 공부가 필요하다.\n",
    "# 여러 번 bar()를 실행하면 최초에 그려진 오브젝트가 뒤에 그려진 오브젝트에 의해 덮어씌어 진다.\n",
    "\n",
    "# 예시 23. (실패 사례) 여러 그룹 막대그래프 그리기\n",
    "\n",
    "import numpy as np\n",
    "# 데이터 세트 작성\n",
    "x = [1,2]\n",
    "y1 = [1,2]\n",
    "y2 = [2,4]\n",
    "y3 = [3,6]\n",
    "\n",
    "# 복수 그룹의 막대 그래프\n",
    "fig = plt.figure()\n",
    "ax = fig.add_subplot(111)\n",
    "\n",
    "w = 0.2\n",
    "ax.bar(x, y1, label = 'y1')\n",
    "ax.bar(x, y2, label = 'y2')\n",
    "ax.bar(x, y3, label = 'y3')\n",
    "\n",
    "ax.legend()\n",
    "\n",
    "plt.show()    # 실패 사례 그래프\n"
   ]
  },
  {
   "cell_type": "code",
   "execution_count": null,
   "id": "b5dd5ea2",
   "metadata": {},
   "outputs": [],
   "source": [
    "# 예시 24. 여러 그룹 막대그래프 그리기 (해결 방법)\n",
    "# 위 예시를 피하기 위해서는 X값을 막대의 가로 폭만큼 비켜서 그릴 필요가 있다.\n",
    "# 막대그래프의 가로 폭 w를 0.2로 설정하고 X값을 0.2씩 비켜서 그리고 있다.\n",
    "\n",
    "# 복수 그룹의 막대그래프 그리기\n",
    "fig = plt.figure()\n",
    "ax = fig.add_subplot(111)\n",
    "\n",
    "w = 0.2\n",
    "ax.bar(x, y1, width = w, label = 'y1')\n",
    "ax.bar(np.array(x) + w, y2, width = w, label = 'y2')\n",
    "ax.bar(np.array(x) + w * 2, y3, width = w, label = 'y3')\n",
    "\n",
    "ax.legend()\n",
    "\n",
    "plt.show()"
   ]
  },
  {
   "cell_type": "markdown",
   "id": "a0cd783b",
   "metadata": {},
   "source": [
    "# 여러 그룹의 막대그래프 활용하기"
   ]
  },
  {
   "cell_type": "code",
   "execution_count": null,
   "id": "1ec9d6ec",
   "metadata": {},
   "outputs": [],
   "source": [
    "# 예시 25. \n",
    "# 실제 데이터는 anime_genre_top10_pivoted.csv 파일을 이용했다.\n",
    "\n",
    "import pandas as pd\n",
    "anime_genre_top10 = pd.read_csv('/content/drive/MyDrive/ColabNotebooks/Basic_Python/anime/anime_genre_top10_pivoted.csv', encoding = 'utf-8', index_col = 'genre')\n",
    "anime_genre_top10"
   ]
  },
  {
   "cell_type": "code",
   "execution_count": null,
   "id": "69dbabb3",
   "metadata": {},
   "outputs": [],
   "source": [
    "# 예시 26. 배급 종별 / 장르별 막대그래프 그리기\n",
    "# X값을 0.1씩 증가시키면서 열별로 그리고 있다.\n",
    "# 이 결과에서도 TV 합계 수가 돌출되어 있고 다음에 Movie 멤버 수가 많은 것을 알 수 잇다.\n",
    "\n",
    "fig = plt.figure(figsize = (18, 3))\n",
    "ax = fig.add_subplot(111)\n",
    "\n",
    "wt = np.array(range(len(anime_genre_top10)))\n",
    "w = 0.1\n",
    "\n",
    "for i in anime_genre_top10.columns:\n",
    "    ax.bar(wt, anime_genre_top10[i], width = w, label = i)\n",
    "    wt = wt + w\n",
    "    \n",
    "ax.set_xticks(np.array(range(len(anime_genre_top10))))\n",
    "ax.set_xticklabels(anime_genre_top10.index, ha = 'left')\n",
    "ax.set_ylabel('누적 멤버수')\n",
    "ax.legend()\n",
    "\n",
    "plt.show()\n",
    "\n"
   ]
  },
  {
   "cell_type": "code",
   "execution_count": null,
   "id": "e18f1b71",
   "metadata": {},
   "outputs": [],
   "source": [
    "# Music이나 ONA 값이 상대적으로 작기 때문에 눈으로 확인하는 것이 어렵다.\n",
    "# 이 같은 경우에 로그 축을 이용하면 가독성이 좋아진다.\n",
    "# Y축을 로그축에 설정하는 경우에는 set_yscale() 방법에 log를 지정한다.\n",
    "\n",
    "# 예시 27.\n",
    "\n",
    "fig = plt.figure(figsize = (18, 3))\n",
    "ax = fig.add_subplot(111)\n",
    "\n",
    "wt = np.array(range(len(anime_genre_top10)))\n",
    "w = 0.1\n",
    "\n",
    "for i in anime_genre_top10.columns:\n",
    "    ax.bar(wt, anime_genre_top10[i], width = w, label = i)\n",
    "    wt = wt + w\n",
    "    \n",
    "ax.set_xticks(np.array(range(len(anime_genre_top10))))\n",
    "ax.set_xticklabels(anime_genre_top10.index, ha = 'left')\n",
    "ax.set_ylabel('누적 멤버수')\n",
    "ax.set_yscale('log')\n",
    "ax.legend()\n",
    "\n",
    "plt.show()"
   ]
  },
  {
   "cell_type": "markdown",
   "id": "b6310f1b",
   "metadata": {},
   "source": [
    "# 누적 막대그래프 작성하기"
   ]
  },
  {
   "cell_type": "markdown",
   "id": "f1fe15a0",
   "metadata": {},
   "source": [
    "#### 누적 막대그래프를 그릴 때에도 여러 그룹의 막대그래프와 같이 작성시 요령이 필요하다.\n",
    "#### y1, y2, y3이라는 3개의 값을 누적한 경우의 그리기 순서를 설명하겠다.\n",
    "#### 실제의 그리기 순서는 다음과 같다.\n",
    "\n",
    "#### (1) y1과 y2와 y3의 합을 그린다.\n",
    "#### (2) (1)에서 y2와 y3의 합을 겹쳐서 그린다.\n",
    "#### (3) (2)에 y1을 겹쳐서 그린다.\n"
   ]
  },
  {
   "cell_type": "code",
   "execution_count": null,
   "id": "0a41cdb5",
   "metadata": {},
   "outputs": [],
   "source": [
    "# 예시 28. 누적 막대그래프 그리기\n",
    "# 데이터 세트 작성\n",
    "\n",
    "x = np.arange(5)\n",
    "np.random.seed(0)\n",
    "y = np.random.rand(15).reshape((3, 5))\n",
    "y1, y2, y3 = y\n",
    "\n",
    "y1b = np.array(y1)\n",
    "y2b = y1b + np.array(y2)\n",
    "y3b = y2b + np.array(y3)\n",
    "\n",
    "# 누적 막대 그래프 그리기\n",
    "fig = plt.figure(figsize = (10, 3))\n",
    "ax = fig.add_subplot(111)\n",
    "\n",
    "ax.bar(x, y3b, label = 'y3')\n",
    "ax.bar(x, y2b, label = 'y2')\n",
    "ax.bar(x, y1b, label = 'y1')\n",
    "\n",
    "ax.legend()\n",
    "\n",
    "plt.show()"
   ]
  },
  {
   "cell_type": "markdown",
   "id": "bf5e062d",
   "metadata": {},
   "source": [
    "# 누적 막대그래프 활용하기"
   ]
  },
  {
   "cell_type": "code",
   "execution_count": null,
   "id": "09ffdfc6",
   "metadata": {},
   "outputs": [],
   "source": [
    "# 실제 데이터는 앞에서 이용한 anime_genre_top10_pivoted.csv 파일을 이용했다.\n",
    "# 예시 29. 배급 종별 / 장르별 막대그래프 그리기\n",
    "\n",
    "fig = plt.figure(figsize = (15, 3))\n",
    "ax = fig.add_subplot(111)\n",
    "\n",
    "rows, cols = len(anime_genre_top10), len(anime_genre_top10.columns)\n",
    "x = range(rows)\n",
    "\n",
    "for i, t in enumerate(anime_genre_top10.columns):\n",
    "    # i열부터 마지막까지의 합을 계산\n",
    "    y = anime_genre_top10.iloc[:, i: cols].sum(axis = 1)\n",
    "    \n",
    "    ax.bar(x, y, label = t)\n",
    "\n",
    "ax.set_xticks(range(rows))\n",
    "ax.set_xticklabels(anime_genre_top10.index)\n",
    "ax.set_ylabel('누적 멤버수')\n",
    "ax.legend()\n",
    "\n",
    "plt.show()               # 각 열에서 마지막 열까지의 합계 값을 y에 저장하고  Y값으로 그리고 있다.\n",
    "                        # 배급 타입별에서는 어느 장르도 TV의 비율이 많은 것과 더불어 장르별로는 Comedy와 Action의 총멤버 수가 특히 많은 것을 확인할 수 있다."
   ]
  },
  {
   "cell_type": "markdown",
   "id": "74d92c83",
   "metadata": {},
   "source": [
    "# 히스토그램 Histogram"
   ]
  },
  {
   "cell_type": "markdown",
   "id": "f5ea7146",
   "metadata": {},
   "source": [
    "#### 히스토그램은 세로축에 횟수(값의 출현빈도), 가로축에 계급(값의 상한 값 ~ 하한 값의 폭)을 취급하는 그래프로, 데이터의 분포 형상을 시각적으로 인식하기 위해이용된다.\n",
    "#### 데이터의 분포 형상(분포형)은 통계학적으로 중요한 의미를 가지고 있다."
   ]
  },
  {
   "cell_type": "code",
   "execution_count": null,
   "id": "c0c0b742",
   "metadata": {},
   "outputs": [],
   "source": [
    "# 히스토그램은 Axes.hist() 방법을 사용해서 작성한다.\n",
    "# 평균값 100, 표준편차 10의 정규분포에 따라 만 개의 데이터 히스토그램을 그려 보았다.\n",
    "# 예시 30.\n",
    "\n",
    "import numpy as np\n",
    "import matplotlib.pyplot as plt\n",
    "plt.rc('font', family='NanumBarunGothic')\n",
    "\n",
    "plt.style.use('ggplot')\n",
    "\n",
    "# 데이터 세트 작성\n",
    "mu = 100 # 평균값\n",
    "sigma = 10 # 표준편차\n",
    "x = np.random.normal(mu, sigma, 10000)\n",
    "\n",
    "# 히스트그램 그리기\n",
    "fig = plt.figure()\n",
    "ax = fig.add_subplot(111)\n",
    "ax.hist(x)\n",
    "\n",
    "plt.show()"
   ]
  },
  {
   "cell_type": "markdown",
   "id": "bb65925d",
   "metadata": {},
   "source": [
    "# 막대의 폭과 수를 변경하는 경우"
   ]
  },
  {
   "cell_type": "code",
   "execution_count": null,
   "id": "534be40c",
   "metadata": {},
   "outputs": [],
   "source": [
    "# hist() 방법에는 데이터 외에 히스토그램 그림에 관한 인수를 부여할 수 있다.\n",
    "# rwidth로 막대의 폭을, bins로 막대의 개수를 지정하고 있다.\n",
    "# 이와 같이 인수를 지정하면 막대의 폭이나 개수가 변경된 그래프가 출력됨.\n",
    "\n",
    "# 예시 31. 인수를 설정한 히스토그램 그리기\n",
    "fig = plt.figure()\n",
    "ax = fig.add_subplot(111)\n",
    "ax.hist(x, rwidth = 0.9, bins = 16)\n",
    "\n",
    "plt.show()\n"
   ]
  },
  {
   "cell_type": "markdown",
   "id": "638af400",
   "metadata": {},
   "source": [
    "# 히스토그램 활용하기"
   ]
  },
  {
   "cell_type": "code",
   "execution_count": null,
   "id": "576602a9",
   "metadata": {},
   "outputs": [],
   "source": [
    "# 실제 데이터는 anime_master.csv 파일을 이용했다.\\\n",
    "# 예시 32.\n",
    "import pandas as pd\n",
    "\n",
    "anime_master = pd.read_csv('/content/drive/MyDrive/ColabNotebooks/Basic_Python/anime/anime_master.csv', index_col = 'anime_id', encoding = 'utf-8')\n",
    "anime_master.head()"
   ]
  },
  {
   "cell_type": "code",
   "execution_count": null,
   "id": "e4f084fc",
   "metadata": {},
   "outputs": [],
   "source": [
    "# 평점 분포에 대해 Matplotlib으로 시각화를 실행한다.\n",
    "# 평점이 0 ~ 10의 범위에서 실행되고 있기 때문에 값의 범위를 range에서 0 ~ 10으로 지정한다.\n",
    "# 6 ~ 7 사이의 데이터가 가장 많고 0 ~ 3이나 9 ~ 10의 데이터는 극단적으로 적은 것을 확인할 수 있다.\n",
    "\n",
    "# 예시 33. 평점 시각화\n",
    "fig = plt.figure()\n",
    "ax = fig.add_subplot(111)\n",
    "\n",
    "ax.hist(anime_master['rating'], range = (0, 10), rwidth = 0.9)\n",
    "ax.set_title('평점')\n",
    "\n",
    "plt.show()"
   ]
  },
  {
   "cell_type": "code",
   "execution_count": null,
   "id": "747baf07",
   "metadata": {},
   "outputs": [],
   "source": [
    "# Q1. 위 예시처럼 에피소드 수도 히스토그램으로 그려보세요. 에피소드 수는 텔레비전 애니메이션의 00화라는 의미로,\n",
    "#     영화의 경우에는 기본적으로 값이 1이 된다.\n",
    "#     여기에서는 에피소드 수의 불균형이 크다고 예상되는 TV에 한정해서 시각화 해보세요.\n",
    "\n",
    "fig = plt.figure()\n",
    "ax = fig.add_subplot(111)\n",
    "df_tv = anime_master['type'] == 'TV'\n",
    "\n",
    "ax.hist(anime_master['    '], rwidth = 0.9) # 빈칸 채우기 1.\n",
    "ax.set_title('     ')                       # 빈칸 채우기 2.\n",
    "\n",
    "plt.show()"
   ]
  },
  {
   "cell_type": "code",
   "execution_count": null,
   "id": "8f18f26c",
   "metadata": {},
   "outputs": [],
   "source": [
    "# 위 예시처럼 대부분의 데이터가 처음 계급으로 뭉쳐 있다. \n",
    "# 극히 일부 극단적으로 이야기 수가 많은 작품이 있기 때문에 이 같은 히스토그램이 되었다고 볼 수 있다.\n",
    "# 그 같은 경우, 히스토그램 범위 지정이 유효하다.\n",
    "\n",
    "# 예시 34. 히스토그램 범위 지정\n",
    "fig = plt.figure()\n",
    "ax = fig.add_subplot(111)\n",
    "\n",
    "# range의 값을 (0, 100) 으로 지정한다.\n",
    "ax.hist(df_tv['episodes'], rwidth = 0.9, range = (0, 100))\n",
    "ax.set_title(\"Episodes(0-100)\")\n",
    "\n",
    "plt.show()      # TV 애니메이션은 텔레비전 방영 구조상, 1작품 분량(10 ~ 13화 정도) 또는 2작품 분량(23 ~ 25화 정도)의\n",
    "                # 작품이 많다.\n",
    "             "
   ]
  },
  {
   "cell_type": "markdown",
   "id": "4d067cf6",
   "metadata": {},
   "source": [
    "# 근사 곡선 추가"
   ]
  },
  {
   "cell_type": "code",
   "execution_count": null,
   "id": "3866532b",
   "metadata": {},
   "outputs": [],
   "source": [
    "# 근사 곡선은 히스토그램을 그린 후에 꺾은선 그래프로 그린다. 여기에서는 정규분포를 이용해서 근사한다.\n",
    "\n",
    "# 예시 35.\n",
    "bins = 50 # 막대수\n",
    "dfmin = np.min(anime_master['rating']) # 데이터 최솟값\n",
    "dfmax = np.max(anime_master['rating']) # 데이터 최댓값\n",
    "\n",
    "# 히스토그램 그리기\n",
    "fig = plt.figure()\n",
    "ax = fig.add_subplot(111)\n",
    "\n",
    "ax.hist(anime_master['rating'], bins = bins, range = (dfmin, dfmax), density = True, rwidth = 0.9)\n",
    "\n",
    "# 평균과 표준편차\n",
    "mu, sigma = anime_master['rating'].mean(), anime_master['rating'].std()\n",
    "\n",
    "# X값\n",
    "x = np.linspace(dfmin, dfmax, bins) # 막대 단락\n",
    "\n",
    "# 근사적 확률밀도함수를 사용해 Y값 생성\n",
    "y = 1 / (sigma * np.sqrt(2 * np.pi)) * np.exp(-(x - mu) ** 2 / (2 * sigma**2))\n",
    "\n",
    "# 근사곡선 그리기\n",
    "ax.plot(x, y)\n",
    "\n",
    "plt.show()"
   ]
  },
  {
   "cell_type": "markdown",
   "id": "f02969a4",
   "metadata": {},
   "source": [
    "### 근사 곡선은 다음 단계로 그린다.\n",
    "### (1) anime_master['rating'] 데이터 세트의 평균값과 표준편차 구하기\n",
    "### (2) numpy.linespace로 각 막대 단락 값(막대의 상한값과 하한값) 구하기\n",
    "### (3) 구해진 평균값, 표준편차, 단락값으로부터 정규분포의 확률밀도함수에 따라 Y값 산출하기\n",
    "### (4) 구해진 X값과 Y값으로 근사 곡선 그리기"
   ]
  },
  {
   "cell_type": "markdown",
   "id": "26dcb1e7",
   "metadata": {},
   "source": [
    "# 여러 그룹을 겹쳐서 그리기"
   ]
  },
  {
   "cell_type": "code",
   "execution_count": null,
   "id": "eb77f9ce",
   "metadata": {},
   "outputs": [],
   "source": [
    "# 같은 서브플롯에 히스토그램을 반복해서 그리면 여러 그룹의 히스토그램을 겹쳐서 그리는 것이 가능하다.\n",
    "# 예시 36. 여러 그룹의 히스토그램을 겹쳐서 그리기\n",
    "\n",
    "types = anime_master['type'].unique()\n",
    "labels = types.tolist()\n",
    "\n",
    "fig = plt.figure(figsize = (8, 6))\n",
    "ax = fig.add_subplot(111)\n",
    "\n",
    "b_num = np.arange(0, 10.5, 0.5)\n",
    "\n",
    "for t in types:\n",
    "    ax.hist(anime_master.loc[anime_master['type'] == t, 'rating'],\n",
    "            bins = b_num,\n",
    "            rwidth = 0.9,\n",
    "            alpha = 0.5,\n",
    "            label = t)\n",
    "ax.legend()\n",
    "ax.set_xlabel('rating')\n",
    "ax.set_ylabel('Count(rating)')\n",
    "\n",
    "plt.show()           # 평균이 0부터 10의 범위에서 실행되기 때문에 range() 함수를 사용해서 b_num에 0.5씩 0부터 10사이의 수치를 저장하고 있다."
   ]
  },
  {
   "cell_type": "markdown",
   "id": "e9d092c8",
   "metadata": {},
   "source": [
    "# 여러 그룹을 나열하여 그리기"
   ]
  },
  {
   "cell_type": "code",
   "execution_count": null,
   "id": "c56fc408",
   "metadata": {},
   "outputs": [],
   "source": [
    "# 여러 그룹의 히스토그램을 겹쳐 그려서 시인성이 떨어지는 경우에는 그룹을 나열하는 방법이 있다.\n",
    "# 중첩 리스트를 작성한 후 그리면 여러 그룹을 옆으로 나열한 히스토그램을 그릴 수 있다.\n",
    "\n",
    "# 예시 37. 여러 그룹의 히스토그램 나열하여 그리기\n",
    "# 데이터세트 작성\n",
    "dataset = [anime_master.loc[anime_master['type'] == t, 'rating'] for t in types]\n",
    "\n",
    "fig = plt.figure(figsize = ( 8 ,6 ))\n",
    "ax = fig.add_subplot(111)\n",
    "\n",
    "ax.hist(dataset, bins = np.arange(0, 10.5, 0.5),\n",
    "        rwidth = 0.9, alpha = 0.8,\n",
    "        label = labels)\n",
    "\n",
    "ax.legend()\n",
    "ax.set_xlabel('rating')\n",
    "ax.set_ylabel('Count(rating)')\n",
    "\n",
    "plt.show()"
   ]
  },
  {
   "cell_type": "markdown",
   "id": "9b169b2c",
   "metadata": {},
   "source": [
    "# 여러 그룹을 누적해서 그리기"
   ]
  },
  {
   "cell_type": "code",
   "execution_count": null,
   "id": "18f63baa",
   "metadata": {},
   "outputs": [],
   "source": [
    "# 여러 그룹의 히스토그램을 그려서 전체의 분포와 그 내역을 확인하는 경우에는 누적 히스토그램이 유효하다.\n",
    "# 여러 그룹을 나열해서 그린 방법과 같이 데이터 세트를 작성한 후 인수 stacked 에 True를 지정해서 그리면 누적 히스토그램이 그려진다.\n",
    "\n",
    "# 예시 38. 누적 히스토그램 그리기\n",
    "fig = plt.figure(figsize = (8 ,6))\n",
    "ax = fig.add_subplot(111)\n",
    "\n",
    "ax.hist(dataset,\n",
    "       bins = np.arange(0, 10.5, 0.5), \n",
    "                        rwidth = 0.9,\n",
    "                        alpha = 0.7,\n",
    "                        label = labels,\n",
    "                        stacked = True)\n",
    "\n",
    "ax.legend()\n",
    "ax.set_xlabel('rating')\n",
    "ax.set_ylabel('Count(rating)')\n",
    "\n",
    "plt.show()"
   ]
  },
  {
   "cell_type": "markdown",
   "id": "f9e9a05f",
   "metadata": {},
   "source": [
    "# 원그래프"
   ]
  },
  {
   "cell_type": "markdown",
   "id": "834d2433",
   "metadata": {},
   "source": [
    "#### 원그래프는 전체에 대한 각 요소의 비율을 추출하고, 추출한 비율에 따라 원형을 부채꼬로 분할한 그래프이다.\n",
    "#### 원그래프는 각 요소의 비율을 비교할 때 이용된다."
   ]
  },
  {
   "cell_type": "markdown",
   "id": "1fd85a96",
   "metadata": {},
   "source": [
    "# 원그래프 그리기"
   ]
  },
  {
   "cell_type": "markdown",
   "id": "81516799",
   "metadata": {},
   "source": [
    "##### Matplotlib에서는 Axes.pie() 방법을 사용한다.\n",
    "##### pie()방법의 제1 인수에 요소의 값을 부여해서 그릴 수 있다.\n"
   ]
  },
  {
   "cell_type": "code",
   "execution_count": null,
   "id": "f4d72ae5",
   "metadata": {},
   "outputs": [],
   "source": [
    "# 예시 39. 원그래프 그리기\n",
    "import matplotlib.pyplot as plt\n",
    "plt.rc('font', family='NanumBarunGothic')\n",
    "\n",
    "plt.style.use('ggplot')\n",
    "\n",
    "labels = ['자전거','버스', '차']\n",
    "sizes = [ 25, 40, 35]\n",
    "\n",
    "fig = plt.figure(figsize = (3, 3))\n",
    "ax = fig.add_subplot(111)\n",
    "\n",
    "#  원 그래프 그리기\n",
    "ax.pie(sizes, labels = labels)\n",
    "plt.show()"
   ]
  },
  {
   "cell_type": "markdown",
   "id": "4ca46b13",
   "metadata": {},
   "source": [
    "##### Matplotlib의 초기 설정에서는 도수법으로 0도의 위치(시계 세 시의 위치)에서 반시계 방량으로 요소를 그려간다.\n",
    "##### 중심 좌표는 (0, 0), 반경은 1이다.\n",
    "##### 원의 중심 좌표가 (0,0), 처음 요소 '자전거'가 좌표(0.9, 0)에서 시작해서 부채꼴로 그려져 있는 것을 확인할 수 있다.\n",
    "##### 계속해서 두 번째 요소 '버스'가 좌표(0,0.9)에서 시작해서 부채꼴로 그려져 있따."
   ]
  },
  {
   "cell_type": "code",
   "execution_count": null,
   "id": "87eb811c",
   "metadata": {},
   "outputs": [],
   "source": [
    "# 예시 40. 원그래프와 축의 관계 그리기\n",
    "fig = plt.figure(figsize = (3, 3))\n",
    "ax = fig.add_subplot(111)\n",
    "\n",
    "ax.pie(sizes, labels = labels, radius = 0.9, frame = True)\n",
    "ax.text(-0.3, 0, '(0,0)', fontsize = 9)\n",
    "\n",
    "plt.show()"
   ]
  },
  {
   "cell_type": "markdown",
   "id": "bf9120de",
   "metadata": {},
   "source": [
    "# 원그래프의 서식 설정을 하는 경우 (참고)"
   ]
  },
  {
   "cell_type": "code",
   "execution_count": null,
   "id": "c7aeb4d8",
   "metadata": {},
   "outputs": [],
   "source": [
    "# 예시 41. 원그래프 서식 설정\n",
    "# 원그래프 서식 설정\n",
    "\n",
    "fig = plt.figure(figsize = (3, 3))\n",
    "ax = fig.add_subplot(111)\n",
    "\n",
    "# 부채꼴 서식 설정용 사전\n",
    "wprops = {'edgecolor': 'black',\n",
    "         'linewidth' : 2}\n",
    "\n",
    "# 텍스트 서식 설정용 사전\n",
    "tprops = {'fontsize' : 18}\n",
    "\n",
    "ax.pie(sizes,\n",
    "      explode = (0, 0.05, 0),\n",
    "      labels = labels,\n",
    "      autopct = '%1.0f%%',\n",
    "      pctdistance = 0.5,\n",
    "      shadow = False,\n",
    "      labeldistance = 1.35,\n",
    "      startangle = 90,\n",
    "      radius = 0.3,\n",
    "      counterclock = False,\n",
    "      wedgeprops = wprops,\n",
    "      textprops = tprops,\n",
    "      center = (0.5, 0.5),\n",
    "      frame = True)\n",
    "\n",
    "plt.show()"
   ]
  },
  {
   "cell_type": "markdown",
   "id": "5baebf3d",
   "metadata": {},
   "source": [
    "# 원그래프 활용하기"
   ]
  },
  {
   "cell_type": "code",
   "execution_count": null,
   "id": "c82c4371",
   "metadata": {},
   "outputs": [],
   "source": [
    "# 실제 데이터는 anime_genre_top10_pivoted.csv 파일을 이용했다.\n",
    "# 예시 42. \n",
    "import pandas as pd\n",
    "\n",
    "anime_genre_top10 = pd.read_csv('/content/drive/MyDrive/ColabNotebooks/Basic_Python/anime/anime_genre_top10_pivoted.csv', index_col = 'genre', encoding = 'utf-8')\n",
    "anime_genre_top10.head()"
   ]
  },
  {
   "cell_type": "markdown",
   "id": "2c4c8224",
   "metadata": {},
   "source": [
    "#### 원그래프는 데이터의 비율을 비교할 때 유용한 그래프이다.\n",
    "#### 여기에서는 Movie와 TV의 총 멤버수 내역을 원그래프로 그려서 장르의 내역 비율을 비교한다.\n",
    "#### 원그래프는 90도 위치에서 시계 방향으로 내림차순으로 요소를 나열하는 것이 일반적이다.\n",
    "#### 먼저, TV와 Movie의 데이터를 각각 내림차순으로 정렬한 Series를 작성한다."
   ]
  },
  {
   "cell_type": "code",
   "execution_count": null,
   "id": "5f069b6d",
   "metadata": {},
   "outputs": [],
   "source": [
    "# 예시 43. 데이터 정렬\n",
    "# TV\n",
    "df_tv = anime_genre_top10.sort_values(by = 'TV', ascending = False)['TV']\n",
    "\n",
    "# Movie\n",
    "df_movie = anime_genre_top10.sort_values(by = 'Movie', ascending = False)['Movie']\n",
    "df_tv         # 내림차순으로 정렬한 데이터(TV)"
   ]
  },
  {
   "cell_type": "code",
   "execution_count": null,
   "id": "f26732c3",
   "metadata": {},
   "outputs": [],
   "source": [
    "# 멤버 수가 많은 Comedy에서 내림차순으로 데이터가 나열되어 있다.\n",
    "# 정렬한 Movie의 데이터를 사용해서 그래프를 그린다.\n",
    "\n",
    "# 예시 44. TV와 Movie와의 장르 내역 비교를 위한 원그래프 그리기\n",
    "fig = plt.figure(figsize = (9 ,4))\n",
    "ax1 = fig.add_subplot(121)\n",
    "ax2 = fig.add_subplot(122)\n",
    "\n",
    "# 컬러 세트\n",
    "colors1 = ('gold', 'coral','plum', 'orchid','lightseagreen',\n",
    "           'yellowgreen', 'lightskyblue', 'pink','cornflowerblue',\n",
    "           'orangered')\n",
    "colors2 = ('coral', 'orangered','plum','gold',\n",
    "           'cornflowerblue', 'yellowgreen', 'lightseagreen','orchid',\n",
    "           'lightskyblue')\n",
    "\n",
    "# TV 원그래프\n",
    "ax1.pie(df_tv, \n",
    "        explode = (0, 0, 0, 0, 0, 0, 0.15, 0,0,0.15),\n",
    "       labels = df_tv.index,\n",
    "       autopct = '%1.0f%%',\n",
    "       colors = colors1,\n",
    "       startangle = 90, counterclock = False)\n",
    "\n",
    "# Movie 원그래프\n",
    "ax2.pie(df_movie,\n",
    "        explode = (0, 0, 0, 0, 0, 0, 0.15, 0,0,0.15),\n",
    "       labels = df_movie.index,\n",
    "       autopct = '%1.0f%%',\n",
    "       colors = colors2,\n",
    "       startangle = 90, counterclock = False)\n",
    "\n",
    "ax1.set_title('TV')\n",
    "ax2.set_title('Movie')\n",
    "\n",
    "fig.subplots_adjust(wspace = 0.3) # 서브블록 사이의 공간 조정\n",
    "\n",
    "plt.show()    # 장르의 비교가 쉽도록 장르마다 색을 설정했다.\n",
    "              # Adventure(모험물)와 School(학원물) 2개의 장르에 대해 다음과 같은 것을 알 수 있다.\n",
    "              # Adventure(모험물)\n",
    "              # - Movie에서는 14%(두 번째로 높음), TV에서는 7% (가장 낮음)\n",
    "              # School(학원물)\n",
    "              # - Movie에서는 2%, TV에서는 9%\n",
    "              # 즉, 일상적으로 보는 텔레비전에서는 학교생활 같은 일상을 그린 것의 비율이 비교적으로 많은 것에 비해,\n",
    "              # 영화에서는 비일상적인 모험이 그려진 비율이 높다는 짐작할 수 있다."
   ]
  },
  {
   "cell_type": "markdown",
   "id": "975027bf",
   "metadata": {},
   "source": [
    "# Matplotlib을 활용해 보자!"
   ]
  },
  {
   "cell_type": "markdown",
   "id": "940f24a7",
   "metadata": {},
   "source": [
    "#### Matplotlib에서는 원호, 화살표, 원형, 정다각형, 타원형, 부채꼴, 직사각형, 다각형과 같은 여러가지 모양의 도형을 matplotlib.patches 모듈로 그릴 수 있다."
   ]
  },
  {
   "cell_type": "markdown",
   "id": "c52692b8",
   "metadata": {},
   "source": [
    "# 원호 그리기"
   ]
  },
  {
   "cell_type": "code",
   "execution_count": null,
   "id": "6e136442",
   "metadata": {},
   "outputs": [],
   "source": [
    "# 원호는 matplotlib.patches.Arc 클래스로 그린다.\n",
    "# 원호를 그릴 때는 인수 xy에 듀플형으로 중심 좌표를, 인수 width와 height에 폭과 높이를, angle에 도수로 회전 각도를 지정한다.\n",
    "# theta1과 theta2에는 각각 그림 시작과 종료 각도를 지정한다.\n",
    "# 각도는 모두 0도의 위치를 기준으로 한다.\n",
    "\n",
    "# 예시 45. 원호 그리기\n",
    "import numpy as np\n",
    "import matplotlib.pyplot as plt\n",
    "plt.rc('font', family='NanumBarunGothic')\n",
    "import matplotlib.patches as mpatches\n",
    "\n",
    "# Arc 원호\n",
    "fig = plt.figure(figsize = (3, 3))\n",
    "ax = fig.add_subplot(111)\n",
    "\n",
    "c1 = mpatches.Arc(xy = (0.4, 0.5), width = 0.4, height = 0.4, angle = 30,\n",
    "                 theta1 = 0, theta2 = 230, linewidth = 10, color = 'lightblue')\n",
    "c2 = mpatches.Arc(xy = (0.6, 0.5), width = 0.4, height = 0.4, angle = 30,\n",
    "                 theta1 = 0, theta2 = 230, linewidth = 10, color = 'pink')\n",
    "\n",
    "ax.add_patch(c1)\n",
    "ax.add_patch(c2)\n",
    "\n",
    "plt.show()"
   ]
  },
  {
   "cell_type": "markdown",
   "id": "a9fec77f",
   "metadata": {},
   "source": [
    "# 화살표 그리기"
   ]
  },
  {
   "cell_type": "code",
   "execution_count": null,
   "id": "36e86420",
   "metadata": {},
   "outputs": [],
   "source": [
    "# 화살표는 matplotlib.patches.Arrrow 클래스로 그린다. 화살표를 그릴 때는 인수 x와 y에 각각 시작점 x 좌표와 y 좌표를, \n",
    "# dx와 dy에 시작점 좌표로부터의 폭과 높이를, width에 화살표의 폭을 지정한다.\n",
    "\n",
    "# 예시 46. 화살표 그리기\n",
    "# Arrow 화살표\n",
    "fig = plt.figure(figsize = (3, 3))\n",
    "ax = fig.add_subplot(111)\n",
    "\n",
    "a1 = mpatches.Arrow(x = 0.1, y = 0.4, dx = 0.6, dy = 0.5, width = 0.5, color = 'lightblue')\n",
    "a2 = mpatches.Arrow(x = 0.3, y = 0.1, dx = 0.6, dy = 0.5, width = 0.5, color = 'pink')\n",
    "ax.add_patch(a1)\n",
    "ax.add_patch(a2)\n",
    "\n",
    "plt.show()"
   ]
  },
  {
   "cell_type": "markdown",
   "id": "601c5559",
   "metadata": {},
   "source": [
    "# 화살표의 서식을 보다 상세하게 지정하고 싶은 경우"
   ]
  },
  {
   "cell_type": "code",
   "execution_count": null,
   "id": "f7098b80",
   "metadata": {},
   "outputs": [],
   "source": [
    "# 화살표의 서식을 보다 상세하게 지정하고 싶은 경우에는 matplotlib.patches.FancyArrow 클래스를 사용한다.\n",
    "# FancyArrow 클래스를 사용한 경우 Arrow 클래스에서 지정 가능한 항목을 추가해서 head_width, head_length, shape와 같은 항목의 지정이 가능하게 된다.\n",
    "# head_width는 화살표 끝의 폭, head_length는 화살표 끝의 길이를 지정하는 인수이다.\n",
    "# shape는 화살표의 형태 지정으로 full(전체표시), left(좌측표시), right(우측표시) 지정이 가능하다.\n",
    "\n",
    "# 예시 47. 화살표 그리기 2\n",
    "# FancyArrow 화살표\n",
    "fig = plt.figure(figsize = (3, 3))\n",
    "ax = fig.add_subplot(111)\n",
    "a1 = mpatches.FancyArrow(x = 0.2, y = 0.3, dx = 0.4, dy = 0.3, width = 0.1,\n",
    "                        head_width = 0.3, head_length = 0.2, shape = 'right', color = 'lightblue')\n",
    "a2 = mpatches.FancyArrow(x = 0.2, y = 0.3, dx = 0.4, dy = 0.3, width = 0.1,\n",
    "                        head_width = 0.3, head_length = 0.2, shape = 'left', color = 'pink')\n",
    "\n",
    "ax.add_patch(a1)\n",
    "ax.add_patch(a2)\n",
    "\n",
    "plt.show()\n"
   ]
  },
  {
   "cell_type": "markdown",
   "id": "398883ea",
   "metadata": {},
   "source": [
    "# 원형 그리기"
   ]
  },
  {
   "cell_type": "code",
   "execution_count": null,
   "id": "5034481e",
   "metadata": {},
   "outputs": [],
   "source": [
    "# 원형은 matplotlib.patches.Circle 클래스로 그린다.\n",
    "# 원형을 그릴 때는 인수 xy에 듀플형으로 중심 좌표를, radius에 반지름을 지정해서 그린다.\n",
    "# 도너츠 모양이 그려져 있는 것처럼 보이는 것은 파란 원에 하얀 원을 겹쳐서 그리고 있기 때문이다.\n",
    "\n",
    "# 예시 48. 원형 그리기\n",
    "\n",
    "# Circle 원형\n",
    "fig = plt.figure(figsize = (3, 3))\n",
    "ax = fig.add_subplot(111)\n",
    "c1 = mpatches.Circle(xy = (0.5, 0.5), radius = 0.4, color = 'lightblue')\n",
    "c2 = mpatches.Circle(xy = (0.5, 0.5), radius = 0.2, color = 'white')\n",
    "ax.add_patch(c1)\n",
    "ax.add_patch(c2)\n",
    "\n",
    "plt.show()"
   ]
  },
  {
   "cell_type": "markdown",
   "id": "2b3975fd",
   "metadata": {},
   "source": [
    "# 정다각형 그리기"
   ]
  },
  {
   "cell_type": "markdown",
   "id": "d5575b4f",
   "metadata": {},
   "source": [
    "#### 정다각형은 matplotlib.patches.CirclePolygon 클래스로 그린다. 정다각형의 인수는 원형의 경우와 기본적으로 같지만 resolution이 추가되는 점이 다르다.\n",
    "#### resolution은 그린 원을 근사할 때의 변의 수이다.\n",
    "#### resolution에 6(외측)과 8(내측)을 지정하고 있기 때문에 팔각형으로 흰 부분이 빠진 파란 육각형의 그림이 출력되어 있다."
   ]
  },
  {
   "cell_type": "code",
   "execution_count": null,
   "id": "bd880917",
   "metadata": {},
   "outputs": [],
   "source": [
    "# 예시 49. 정다각형 그리기\n",
    "\n",
    "fig = plt.figure(figsize = (3, 3))\n",
    "ax = fig.add_subplot(111)\n",
    "\n",
    "cp1 = mpatches.CirclePolygon(xy = (0.5, 0.5), radius = 0.4, resolution = 6, color = 'lightblue')\n",
    "cp2 = mpatches.CirclePolygon(xy = (0.5, 0.5), radius = 0.2, resolution = 8, color = 'white')\n",
    "\n",
    "ax.add_patch(cp1)\n",
    "ax.add_patch(cp2)\n",
    "\n",
    "plt.show()\n"
   ]
  },
  {
   "cell_type": "markdown",
   "id": "75ee2bd7",
   "metadata": {},
   "source": [
    "# 타원형 그리기"
   ]
  },
  {
   "cell_type": "markdown",
   "id": "a29a2747",
   "metadata": {},
   "source": [
    "#### 타원형은 matplotlib.patches.Ellipse 클래스로 그린다.\n",
    "#### 타원형을 그릴 때는 인수 xy에 중심 좌표를, width와 height에 폭과 높이를, angle에 회전 각도를 지정한다."
   ]
  },
  {
   "cell_type": "code",
   "execution_count": null,
   "id": "4b643448",
   "metadata": {},
   "outputs": [],
   "source": [
    "# 예시 50. 타원형 그리기\n",
    "# Ellipse 타원형\n",
    "fig = plt.figure(figsize = (3, 3))\n",
    "ax = fig.add_subplot(111)\n",
    "\n",
    "e1 = mpatches.Ellipse(xy = (0.5, 0.5), width = 0.8, height = 0.5,\n",
    "                     angle = 30, color = 'lightblue')\n",
    "e2 = mpatches.Ellipse(xy = (0.5, 0.5), width = 0.5, height = 0.2,\n",
    "                     angle = 30, color = 'white')\n",
    "\n",
    "ax.add_patch(e1)\n",
    "ax.add_patch(e2)\n",
    "\n",
    "plt.show()\n"
   ]
  },
  {
   "cell_type": "markdown",
   "id": "e9483ebc",
   "metadata": {},
   "source": [
    "# 부채꼴 그리기"
   ]
  },
  {
   "cell_type": "markdown",
   "id": "16c32799",
   "metadata": {},
   "source": [
    "#### 부채꼴은 matplotlib.patches.Wedge 클래스로 그린다.\n",
    "#### 부채꼴을 그릴 때는 인수 center에 중심 좌표를, r에는 반지름을 부여한다.\n",
    "#### theta1과 theta2는 각각 베인 자국의 시작점과 종료점의 각도이다."
   ]
  },
  {
   "cell_type": "code",
   "execution_count": null,
   "id": "ea7332b1",
   "metadata": {},
   "outputs": [],
   "source": [
    "# Wedge 부채꼴\n",
    "# 예시 51.\n",
    "fig = plt.figure(figsize = (3, 3))\n",
    "ax = fig.add_subplot(111)\n",
    "\n",
    "w1 = mpatches.Wedge(center = (0.3, 0.55), r = 0.25, theta1 = 30, theta2 = -30, color = 'pink')\n",
    "w2 = mpatches.Wedge(center = (0.7, 0.4), r = 0.25, theta1 = 210, theta2 = 150, color = 'lightblue')\n",
    "\n",
    "ax.add_patch(w1)\n",
    "ax.add_patch(w2)\n",
    "\n",
    "plt.show()\n"
   ]
  },
  {
   "cell_type": "markdown",
   "id": "c03c1704",
   "metadata": {},
   "source": [
    "# 직사각형 그리기"
   ]
  },
  {
   "cell_type": "markdown",
   "id": "6a5429c9",
   "metadata": {},
   "source": [
    "#### 직사각형은 matplotlib.patches.Rectangle 클래스로 그린다. 직사각형을 그릴 때는 인수 xy에 직사각형 왼쪽 아래 각의 좌표를, width와 height에 지정한 좌표부터의 폭과 높이, angle에 회전 각도를 지정한다."
   ]
  },
  {
   "cell_type": "code",
   "execution_count": null,
   "id": "b20282b4",
   "metadata": {},
   "outputs": [],
   "source": [
    "# 예시 52.직사각형 그리기\n",
    "# Rectangle 직사각형 그리기\n",
    "fig = plt.figure(figsize = (3, 3))\n",
    "ax = fig.add_subplot(111)\n",
    "\n",
    "r1 = mpatches.Rectangle(xy = (0.1, 0.4), width = 0.5, height = 0.5, angle = 0, color = 'lightblue')\n",
    "r2 = mpatches.Rectangle(xy = (0.4, 0.1), width = 0.5, height = 0.5, angle = 0, color = 'pink')\n",
    "\n",
    "ax.add_patch(r1)\n",
    "ax.add_patch(r2)\n",
    "\n",
    "plt.show()\n"
   ]
  },
  {
   "cell_type": "markdown",
   "id": "24d98bd7",
   "metadata": {},
   "source": [
    "# 다각형 그리기"
   ]
  },
  {
   "cell_type": "markdown",
   "id": "61dfddea",
   "metadata": {},
   "source": [
    "#### 다각형은 matplotlib.patches.Polygon 클래스로 그린다. \n",
    "#### 다각형을 그릴 때는 인수 xy에 다각형의 꼭지점 좌표를 지정한다."
   ]
  },
  {
   "cell_type": "code",
   "execution_count": null,
   "id": "c70ade23",
   "metadata": {},
   "outputs": [],
   "source": [
    "# 예시 53. Polygon 다각형\n",
    "fig = plt.figure(figsize =(3,3))\n",
    "ax = fig.add_subplot(111)\n",
    "\n",
    "p1 = mpatches.Polygon(xy = [(0, 0.2), (0.3, 0.8), (0.6, 0.2)], facecolor = 'lightblue')\n",
    "p2 = mpatches.Polygon(xy = [(0.4, 0.8), (0.7, 0.2), (1.0, 0.8)], facecolor = 'pink')\n",
    "\n",
    "ax.add_patch(p1)\n",
    "ax.add_patch(p2)\n",
    "\n",
    "plt.show()\n"
   ]
  },
  {
   "cell_type": "markdown",
   "id": "b6374a5a",
   "metadata": {},
   "source": [
    "# 서브플롯의 서식 설정하기"
   ]
  },
  {
   "cell_type": "code",
   "execution_count": null,
   "id": "0488a54d",
   "metadata": {},
   "outputs": [],
   "source": [
    "# 인수           | 설명\n",
    "# facecolor      | 그리기 영역 색\n",
    "# frame_on       | 그리기 유무(True = 그리기, False = 그리지 않음)\n",
    "# xscale, yscale | 'linear', 'log', 'logit', 'symlog'"
   ]
  },
  {
   "cell_type": "code",
   "execution_count": null,
   "id": "a84266af",
   "metadata": {},
   "outputs": [],
   "source": [
    "# 예시 54. 서브플롯 인수설정\n",
    "fig = plt.figure(figsize = (3, 3))\n",
    "\n",
    "# 서브플롯 서식 설정\n",
    "ax = fig.add_subplot(111, facecolor = 'lightblue',\n",
    "                    xlim = [0, 15],\n",
    "                    ylim = [1, 10000],\n",
    "                    yscale = 'log')\n",
    "\n",
    "ax.plot([1, 5, 10], [10, 100, 1000])\n",
    "\n",
    "plt.show()\n"
   ]
  },
  {
   "cell_type": "markdown",
   "id": "46094794",
   "metadata": {},
   "source": [
    "# 서브플롯 사이의 여백 설정하기"
   ]
  },
  {
   "cell_type": "code",
   "execution_count": null,
   "id": "d2dfd382",
   "metadata": {},
   "outputs": [],
   "source": [
    "#### 여백을 설정하지 않은 상태에서 서브플롯을 여러 개 그리면 축은 0부터 1의 범위로 그려져 인접한 그래프와 축 눈금 레이블이 서로 겹쳐진다.\n",
    "\n",
    "# 예시 55. 초기 설정의 여백 설정으로 서브플롯 그리기\n",
    "fig = plt.figure(figsize = (3, 3))\n",
    "\n",
    "ax1 = fig.add_subplot(221)\n",
    "ax2 = fig.add_subplot(222)\n",
    "ax3 = fig.add_subplot(223)\n",
    "ax4 = fig.add_subplot(224)\n",
    "\n",
    "plt.show()"
   ]
  },
  {
   "cell_type": "markdown",
   "id": "d4b57ae4",
   "metadata": {},
   "source": [
    "# 서브플롯 사이의 여백 조정하기"
   ]
  },
  {
   "cell_type": "code",
   "execution_count": null,
   "id": "e84f1f51",
   "metadata": {},
   "outputs": [],
   "source": [
    "# 겹치는 것을 해결하기 위해서 subplots_adjust() 함수를 사용한다.\n",
    "# 즉, 이 함수의 실행에 따라 서브플롯 사이의 여백이 조정된다.\n",
    "\n",
    "# 예시 56. 서브플롯 사이의 여백을 조정해서 그리기\n",
    "fig = plt.figure(figsize = (3, 3))\n",
    "\n",
    "ax1 = fig.add_subplot(221)\n",
    "ax2 = fig.add_subplot(222)\n",
    "ax3 = fig.add_subplot(223)\n",
    "ax4 = fig.add_subplot(224)\n",
    "\n",
    "# 서브 플롯 사이의 여백 조정\n",
    "fig.subplots_adjust(wspace = 0.5, hspace = 0.5)\n",
    "\n",
    "plt.show()         # wspace와 hspace는 각각 행 방향과 열 방향에 합쳐지는 서브플롯 사이의 여백을 설정하는 항목이다.\n",
    "                   # wspace는 테두리 폭의, hspace는 테두리 높이의 평균값을 각각 1로 한 경우의 비율로 부여한다.\n",
    "                   # 그 외에도 좌우상하(left, right, top , bottom)의 여백 설정이 가능하다.\n",
    "                   # 이들 값은 피겨 오브젝트의 폭, 높이를 각각 1로 한 경우의 비율로 부여한다.\n",
    "            "
   ]
  },
  {
   "cell_type": "code",
   "execution_count": null,
   "id": "d2a7b031",
   "metadata": {},
   "outputs": [],
   "source": [
    "# 예시 57. 서브플롯 주위 여백 조정\n",
    "fig = plt.figure(figsize = (3, 3))\n",
    "\n",
    "ax1 = fig.add_subplot(221)\n",
    "ax2 = fig.add_subplot(222)\n",
    "ax3 = fig.add_subplot(223)\n",
    "ax4 = fig.add_subplot(224)\n",
    "\n",
    "# 서브 플롯 주변의 공간 조정\n",
    "fig.subplots_adjust(left = 0.2, right = 0.8, bottom = 0.2, top = 0.8)\n",
    "\n",
    "plt.show()\n"
   ]
  },
  {
   "cell_type": "markdown",
   "id": "f06d0666",
   "metadata": {},
   "source": [
    "# 색 지정과 컬러맵"
   ]
  },
  {
   "cell_type": "markdown",
   "id": "61cb9172",
   "metadata": {},
   "source": [
    "#### 색과 불투명도 설정하기"
   ]
  },
  {
   "cell_type": "markdown",
   "id": "b088465a",
   "metadata": {},
   "source": [
    "#### Matplotlib에서는 다양한 색의 설정이 가능하다.\n",
    "#### 옵션: \n",
    "#### color (오브젝트 색)\n",
    "#### facecolor (채우기 색)\n",
    "#### edgecolor (테두리선 색)"
   ]
  },
  {
   "cell_type": "code",
   "execution_count": null,
   "id": "e591f870",
   "metadata": {},
   "outputs": [],
   "source": [
    "# 또한, 색의 설정과 동시에 불투명도를 alpha 옵션에서 설정할 수 있다.\n",
    "# alpha는 0부터 1의 실수로 설정할 수 있다.\n",
    "# alpha가 1인 경우 오브젝트는 완전히 불투명, 0 인 경우 완전히 투명이 된다.\n",
    "# 변수 z의 플롯과 범례의 불투명도를 조정하고 있다.\n",
    "# 플롯의 채우기 색은 color로, 테두리선의 색은 edgecolor로, 불투명도는 alpha로 지정되어 있다.\n",
    "# 범례의 불투명도를 설정하는 경우에는 인수 framealpha에 값을 부여한다.\n",
    "\n",
    "# 예시 58. 색 설정\n",
    "import matplotlib.pyplot as plt\n",
    "plt.rc('font', family='NanumBarunGothic')\n",
    "import numpy as np\n",
    "\n",
    "x = np.arange(0, 6, 0.1)\n",
    "y = np.sin(x)\n",
    "z = np.cos(x)\n",
    "\n",
    "fig = plt.figure()\n",
    "ax = fig.add_subplot(111)\n",
    "\n",
    "# 그리기\n",
    "ax.scatter(x, y, label = 'sin', color = 'lightblue', edgecolor = 'blue')\n",
    "ax.scatter(x, z, label = 'cos', color = 'lightblue', edgecolor = 'blue', alpha = 0.3)\n",
    "ax.legend(framealpha = 1, loc = 'lower right')\n",
    "\n",
    "plt.show()"
   ]
  },
  {
   "cell_type": "markdown",
   "id": "f5b815c2",
   "metadata": {},
   "source": [
    "# 컬러맵 이용하기"
   ]
  },
  {
   "cell_type": "code",
   "execution_count": null,
   "id": "f8350afd",
   "metadata": {},
   "outputs": [],
   "source": [
    "# 컬러맵은 색의 조합을 정의한 것으로 matplotlib.cm 모듈을 사용해서 설정할 수 있다.\n",
    "# 예시 59. 컬러맵으로 색지정\n",
    "\n",
    "import matplotlib.cm as cm\n",
    "\n",
    "fig = plt.figure()\n",
    "ax = fig.add_subplot(111)\n",
    "\n",
    "x = np.arange(20)\n",
    "y = np.arange(20)\n",
    "\n",
    "ax.scatter(x, y + 5, color = cm.spring(0.5), label = 'spring(0.5)')\n",
    "ax.scatter(x, y, color = cm.get_cmap('winter')(0.5), label = 'winter(0.5)')\n",
    "\n",
    "ax.legend()\n",
    "\n",
    "plt.show()"
   ]
  },
  {
   "cell_type": "markdown",
   "id": "f0484fb4",
   "metadata": {},
   "source": [
    "# 선의 서식 설정"
   ]
  },
  {
   "cell_type": "markdown",
   "id": "ab99b24d",
   "metadata": {},
   "source": [
    "### 선의 색과 굵기 설정하기"
   ]
  },
  {
   "cell_type": "code",
   "execution_count": null,
   "id": "e3d6eecd",
   "metadata": {},
   "outputs": [],
   "source": [
    "# 예시 60.\n",
    "import matplotlib.pyplot as plt\n",
    "import numpy as np\n",
    "plt.style.use('ggplot')\n",
    "\n",
    "x = np.array([0, 1])\n",
    "y = [0, 1]\n",
    "\n",
    "fig = plt.figure(figsize = (9, 3))\n",
    "ax = fig.add_subplot(111, xlim = (-0.2, 4))\n",
    "\n",
    "# 선의 굵기와 투명도를 설정하여 그리기\n",
    "ax.plot(x, y, linewidth = 1, color = 'b', label = 'linewidth=1(alpha = 1.0)')\n",
    "ax.plot(x + 0.1, y, linewidth = 1, color = 'b', alpha = 0.5, label = 'linewidth=1(alpha=0.5)')\n",
    "\n",
    "ax.plot(x + 0.3, y, linewidth = 2, color = 'b', label = 'linewidth=2(alpha=1.0)')\n",
    "ax.plot(x + 0.4, y, linewidth = 2, color = 'b', alpha = 0.5, label = 'linewidth=2(alpha=0.5)')\n",
    "ax.plot(x + 0.7, y, linewidth = 5, color = 'b', label = 'linewidth=2(alpha=1.0)')\n",
    "ax.plot(x + 0.8, y, linewidth = 5, color = 'b', alpha = 0.5, label = 'linewidth=5(alpha=0.5)')\n",
    "ax.plot(x + 1.1, y, linewidth = 10, color = 'b', label = 'linewidth=10(alpha=1.0)')\n",
    "ax.plot(x + 1.3, y, linewidth = 10, color = 'b', alpha = 0.5, label = 'linewidth=10(alpha=0.5)')\n",
    "\n",
    "ax.legend()\n",
    "plt.show()\n"
   ]
  },
  {
   "cell_type": "markdown",
   "id": "1b4eb1e2",
   "metadata": {},
   "source": [
    "# 선의 끝 모양 설정하기"
   ]
  },
  {
   "cell_type": "code",
   "execution_count": null,
   "id": "5e485b08",
   "metadata": {},
   "outputs": [],
   "source": [
    "# 선의 끝 모양은 solid_capstyle에서 설정한다. 끝 모양을 바꾼 선을 그려보았다.\n",
    "# 예시 61. 선의 끝 모양 설정\n",
    "\n",
    "x = [0.1, 1]\n",
    "y = np.array([0, 0])\n",
    "\n",
    "fig = plt.figure(figsize = (6, 3))\n",
    "ax = fig.add_subplot(111, xlim = (0, 1.7), ylim = (-0.2, 1.2))\n",
    "\n",
    "# 선의 끝 모양을 설정하고 그리기\n",
    "ax.plot(x, y+ 1, linewidth=12, solid_capstyle = 'butt', label = 'butt')\n",
    "ax.plot(x, y+ 0.5, linewidth=12, solid_capstyle = 'round', label = 'round')\n",
    "ax.plot(x, y, linewidth=12, solid_capstyle = 'projecting', label = 'projecting')\n",
    "\n",
    "ax.legend()\n",
    "\n",
    "plt.show()\n"
   ]
  },
  {
   "cell_type": "markdown",
   "id": "6b185606",
   "metadata": {},
   "source": [
    "# 선 종류 설정하기"
   ]
  },
  {
   "cell_type": "code",
   "execution_count": null,
   "id": "6d7355ec",
   "metadata": {},
   "outputs": [],
   "source": [
    "# 선의 종류는 linestyle에서 설정한다.\n",
    "# 문자열, 기호, 튜플로 설정할 수 있다.\n",
    "# 예시 62. 선 종류 설정\n",
    "\n",
    "x = np.array([0, 1])\n",
    "y = np.array([1.9, 1.9])\n",
    "\n",
    "fig = plt.figure(figsize = (6,4))\n",
    "ax = fig.add_subplot(111, xlim = (-0.1, 1.7), ylim = (0, 2))\n",
    "\n",
    "# 선 종류를 설정하고 그리기\n",
    "ax.plot(x, y, linewidth = 5, color = 'b', linestyle = 'solid', label = 'solid')\n",
    "ax.plot(x, y - 0.1, linewidth = 5, color = 'b', alpha = 0.5, linestyle = '-', label = '-')\n",
    "\n",
    "ax.plot(x, y - 0.4, linewidth = 5, color = 'b', linestyle = 'dashed', label = 'dashed')\n",
    "ax.plot(x, y - 0.6, linewidth = 5, color = 'b', alpha = 0.5, linestyle = '--', label = '--')\n",
    "\n",
    "ax.plot(x, y - 0.9, linewidth = 5, color = 'b', linestyle = 'dashdot', label = 'dashdot')\n",
    "ax.plot(x, y - 1.0, linewidth = 5, color = 'b', alpha = 0.5, linestyle = '-.', label = '-.')\n",
    "\n",
    "ax.plot(x, y - 1.3, linewidth = 5, color = 'b', linestyle = 'dotted', label = 'dotted')\n",
    "ax.plot(x, y - 1.4, linewidth = 5, color = 'b', alpha = 0.5, linestyle = ':', label = ':')\n",
    "\n",
    "ax.plot(x, y - 1.7, linewidth = 5, color = 'g', linestyle = (0, (5, 2)), label = '(0, (5, 2))')\n",
    "ax.plot(x, y - 1.8, linewidth = 5, color = 'g', linestyle = (4, (5, 2)), label = '(0, (5, 2))')\n",
    "\n",
    "ax.legend()\n",
    "\n",
    "plt.show()"
   ]
  },
  {
   "cell_type": "markdown",
   "id": "8dbb84bd",
   "metadata": {},
   "source": [
    "# 폰트와 텍스트상자 서식 설정"
   ]
  },
  {
   "cell_type": "markdown",
   "id": "8ff302df",
   "metadata": {},
   "source": [
    "#### Matplotlib에서는 서브플롯의 이름, 폭 이름, 범례 등 다양한 문서 오브젝트에 대해 폰트와 텍스트상자의 서식을 설정할 수 있다.\n",
    "#### 폰트의 서식은 matplotlib.font_manager.FontPropteries 클래스로, 텍스트상자에 관한 서식은 matplotlib.text.Text 클래스로 지정한다."
   ]
  },
  {
   "cell_type": "markdown",
   "id": "751c2687",
   "metadata": {},
   "source": [
    "# 텍스트 그리기"
   ]
  },
  {
   "cell_type": "code",
   "execution_count": null,
   "id": "0f521db3",
   "metadata": {},
   "outputs": [],
   "source": [
    "# 예시 63. 텍스트 그리기\n",
    "import matplotlib.pyplot as plt\n",
    "\n",
    "fig = plt.figure(figsize = (3, 3))\n",
    "ax = fig.add_subplot(111)\n",
    "\n",
    "# 텍스트 그리기\n",
    "ax.text(2, 4, 'Text', size = 40)\n",
    "\n",
    "ax.set_xticks([i * 2 for i in range(6)])\n",
    "ax.set_yticks([i * 2 for i in range(6)])\n",
    "\n",
    "ax.grid(linestyle = '-') # 눈금선 그리기\n",
    "\n",
    "plt.show()"
   ]
  },
  {
   "cell_type": "markdown",
   "id": "d947b293",
   "metadata": {},
   "source": [
    "# 폰트 서식 설정하기"
   ]
  },
  {
   "cell_type": "code",
   "execution_count": null,
   "id": "6cb498ce",
   "metadata": {},
   "outputs": [],
   "source": [
    "# 폰트의 서식 세트를 사전형으로 작성해서 지정하는 방법도 있다.\n",
    "# 예시 64. 폰트 설정\n",
    "fig = plt.figure(figsize = (3, 3))\n",
    "ax = fig.add_subplot(111)\n",
    "\n",
    "# 폰트 설정하고 텍스트 그리기\n",
    "ax.text(0.2, 0.6, 'Text', alpha = 0.5, color = 'Red', size = 40)\n",
    "\n",
    "# 폰트 설정하고 텍스트 그리기 (사전 사용)\n",
    "fps = {\n",
    "    'family' : 'fantasy',\n",
    "    'style' : 'italic',\n",
    "    'weight' : 'heavy',\n",
    "    'size' : 40,\n",
    "    'color' : 'Green'\n",
    "}\n",
    "ax.text(0.2, 0.2, 'Text', alpha = 0.5, color = 'Red', fontdict = fps)\n",
    "\n",
    "ticks = [0.2 * i for i in range(6)]\n",
    "ax.set_xticks(ticks)\n",
    "ax.set_yticks(ticks)\n",
    "ax.grid(linestyle = '-')\n",
    "\n",
    "plt.show()     # 아래 그림의 상단은 폰트 설정을 직접 인수로 부여한 예, \n",
    "               # 하단은 사전으로 부여한 예이다.\n",
    "               # 하단에서는 사전으로 색을 초록색으로 지정하고 있지만, 실제 그림 색은 직접 지정한 레드가 되어 있다.\n",
    "               # 이처럼 사전으로 부여한 서식은 인수로 부여한 서식에 따라 덮어 쓰여진다."
   ]
  },
  {
   "cell_type": "markdown",
   "id": "170e8eb1",
   "metadata": {},
   "source": [
    "# 텍스트상자 서식 설정하기"
   ]
  },
  {
   "cell_type": "markdown",
   "id": "70279889",
   "metadata": {},
   "source": [
    "#### 텍스트상자의 서식은 인수 bbox에서 설정할 수 있다.\n",
    "#### 텍스트상자의 채우기 색, 테두리 선의 색과 굵기 등을 지정할 수 있다.\n",
    "#### 상단 문자열은 텍스트상자의 서식을 사전형식으로 부여해서 설정되어 있고,\n",
    "#### 하단의 문자열은 서식을 개별로 부여해 설정하고 있다."
   ]
  },
  {
   "cell_type": "code",
   "execution_count": null,
   "id": "e0ac974a",
   "metadata": {},
   "outputs": [],
   "source": [
    "# 예시 64. 텍스트상자 서식 설정\n",
    "fig = plt.figure(figsize = (3, 3))\n",
    "ax = fig.add_subplot(111)\n",
    "\n",
    "# 텍스트상자 서식 사전\n",
    "boxprops = {\n",
    "    'facecolor' : 'pink',\n",
    "    'edgecolor' : 'red',\n",
    "    'alpha'     : 0.5,\n",
    "    'boxstyle'  : 'Sawtooth',\n",
    "    'linewidth' : 2\n",
    "}\n",
    "\n",
    "# 텍스트상자 그리기\n",
    "ax.text(0.07, 0.5, '텍스트 상자\\n서식 사전에 따른\\n설정', bbox = boxprops, size = 18)\n",
    "ax.text(0.07, 0.2, '채우기색 설정', bbox = {'alpha' : 0.2}, backgroundcolor = 'Blue', size = 16)\n",
    "\n",
    "ticks = [0.2 * i for i in range(6)]\n",
    "ax.set_xticks(ticks)\n",
    "ax.set_yticks(ticks)\n",
    "ax.grid(linestyle = '-')\n",
    "\n",
    "plt.show()"
   ]
  },
  {
   "cell_type": "markdown",
   "id": "978112b9",
   "metadata": {},
   "source": [
    "# 파일 출력"
   ]
  },
  {
   "cell_type": "markdown",
   "id": "812763db",
   "metadata": {},
   "source": [
    "#### PNG나 SVG과 같은 형식으로 파일을 출력하는 방법과 출력할 때 피겨 조정 방법에 대해 설명한다."
   ]
  },
  {
   "cell_type": "markdown",
   "id": "d6ca358f",
   "metadata": {},
   "source": [
    "## 파일 출력하기"
   ]
  },
  {
   "cell_type": "code",
   "execution_count": null,
   "id": "ae6502d6",
   "metadata": {},
   "outputs": [],
   "source": [
    "# 파일 출력에는 savefig() 함수를 사용한다.\n",
    "# 예시 65. 파일 출력\n",
    "\n",
    "import matplotlib.pyplot as plt\n",
    "\n",
    "fig = plt.figure()\n",
    "ax = fig.add_subplot(111)\n",
    "\n",
    "dat = [1, 3, 2]\n",
    "\n",
    "ax.plot(dat)\n",
    "\n",
    "fname = '/content/drive/MyDrive/ColabNotebooks/Basic_Python/save_fig.svg'     # 파일 저장 형식은 format 옵션에서 'PNG', 'PDF', 'PS, 'EPS', SVG 등을 지정할 수 있는데 \n",
    "                           # 파일명을 저장하고 싶은 형식에 대해 확장자를 붙이는 것으로 저장 형식이 자동 판별된다.\n",
    "plt.savefig(fname)\n",
    "\n",
    "plt.show()"
   ]
  },
  {
   "cell_type": "code",
   "execution_count": null,
   "id": "0ada8cdf",
   "metadata": {},
   "outputs": [],
   "source": []
  }
 ],
 "metadata": {
  "kernelspec": {
   "display_name": "Python 3",
   "language": "python",
   "name": "python3"
  },
  "language_info": {
   "codemirror_mode": {
    "name": "ipython",
    "version": 3
   },
   "file_extension": ".py",
   "mimetype": "text/x-python",
   "name": "python",
   "nbconvert_exporter": "python",
   "pygments_lexer": "ipython3",
   "version": "3.8.10"
  }
 },
 "nbformat": 4,
 "nbformat_minor": 5
}
