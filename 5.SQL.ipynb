{
 "cells": [
  {
   "cell_type": "code",
   "execution_count": null,
   "id": "84bf1914",
   "metadata": {},
   "outputs": [],
   "source": [
    "from urllib.request import urlopen\n",
    "import sqlite3\n",
    "import pandas as pd"
   ]
  },
  {
   "cell_type": "code",
   "execution_count": null,
   "id": "ae550252",
   "metadata": {},
   "outputs": [],
   "source": [
    "anime_db = 'http://raw.githubusercontent.com/practical-jupyter/sample-data/master/anime/anime.db'\n",
    "res = urlopen(anime_db)\n",
    "with open('/content/drive/MyDrive/ColabNotebooks/Basic_Python/anime/anime.db', 'wb') as f:\n",
    "    f.write(res.read())\n",
    "    with sqlite3.connect(f.name) as conn:\n",
    "        df = pd.read_sql('SELECT * FROM anime', conn)"
   ]
  },
  {
   "cell_type": "code",
   "execution_count": null,
   "id": "64eef9dd",
   "metadata": {},
   "outputs": [],
   "source": [
    "df.info()"
   ]
  },
  {
   "cell_type": "code",
   "execution_count": null,
   "id": "01093b3d",
   "metadata": {},
   "outputs": [],
   "source": [
    "df.head()"
   ]
  },
  {
   "cell_type": "markdown",
   "id": "e559279d",
   "metadata": {},
   "source": []
  },
  {
   "cell_type": "markdown",
   "id": "e7757f9e",
   "metadata": {},
   "source": [
    "# 참조: https://rfriend.tistory.com/322"
   ]
  },
  {
   "cell_type": "markdown",
   "id": "c02f07bc",
   "metadata": {},
   "source": [
    "# 참조2: https://www.w3schools.com/sql/trysql.asp?filename=trysql_select_all\n",
    "# 주의:구글 Chrome 또는 Firefox 브라우저만 사용가능합니다."
   ]
  },
  {
   "cell_type": "code",
   "execution_count": null,
   "id": "0710be80",
   "metadata": {},
   "outputs": [],
   "source": []
  }
 ],
 "metadata": {
  "kernelspec": {
   "display_name": "Python 3",
   "language": "python",
   "name": "python3"
  },
  "language_info": {
   "codemirror_mode": {
    "name": "ipython",
    "version": 3
   },
   "file_extension": ".py",
   "mimetype": "text/x-python",
   "name": "python",
   "nbconvert_exporter": "python",
   "pygments_lexer": "ipython3",
   "version": "3.8.10"
  }
 },
 "nbformat": 4,
 "nbformat_minor": 5
}
